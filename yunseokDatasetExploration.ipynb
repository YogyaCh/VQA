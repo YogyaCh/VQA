{
 "cells": [
  {
   "cell_type": "markdown",
   "id": "1b4468a8-1cf7-418c-8ccf-fd9cefcf6a15",
   "metadata": {},
   "source": [
    "## Step 1\n",
    "- Load the DataSet\n",
    "- Organise Text Using Time Stamps\n",
    "- Extract Question\n",
    "- Extract Answer\n",
    "- Extract Trancript"
   ]
  },
  {
   "cell_type": "code",
   "execution_count": 1,
   "id": "72ae9b0c-db17-4ca0-8227-ee72bd1f7114",
   "metadata": {},
   "outputs": [],
   "source": [
    "# loading the json data\n",
    "\n",
    "import json\n",
    "\n",
    "file_path = \"../dataset.json\"\n",
    "\n",
    "# Open the file in read mode\n",
    "with open(file_path, 'r') as json_file:\n",
    "    # Load JSON data from the file\n",
    "    data = json.load(json_file)\n",
    "\n",
    "# Now 'data' contains the JSON data from the file"
   ]
  },
  {
   "cell_type": "code",
   "execution_count": 15,
   "id": "449e5b12-3ad9-420b-acb4-7775e8320167",
   "metadata": {},
   "outputs": [
    {
     "name": "stdout",
     "output_type": "stream",
     "text": [
      "2332\n"
     ]
    }
   ],
   "source": [
    "# Data Size\n",
    "print(len(data))"
   ]
  },
  {
   "cell_type": "code",
   "execution_count": 13,
   "id": "13105250-a276-4ebe-b0c2-eabdb0e413fd",
   "metadata": {},
   "outputs": [],
   "source": [
    "def group_elements_by_video_id(json_data):\n",
    "    \"\"\"\n",
    "    Groups elements in JSON data based on the 'videoID' field.\n",
    "\n",
    "    Args:\n",
    "    json_data (dict): A dictionary containing JSON data where each key represents a JSON element.\n",
    "                      Each JSON element should contain a 'videoID' key.\n",
    "\n",
    "    Returns:\n",
    "    dict: A dictionary where keys are unique 'videoID' values and values are lists of JSON elements with the same 'videoID'.\n",
    "    \"\"\"\n",
    "    grouped_elements = {}\n",
    "    for key, value in json_data.items():\n",
    "        video_id = value.get(\"videoID\")\n",
    "        if video_id:\n",
    "            if video_id not in grouped_elements:\n",
    "                grouped_elements[video_id] = []\n",
    "            grouped_elements[video_id].append(value)\n",
    "    return grouped_elements"
   ]
  },
  {
   "cell_type": "code",
   "execution_count": 16,
   "id": "28b53f52-c44e-44e7-a16c-6da62f3c9859",
   "metadata": {},
   "outputs": [
    {
     "name": "stdout",
     "output_type": "stream",
     "text": [
      "2004\n"
     ]
    }
   ],
   "source": [
    "# Grouping data based on video id to see if tere are questions on same video\n",
    "grouped_data = group_elements_by_video_id(data)\n",
    "\n",
    "print(len(grouped_data))"
   ]
  },
  {
   "cell_type": "code",
   "execution_count": 33,
   "id": "8ff8ffb0-2247-48db-8ac9-d55b9760776d",
   "metadata": {},
   "outputs": [
    {
     "name": "stdout",
     "output_type": "stream",
     "text": [
      "Video ID: 3ah9UPsY1IU\n",
      "Video ID: LogWmfXfxgk\n",
      "Video ID: c5AXj6afENc\n",
      "Video ID: AXCh6rW2LbY\n",
      "Video ID: EtVkwVKLc_M\n",
      "Video ID: 5UJFTRWXDPo\n",
      "Video ID: 7xDmCLP5mhY\n",
      "Video ID: W0ZF5SnYTzM\n",
      "Video ID: Ju7gza7ExhU\n",
      "Video ID: 5xs8jcoHTwg\n",
      "Video ID: ZkGfslseYWA\n",
      "Video ID: J1DILo1Ewao\n",
      "Video ID: YADYD28wIWU\n",
      "Video ID: WActrrC9cr0\n",
      "Video ID: AJtMlTnqyw0\n",
      "Video ID: W8KJKwq2R3s\n",
      "Video ID: CGmJbwvt3Hk\n",
      "Video ID: MLdveEPhkXA\n",
      "Video ID: T7mYB6x68DY\n",
      "Video ID: krkIPLlMwgk\n",
      "Video ID: TOlyjhgtTEc\n",
      "Video ID: qgpPfSiLjr0\n",
      "Video ID: SCWoI0X4jw0\n",
      "Video ID: 9nff7C9vv1s\n",
      "Video ID: u_M5MaxLL5U\n",
      "Video ID: sv3TXMSv6Lw\n",
      "Video ID: y0mfNWKBQp0\n",
      "Video ID: 5Sa9nYKiYg0\n",
      "Video ID: 7AGLY0Pgd94\n",
      "Video ID: ZQv7MbbbUZw\n",
      "Video ID: Oslnt9Zr9Jw\n",
      "Video ID: UPqnb6fbW_o\n",
      "Video ID: YQ9kGMas-Xc\n",
      "Video ID: K18LPVV_71Q\n",
      "Video ID: TglNG-yjabU\n",
      "Video ID: VTnDslKW6y0\n",
      "Video ID: WUbNIzWSNR4\n",
      "Video ID: RRKMtAWjQ3U\n",
      "Video ID: XWSJyNlAIRk\n",
      "Video ID: 9JIPrE0aY2I\n",
      "Video ID: WWsY8IaoAV8\n",
      "Video ID: uF7uw3wb5xQ\n",
      "Video ID: 3JKN2AV1qQQ\n",
      "Video ID: 8fNzjUGbVT8\n",
      "Video ID: 7rC80DafNWs\n",
      "Video ID: lR-oJvKJyUY\n",
      "Video ID: GCnbCKX8m8o\n",
      "Video ID: bJFrO05Hwq0\n",
      "Video ID: Xzw3FFR0Ksc\n",
      "Video ID: yt0imxrGmHg\n",
      "Video ID: GpiXeAbWof0\n",
      "Video ID: W8UCRPcWN14\n",
      "Video ID: K9J_LifGUH8\n",
      "Video ID: 3Rg0jWF-vKA\n",
      "Video ID: _wJ2oMUocco\n",
      "Video ID: fuGM7zkeLl8\n",
      "Video ID: PJDpvSBJ1Zs\n",
      "Video ID: -y2zXVDguvU\n",
      "Video ID: rjaiZ6cvfZM\n",
      "Video ID: RLW5fSJd03s\n",
      "Video ID: BPl7D20F2mE\n",
      "Video ID: U_NtTBTGp20\n",
      "Video ID: Of9TH5ntne0\n",
      "Video ID: O4qazwRvO6E\n",
      "Video ID: RVIX3UTX3A4\n",
      "Video ID: huX0Dn3RZJE\n",
      "Video ID: 5xjGq6lL4BA\n",
      "Video ID: DhbMnQt14_o\n",
      "Video ID: LQyiGbRC5S8\n",
      "Video ID: 9uT2gUFDJGo\n",
      "Video ID: N5oN_4fV4Sc\n",
      "Video ID: AuHoroY75I4\n",
      "Video ID: Gcr3Z1--KIU\n",
      "Video ID: DrzWGUGN6vY\n",
      "Video ID: IvGDHj5fo7s\n",
      "Video ID: sUwy71ddj1M\n",
      "Video ID: Gy--7hcBFps\n",
      "Video ID: 3rHNLNDGuh4\n",
      "Video ID: 9ZDY8Lpj6Hg\n",
      "Video ID: DVHlC8CwNzs\n",
      "Video ID: RECaepj8LkU\n",
      "Video ID: ut7nAdIQRcQ\n",
      "Video ID: -EiAN6oa_oY\n",
      "Video ID: o8Bd8G21Vv8\n",
      "Video ID: 2NyF5bKlkT0\n",
      "Video ID: 9AXe0XczeEs\n",
      "Video ID: 4k8vUmU5Myk\n",
      "Video ID: 9Gsl4yPkoVI\n",
      "Video ID: If8yJXCK4tc\n",
      "Video ID: btOrnq1rTGI\n",
      "Video ID: Ohy1DELF4is\n",
      "Video ID: Wm2oOc7be10\n",
      "Video ID: Au0qiArKPo8\n",
      "Video ID: UffylDMiV04\n",
      "Video ID: HzWe3zP2Tcc\n",
      "Video ID: K_HqrgdbugM\n",
      "Video ID: ipxs3GvNw8w\n",
      "Video ID: 4zZ4Iw9Cims\n",
      "Video ID: 4XXky5Mo5p8\n",
      "Video ID: TCVTOa01uN8\n",
      "Video ID: axZKuF_T1pI\n",
      "Video ID: OxcWDrPAeWM\n",
      "Video ID: G4F9JjXB5Cg\n",
      "Video ID: M5xXIG2MEpM\n",
      "Video ID: X6N2gS4xuIY\n",
      "Video ID: LnC5-o44C9A\n",
      "Video ID: bApIQxcWnus\n",
      "Video ID: R4lDU9ckbtA\n",
      "Video ID: Pal3xbx09M4\n",
      "Video ID: qOQws77j_6c\n",
      "Video ID: ZJ4JjS10FC8\n",
      "Video ID: DOKiRQDH3Sc\n",
      "Video ID: 64M8UTnmv3g\n",
      "Video ID: 5sEorxitG78\n",
      "Video ID: -2FGNhtOy0c\n",
      "Video ID: jaLp_aDOIlo\n",
      "Video ID: laDCWmGXcco\n",
      "Video ID: f8QUF51FA30\n",
      "Video ID: 8_hTByG1vmE\n",
      "Video ID: Z0oFJ2jbkDI\n",
      "Video ID: ldeSd6RYaKg\n",
      "Video ID: L-SB614KZTs\n",
      "Video ID: uyKEE4gkv5g\n",
      "Video ID: s0LkNM2ojZA\n",
      "Video ID: Z2IfBInJPj8\n",
      "Video ID: ey2N3r0G2Sc\n",
      "Video ID: ffl97dcOUPQ\n",
      "Video ID: RR-Gaq0TDv4\n",
      "Video ID: xP1gtXNM844\n",
      "Video ID: pBGXksqYzeQ\n",
      "Video ID: ohj8fSLeqQU\n",
      "Video ID: 4c8Kdcr_lyg\n",
      "Video ID: juWaO5TJS00\n",
      "Video ID: TGVysowUfeo\n",
      "Video ID: Bbq3vvV0MX4\n",
      "Video ID: K-CrEi0ymMg\n",
      "Video ID: Gm5buGvRixw\n",
      "Video ID: oqNU0-ORkbA\n",
      "Video ID: NvgnUSN-Epw\n",
      "Video ID: FItUE3rwKuo\n",
      "Video ID: 2Mb23tK2lLg\n",
      "Video ID: Ted5W7gD8KM\n",
      "Video ID: Fy5aPF4V4pw\n",
      "Video ID: k-DH2f4cfW4\n",
      "Video ID: Vwz97FSPF5U\n",
      "Video ID: gKG85XXgZKo\n",
      "Video ID: sOmVqjuUHAM\n",
      "Video ID: fdeb-Zswehs\n",
      "Video ID: 9SV7-c4xt8I\n",
      "Video ID: 9866dmfJxUU\n",
      "Video ID: mxiAlA7YwIM\n",
      "Video ID: Gvvc3zCjLPk\n",
      "Video ID: ReR_UcOf7E8\n",
      "Video ID: hYFT24RobCU\n",
      "Video ID: 6Zt0IkTXZeE\n",
      "Video ID: bEDxl0A2pl0\n",
      "Video ID: z2FyAvKZ2Zc\n",
      "Video ID: lQlX79qxBO4\n",
      "Video ID: eFMLO396aPY\n",
      "Video ID: e1fA_Dq8IGM\n",
      "Video ID: uEKtDm5Q6oE\n",
      "Video ID: cp6ZAmtbDj8\n",
      "Video ID: KOIuFJrIkQU\n",
      "Video ID: qGOyGbPmtLw\n",
      "Video ID: -uBNkmZyByg\n",
      "Video ID: Muf5XyZXmO0\n",
      "Video ID: F4_181ke7AQ\n",
      "Video ID: sw2vgldTxSo\n",
      "Video ID: 0b2octCGvRE\n",
      "Video ID: BjUTrn1Lv0E\n",
      "Video ID: stlegG1daNM\n",
      "Video ID: 587RuL45jS8\n",
      "Video ID: TYVJbupG3Xg\n",
      "Video ID: Shenzm6VoGQ\n",
      "Video ID: 3gho3ZHKnZo\n",
      "Video ID: 2FfLdeukZEE\n",
      "Video ID: H2FnGm75ImY\n",
      "Video ID: GIF-E76Qw2I\n",
      "Video ID: N5jC_sIFRWc\n",
      "Video ID: 71s47oYccTo\n",
      "Video ID: rmWgOiQtqoM\n",
      "Video ID: 1VNSvkZ_D_c\n",
      "Video ID: QFWq07nJvC0\n",
      "Video ID: Fk624cZitKk\n",
      "Video ID: o7X2nOtwdUM\n",
      "Video ID: Pm6Gd3L2lO8\n",
      "Video ID: lov7Pol3aMA\n",
      "Video ID: 5fIaUK1fQwA\n",
      "Video ID: of1CGDQrcKQ\n",
      "Video ID: KONe4SNFA64\n",
      "Video ID: fSH3V3sxkCs\n",
      "Video ID: BaNswDWPwo0\n",
      "Video ID: 5kIThC_aliU\n",
      "Video ID: 8lIgXnU9oNk\n",
      "Video ID: Vb8fRWtqRmg\n",
      "Video ID: y4D1KtVetKM\n",
      "Video ID: jBGolNzSFgQ\n",
      "Video ID: gyB6lMyW7dU\n",
      "Video ID: Up7QJ4gvDQ8\n",
      "Video ID: AKHYS_Zgpww\n",
      "Video ID: wyuec0PPz68\n",
      "Video ID: 36KU2qTJPJA\n",
      "Video ID: R8b1bF44qT0\n",
      "Video ID: xSqbXl5m4_o\n",
      "Video ID: HJWpQb1bexc\n",
      "Video ID: sNWjTU6KYso\n",
      "Video ID: es8SJ-1CFcU\n",
      "Video ID: U2HS_hswGmQ\n",
      "Video ID: Aqj0o44Bwfs\n",
      "Video ID: -RjJtO51ykY\n",
      "Video ID: Fz1hobau6IM\n",
      "211\n"
     ]
    }
   ],
   "source": [
    "count = 0\n",
    "for video_id, elements in grouped_data.items():\n",
    "    if len(elements) > 1:\n",
    "        count+=1\n",
    "        print(f\"Video ID: {video_id}\")\n",
    "print(count)"
   ]
  },
  {
   "cell_type": "code",
   "execution_count": 24,
   "id": "a1cc6d6a-ab51-44be-906f-48593d1baf66",
   "metadata": {},
   "outputs": [],
   "source": [
    "def concat_captions_from_grouped_data(grouped_data):\n",
    "    \"\"\"\n",
    "    Concatenates captions from the grouped data, taking one caption per group from the first element of each group.\n",
    "\n",
    "    Args:\n",
    "    grouped_data (dict): A dictionary where keys are unique 'videoID' values and values are lists of JSON elements with the same 'videoID'.\n",
    "\n",
    "    Returns:\n",
    "    dict: A dictionary where keys are unique 'videoID' values and values are concatenated captions from the first element of each group.\n",
    "    \"\"\"\n",
    "    concatenated_captions = {}\n",
    "    for video_id, elements in grouped_data.items():\n",
    "        if elements:  # Ensure there are elements in the group\n",
    "            first_element = elements[0]  # Get the first element of the group\n",
    "            if first_element.get(\"caption\"):\n",
    "                caption_texts = [caption[\"text\"] for caption in first_element[\"caption\"]]\n",
    "                concatenated_captions[video_id] = \" \".join(caption_texts)\n",
    "    return concatenated_captions"
   ]
  },
  {
   "cell_type": "code",
   "execution_count": 27,
   "id": "ea82443e-1acc-467f-acef-acd71c3b0e8e",
   "metadata": {
    "scrolled": true
   },
   "outputs": [
    {
     "name": "stdout",
     "output_type": "stream",
     "text": [
      "Hey Good morning Everybody today! I'm going to show you how to make a holiday treat that is a favorite for a lot of people and these features ridiculously easy to make and you don't have to bake them which is really nice for a change and it only takes a few ingredients. Okay, so we're gonna be making rum balls today and yes, I am using real rum for this and if you want to use the extract now I don't know how much you need. Basically what you'd have to do is just add some and you know, adjust it to taste. but the first thing to do is get your sweet condensed milk in a big bowl and combine it with the rum. I Always keep this stuff at room temperature because it's really hard to get out of the can if you have it in the refrigerator. so measure the rum quarter cup and mix that in. Just let's not sit, add the gram crumbs and the cocoa now. I Always use a spoon and measure the cocoa directly over the container to try to minimize the mess because powdered cocoa can make quite a mess. especially if you some recipes tell you've got to sift the cocoa. I find that if you add it to the crumbs and just work it with a spatula for a little bit, all the lumps come out pretty fast. So after that mix down I cut off the top of the pack or coconut and basically just grab half of it. You don't even need to measure it because you're going to be using half for the ingredient and half to coat it in after. So just kind of pinch the package there like that and just set this on the side for later, fold it over, gently, mix it on the coconut to the crumbs. So now let's check on the wet ingredients. Yeah, you can see just in that little bit of time. the rhombus worked all the way through, so just add I put in about half of the dry. get that mixed in fast. It just makes it easier than doing all the dry at once. Now you can just put the rest in all at once. Now you do want to let this rest a bit just for the time it's going to take for the wet ingredients to soak into the crumbs and it will thicken up a bit because you want this thick enough to be able to form the balls. and right now you I'm just gonna transfer this to another Bowl and just pop this in the fridge for a bit so it's easier to work with. I Had to go out for a while. These have been in the fridge for a few hours, which is fine because they set up real nice. Now there's a couple ways you can do this. I've got a spoon here to make these of course. make sure you wash your hands well before you start and what I do is I put some coconut on a plate I leave a bit in in case it gets a bit mucky and one plate to roll in one plate to put them on. so just scoop some up with a spoon to decide how much you want in each run ball and basically just rolling between your hands till you've got sort of a ball shape which is good enough. Drop it in the coconut, just kind of move it around till it's coated and just put them on the plate and just keep going on. Yeah, one tip, if you get tired of doing them one by one, you can just roll up a few and just drop them in the coconut and then roll them one by one. As you want though, there are the rum balls all finished. As you can see, it makes about two dozen good-sized ones give or take one or two for taste testing of course. I hope you try these and I hope you like them. Thanks for watching I'll see you again.\n"
     ]
    }
   ],
   "source": [
    "# Concatenate captions from the grouped data\n",
    "concatenated_captions = concat_captions_from_grouped_data(grouped_data)\n",
    "\n",
    "print(list(concatenated_captions.values())[0])"
   ]
  },
  {
   "cell_type": "code",
   "execution_count": 41,
   "id": "9ebe89b6-dc6a-4270-80a9-e15ec533beaf",
   "metadata": {},
   "outputs": [],
   "source": [
    "def extract_questions_and_ocrs_per_video_id(grouped_data):\n",
    "    \"\"\"\n",
    "    Extracts separate dictionaries for questions and OCRs per video ID from grouped data.\n",
    "\n",
    "    Args:\n",
    "    grouped_data (dict): A dictionary where keys are unique 'videoID' values and values are lists of JSON elements with the same 'videoID'.\n",
    "\n",
    "    Returns:\n",
    "    tuple: A tuple containing two dictionaries - one for questions and one for OCRs per video ID.\n",
    "    \"\"\"\n",
    "    questions_per_video_id = {}\n",
    "    ocrs_per_video_id = {}\n",
    "    for video_id, elements in grouped_data.items():\n",
    "        questions = [element[\"question\"] for element in elements]\n",
    "        ocrs = [element[\"ocr\"] for element in elements]\n",
    "        questions_per_video_id[video_id] = questions\n",
    "        ocrs_per_video_id[video_id] = ocrs\n",
    "    return questions_per_video_id, ocrs_per_video_id"
   ]
  },
  {
   "cell_type": "code",
   "execution_count": 42,
   "id": "54dff04a-1c35-4aed-a500-e7f566c1bc19",
   "metadata": {},
   "outputs": [
    {
     "name": "stdout",
     "output_type": "stream",
     "text": [
      "['where is a list of the amounts of ingredients.  i would like to make them but i do not want to guess']\n",
      "['300ml can sweetened condensed milk  400gm graham crumbs  1/4 cup dark rum  1/4 cup cocoa powder  200gm unsweetened  dessicated coconut']\n"
     ]
    }
   ],
   "source": [
    "# Extract questions and OCRs per video ID\n",
    "questions, ocrs = extract_questions_and_ocrs_per_video_id(grouped_data)\n",
    "\n",
    "print(list(questions.values())[0])\n",
    "print(list(ocrs.values())[0])"
   ]
  },
  {
   "cell_type": "markdown",
   "id": "ea7535ad-e9e7-4bde-a29a-70ca34d69d61",
   "metadata": {},
   "source": [
    "## Step 2\n",
    "\n",
    "1. Tokenize the text (both transcript and questions) into words or subwords using nltk\n",
    "2. Remove stop words (both document and questions)\n",
    "3. Perform stemming and lemmatization\n",
    "4. Entity recognition or part-of-speech tagging"
   ]
  },
  {
   "cell_type": "code",
   "execution_count": 53,
   "id": "64ff9d23-6736-45db-9c3a-0110104a40d9",
   "metadata": {},
   "outputs": [
    {
     "name": "stderr",
     "output_type": "stream",
     "text": [
      "[nltk_data] Downloading package punkt to /Users/yogyach/nltk_data...\n",
      "[nltk_data]   Package punkt is already up-to-date!\n",
      "[nltk_data] Downloading package stopwords to\n",
      "[nltk_data]     /Users/yogyach/nltk_data...\n",
      "[nltk_data]   Package stopwords is already up-to-date!\n",
      "[nltk_data] Downloading package wordnet to /Users/yogyach/nltk_data...\n",
      "[nltk_data] Downloading package averaged_perceptron_tagger to\n",
      "[nltk_data]     /Users/yogyach/nltk_data...\n",
      "[nltk_data]   Unzipping taggers/averaged_perceptron_tagger.zip.\n"
     ]
    },
    {
     "data": {
      "text/plain": [
       "True"
      ]
     },
     "execution_count": 53,
     "metadata": {},
     "output_type": "execute_result"
    }
   ],
   "source": [
    "import nltk\n",
    "from nltk.tokenize import word_tokenize\n",
    "from nltk.corpus import stopwords\n",
    "from nltk.stem import PorterStemmer, WordNetLemmatizer\n",
    "from nltk import pos_tag\n",
    "\n",
    "# Download necessary resources\n",
    "nltk.download('punkt')\n",
    "nltk.download('stopwords')\n",
    "nltk.download('wordnet')\n",
    "nltk.download('averaged_perceptron_tagger')"
   ]
  },
  {
   "cell_type": "code",
   "execution_count": 44,
   "id": "d9526180-1797-42ce-80d5-445361d70f63",
   "metadata": {},
   "outputs": [],
   "source": [
    "def tokenize_captions(concatenated_captions_per_video_id):\n",
    "    \"\"\"\n",
    "    Tokenizes concatenated captions per video ID into words using NLTK.\n",
    "\n",
    "    Args:\n",
    "    concatenated_captions_per_video_id (dict): A dictionary where keys are unique 'videoID' values and values are concatenated captions.\n",
    "\n",
    "    Returns:\n",
    "    dict: A dictionary where keys are unique 'videoID' values and values are tokenized caption lists.\n",
    "    \"\"\"\n",
    "    nltk.download('punkt')\n",
    "    tokenized_captions_per_video_id = {}\n",
    "    for video_id, concatenated_caption in concatenated_captions_per_video_id.items():\n",
    "        tokenized_captions_per_video_id[video_id] = word_tokenize(concatenated_caption)\n",
    "    return tokenized_captions_per_video_id"
   ]
  },
  {
   "cell_type": "code",
   "execution_count": 45,
   "id": "16ee6138-fb7a-4a21-a509-ee7a24c3910b",
   "metadata": {},
   "outputs": [],
   "source": [
    "def tokenize_questions(questions_per_video_id):\n",
    "    \"\"\"\n",
    "    Tokenizes questions per video ID into words using NLTK.\n",
    "\n",
    "    Args:\n",
    "    questions_per_video_id (dict): A dictionary where keys are unique 'videoID' values and values are lists of questions.\n",
    "\n",
    "    Returns:\n",
    "    dict: A dictionary where keys are unique 'videoID' values and values are lists of tokenized questions.\n",
    "    \"\"\"\n",
    "    nltk.download('punkt')\n",
    "    tokenized_questions_per_video_id = {}\n",
    "    for video_id, questions in questions_per_video_id.items():\n",
    "        tokenized_questions_per_video_id[video_id] = [word_tokenize(question) for question in questions]\n",
    "    return tokenized_questions_per_video_id"
   ]
  },
  {
   "cell_type": "code",
   "execution_count": 46,
   "id": "ffc85fc8-94ba-4235-91f4-0f31608a2c5c",
   "metadata": {},
   "outputs": [
    {
     "name": "stderr",
     "output_type": "stream",
     "text": [
      "[nltk_data] Downloading package punkt to /Users/yogyach/nltk_data...\n",
      "[nltk_data]   Package punkt is already up-to-date!\n",
      "IOPub data rate exceeded.\n",
      "The Jupyter server will temporarily stop sending output\n",
      "to the client in order to avoid crashing it.\n",
      "To change this limit, set the config variable\n",
      "`--ServerApp.iopub_data_rate_limit`.\n",
      "\n",
      "Current values:\n",
      "ServerApp.iopub_data_rate_limit=1000000.0 (bytes/sec)\n",
      "ServerApp.rate_limit_window=3.0 (secs)\n",
      "\n",
      "[nltk_data] Downloading package punkt to /Users/yogyach/nltk_data...\n",
      "[nltk_data]   Package punkt is already up-to-date!\n"
     ]
    }
   ],
   "source": [
    "# Tokenize concatenated captions per video ID\n",
    "tokenized_captions = tokenize_captions(concatenated_captions)\n",
    "print(\"Tokenized captions per video ID:\", tokenized_captions)\n",
    "\n",
    "# Tokenize questions per video ID\n",
    "tokenized_questions = tokenize_questions(questions)\n",
    "print(\"Tokenized questions per video ID:\", tokenized_questions)"
   ]
  },
  {
   "cell_type": "code",
   "execution_count": 47,
   "id": "ada76ed1-e675-4ccb-bd5f-06de92ea6f24",
   "metadata": {},
   "outputs": [],
   "source": [
    "def remove_stopwords(tokens):\n",
    "    \"\"\"\n",
    "    Removes stop words from a list of tokens using NLTK's list of stopwords.\n",
    "\n",
    "    Args:\n",
    "    tokens (list): A list of tokens.\n",
    "\n",
    "    Returns:\n",
    "    list: A list of tokens with stop words removed.\n",
    "    \"\"\"\n",
    "    stop_words = set(stopwords.words('english'))\n",
    "    filtered_tokens = [word for word in tokens if word.lower() not in stop_words]\n",
    "    return filtered_tokens"
   ]
  },
  {
   "cell_type": "code",
   "execution_count": 49,
   "id": "a0ad3198-1015-4a9d-b67a-5defc74f0f3d",
   "metadata": {},
   "outputs": [],
   "source": [
    "filtered_captions = remove_stopwords(tokenized_captions)"
   ]
  },
  {
   "cell_type": "code",
   "execution_count": 50,
   "id": "013fe244-2e36-4404-9ded-61fc7cb8d1e6",
   "metadata": {},
   "outputs": [],
   "source": [
    "def perform_stemming(tokens):\n",
    "    \"\"\"\n",
    "    Performs stemming on a list of tokens using NLTK's Porter Stemmer.\n",
    "\n",
    "    Args:\n",
    "    tokens (list): A list of tokens.\n",
    "\n",
    "    Returns:\n",
    "    list: A list of stemmed tokens.\n",
    "    \"\"\"\n",
    "    stemmer = PorterStemmer()\n",
    "    stemmed_tokens = [stemmer.stem(token) for token in tokens]\n",
    "    return stemmed_tokens\n",
    "\n",
    "def perform_lemmatization(tokens):\n",
    "    \"\"\"\n",
    "    Performs lemmatization on a list of tokens using NLTK's WordNet Lemmatizer.\n",
    "\n",
    "    Args:\n",
    "    tokens (list): A list of tokens.\n",
    "\n",
    "    Returns:\n",
    "    list: A list of lemmatized tokens.\n",
    "    \"\"\"\n",
    "    lemmatizer = WordNetLemmatizer()\n",
    "    lemmatized_tokens = [lemmatizer.lemmatize(token) for token in tokens]\n",
    "    return lemmatized_tokens\n",
    "\n",
    "def perform_pos_tagging(tokens):\n",
    "    \"\"\"\n",
    "    Performs part-of-speech tagging on a list of tokens using NLTK's POS Tagger.\n",
    "\n",
    "    Args:\n",
    "    tokens (list): A list of tokens.\n",
    "\n",
    "    Returns:\n",
    "    list: A list of tuples where each tuple contains a token and its corresponding part-of-speech tag.\n",
    "    \"\"\"\n",
    "    pos_tags = pos_tag(tokens)\n",
    "    return pos_tags\n"
   ]
  },
  {
   "cell_type": "code",
   "execution_count": 55,
   "id": "c8e61a23-86c2-4afa-b4a6-1025a9fc18ac",
   "metadata": {},
   "outputs": [
    {
     "name": "stdout",
     "output_type": "stream",
     "text": [
      "Stemmed text: ['lsm1v844z1e', 'x0jofzoydcq', 'nefdqw1ewuw', '1s8x3hexio8', 'jfnxpmt6h_i', 'cocmvmr8zi', 'wkj569sjayg', 'wekw3n8vrv8', 'dcx6qmrw57o', 'bthaywxtbdi', 'mwrhhiaj7nc', 'gfejhb5lfd', 'bwmni3wcitg', '0aeyr1b6fgw', 'n7al_xbgv5', '0_ad-pbjqg', 'hybgtiglmlw', 'powymedenhk', 'ujzr2prnedw', 'sbrxq_bcdl', 'h0nn6pjv_fc', 'b5ubotkth6m', 'frhq8c6jwj0', 'aayu2znslb0', 'w69noyjyrr8', 'g3zeufrn-og', '91jrtuuvlq', 'm4ehjmjjun8', '3ah9upsy1iu', '9hjulkhseo4', 'uf-h0v2lyeu', '79bgzj26ozm', '-tsnxdsq15q', 'coolgdg5vbi', 'w8ywcm6eg9', 'logwmfxfxgk', '80oov72cwsm', 'bwzebtwksoa', 'sqz46tu8u4k', '11_az8dxzi', 'uq2pxclzrw', 'dggvp6vshzg', 'cgih0zhtoqg', '8teusxkaw9q', 'shxhrhtgscc', 'ibkpe0izhf', 'xgdbs3b3rnk', '3a70sgbigau', 'tkze8prkie0', 'ck5abatnwno', 'xi0dab8jdm', 'cfii5m3-at0', '022y0pfkjdg', 'ovn1qmzwlu', 'ftfxzsfzixq', 'nacfue7svsa', 'hhzm523ly6', 'eijbvpnbpvu', 'v_7qbuzfzim', 'iqrbnog0vai', 'hwniejmic9k', '1xyzl8ekh-w', 'jrd5xaqfgaa', '8qcu5uyk4oq', 'fzmq0lmik0g', 'tdxqplp4lbi', '3ac7zgjdxda', 'sdprkfwsv5w', '-2jgvkcmnx0', 'k0sisjlio-w', 'cwzjmp57_jw', 'c5axj6afenc', 'axch6rw2lbi', 'i6ysbhxj0sa', 'uha7zrt0fl0', 'tfclbnm5mge', 'etvkwvklc_m', '5ujftrwxdpo', '5ojfj19hpqa', '7xdmclp5mhi', 'imhj3awyz60', '3edrum6i-3w', 'pbvfjqy1gpi', '8sqbjlwu9ig', 'r7rdyaa5aro', 'w0zf5snytzm', 'y9mjwlxbmqw', 'uk-8axl9lya', 'lavahcw-jp0', 'lzvirid-jl0', 'rwglcpaoazo', 'tjmlzgyxwe4', 'm_eojskti4w', 'ju7gza7exhu', 'i7ghlxnuhvw', '5xs8jcohtwg', 'zkgfslseywa', 'l7mug_y4bzm', 'cpqjwjnskqu', 'tnz8rlgwkig', 'li97w6quww4', 'y1gbhfixovw', 'j1dilo1ewao', 'uhi59jfb3n8', 'bwdpeys_dd', 'apz9l_r76oc', 'zeu4ozx8ack', 'yadyd28wiwu', 'tut_ulzsdy0', 'wjkueuhpoa', 'f2deya8swmc', 'sd1dnhkxdhe', 'ddpft0xytrg', 'kk8kapvrkuu', '7qzttglgqdc', 'rbhcw6n9akw', '8deegbkoykq', 'ooglyikiio', 'w0t1m84i4e0', 'g2wtmfurt5o', 'h-8lunkwko0', '7sbulzlhxk0', 'wactrrc9cr0', 'd3usc-kmkc4', 'tmktmp9zib4', 'okqnz7mtuwa', 'gkpk0zqdvnu', 'ulwaaoizodu', 'ajtmltnqyw0', 'tl6rulgpzqg', 'uwah2e0gpz4', '9lag7rxwtkc', 'i9og5cd2l0o', 'm2vw2sogau', '-auvcej5dyg', 'myohp5v3voo', 'rpanhedsbuq', 'nprso_v6914', 'w8kjkwq2r3', 't8op6jzuzgw', 'uz5-kvgr4wi', 'w2ghb8k7vbw', 'p86oiktzuao', 'jw7xuj2ghoy', 'xy_tda0rac4', 'bpdamawhlkc', '-d7yp_en4yq', 'j8hsweatyag', 'zjibvobt9li', 'hgcpyuau-s4', '2klq-fkuuj8', '19ow0g8syng', 'xvqzcmxyqyk', 'cgmjbwvt3hk', '_exrif-g_hi', 'bbeetdcxnfi', 'ghlsq4jya48', 'zz4izk5ixay', 'iukknz2ye-8', 'fg30rywdnk0', 'hyqmpnxta5u', '01hutxdbdu4', 'y0r5ro1jjqm', 'nzgf1vsbso4', 'klgvl6it48c', 'vodfqcrxpxc', 'bkwlxcfckti', 'ybmf1m8t5ju', 'xno4ah_t38i', 'mldveephkxa', '6mcfvaeljqu', 'okshrpnk0iu', '-xtr7ngjzdc', '8vuwcv_6cxm', 'eztazewqsjm', '7adwykl7od4', '6lpatw4nthq', 'xd7ptvs9el', '_x-eri-tym8', 'q4l8jzf9tvk', 'lleczae0-eg', 'm31n0n2lte8', '5kwwudikd9m', 'f1cc8fkt0c0', 'ykysh_kvgim', 'hqoo8e8pcp', 'f5552nf5qga', 'eoc83jhkcaw', '7ny5dgsvrio', 'ukzxpiz1ngi', 't7myb6x68di', 'krkipllmwgk', 'meotupcx4ba', 'syh3z0hp1wo', 'wyaz3qdxyig', 'epo6zcz703m', 'a-1msnb016m', 'tolyjhgttec', '-hfxu3binli', 'flt0bxexuy', 'ws8h1x-cocm', '1erwsurqez', 'qgppfsiljr0', 'jqvoe-x9obi', 'scwoi0x4jw0', 'we5djgqwk9w', 'h2fvgzfcycc', 'j2bejwfe6_o', '9cb01p8wwf4', 'qtrkufmt9bm', '5wehj_w2m-0', 'x4oiz61tgk4', '8lp8qxu5mvo', 'mrwuonmnqeg', 'bvn1fk-quio', '9nff7c9vv1', 'xu1uncqdfo', '6put1vwhngi', 'ixxwm8m8_xc', 'mubymz-gcgw', 'f0ygrxhfv54', '_qxgnxuz3mk', '-tchscnzwmo', 'ibpefln94nu', 'hnjmc1mkxt0', 'esyqhbqtgri', 'rk4xdyt3ick', 'ufroaqkb3ec', 'nspgnombv4q', 'fae29ow0xli', 'u_m5maxll5u', '97vk7vi4x-m', 'tqx5w9li6wq', 'j25v-heafvk', '70cgdoqqsro', '4etnj-mem1c', 'pionrsup76w', 'oywq_hldqyq', 'pxrqadx7a3a', 'oj8ic0ax5go', 'mplawpnozc', '78zw4elx8ha', 'sv3txmsv6lw', 'fnzqondknu8', 'y0mfnwkbqp0', 'fkl9_bdthq0', '1kepkjiukao', 'lpujtqehj1g', 'x4eegl8j4wg', '1ktiv-v24og', 'r_j0jsifh9i', '5sa9nykiyg0', 'szq1rnxwpss', 'fccq6thzwiw', 'kshlofhuds0', 'at9uohldfum', '6j9jmxv51j0', 'exgyq9slk50', 'd2udbu2-4km', 'znibcwaaogo', '7agly0pgd94', 'cj8posm7ty', '8j7pipkrwhq', '_jvysewhnwu', 'caeyo8espii', 'ei4cepeizl8', '5icuu8pdl9i', 'we3gk118v1c', '2wiqeivgf7k', 'xcxs84zhsvo', 'zqv7mbbbuzw', 'l9cbipviy8a', '3ogx5ipc5ao', 'ujsewm6zxjk', 'ghmbvpxx4au', 'oyrlevzy4zw', '5i8f2hni0q', '6_bdrswhmw0', 'rvwghgu9jj4', 'vmhgtyjyx2u', 'bajwdxfwndo', '_ozezbetjr0', 'vwnn6qedkb8', '3fvwwd90j_0', 'n7lnxgnl3va', 'tiwksxbbebg', '5ut65s_jnki', '9bbs8ssntb4', '7kamwv85qui', 'edsluuaonn0', 'ry6qtb0-y3u', 'fpgf69ikcw0', 'sg8suxp3st8', 'fpczijla9vk', 'plbv0bsuffu', 'i_knhb4gumm', 'vnwf2krih10', 'fzul9pael6u', 'vbspr2p0yym', 'yenzlqxazng', '0sqzsr4rrci', 'oslnt9zr9jw', '-uj2yesgmza', 'jdf7gvkgn-g', '-uvedw852pi', 'upqnb6fbw_o', 'gf3hbmd9nqo', 'kpoh654pbl', 'yq9kgmas-xc', '_haqesifkyu', 'ala1d1uhsyu', 'l36avjqwp9a', 'anr6_hxy_mi', '9pc2xxyi6kq', '3r3tpxzn5t8', 'zdk6kniphqg', 'or2-gxhfauo', 't_vrbbrpr3c', 'lqdccyzadtg', '6vn_q0j6t6i', 'fsuv_qzoxd', '3-tkob9oci0', 'ckw-wb76ax8', '4mfoecdtxdq', '6qe-rzvvfyu', 'k18lpvv_71q', 'rjhiowavem8', 'okdy71jqya8', 'ksdy99fntr', 'tca3ucps3_o', 'eie-ltn74ik', 'mcn29r2uayo', '8ts-lcgaihm', 'caiqbp-6ol4', '7gtrucgdspc', 'j6klfwi2kc4', 'rdj22vxxys8', 'w6ovfqgb-s8', 'myzfzmcrfu4', 'tglng-yjabu', 'vtndslkw6y0', '8mfw5d5qek8', 'yezfr3eyxk', 'lputxhzm9f', 'vfitusxnzpm', 'fu1oo6qp4ba', 'wubnizwsnr4', 'wmvhgl-bcnq', 'rrkmtawjq3u', '7agizgrcsc0', 'xwsjynlairk', 'kcxgvrsmtgm', 'coeu3iua-sg', 'el0qqbl4cw4', '9jipre0ay2i', '89fvcn5s_8c', 'mwzp-guhql', 'wum3zjsl0w4', 'pyqk9l-kmqu', 'qchr_vocf0', 'jzsdrteqchu', 'nbfttji2nni', 'humledmhmv8', 'kc5cni9ju5u', 'jan2jibrhgw', 'szl6vvt4e4e', '8_ycnpz83lg', 'ytxd2hkocxm', 'u3ukb0m8pu8', 'g-tgu9w3afc', 'wwsy8iaoav8', '-jpoerqbav4', 'uf7uw3wb5xq', 'xf7uqmn2rti', 'rp2dy8czn_c', 'yc3ormzzc08', 'sx1egd9bny4', '0dkt53gotya', 'omuaabbnpx8', 'hsm1w_b0ik', 'sarx-idfbyq', '8dr4fkzhcey', 'n286bibenqk', 'fhm03-s9c5g', '3jkn2av1qqq', 'alqdlll40fg', 'g6zq0gc0bz0', 'y8scba-keeu', 'hiepiotg_m', '_17twxlaf30', '2gvlcn5nbx', 'ralgfbm9q0k', 'ufluyghmknw', '37pzurgtmj8', '8fnzjugbvt8', '1rdja6hmgyg', '7rc80dafnw', 'dxktcakdjy8', 'lr-ojvkjyuy', 'hw-_wa1psi8', 'aw_xdxdtdmc', 'gcnbckx8m8o', '2xc1s7c3sii', 'e_r0aoczvn', '2sdbemvqov', '0x0cczfwgfw', 'hqmvcp31kvw', 'po0lm1ctiv8', 'qajnqynjxb', 'ezrcimypski', '41rwkaufmj', '4vnuamgog58', 'hjk373zodv8', 'v9w5e9i5bw4', 'ppjhjsitlnk', 'neeghgliqey', 'ygy9ml9y6yk', '-p8we9tmojq', 'pljsldtzzlo', 'uubdmjor-bk', 't395mdaxgnk', 'byxx17mpcf4', '8qltxc0fy4k', '-dldmqucqdi', 'lwkbh6tjsjg', 'z7g3zaglcyc', 'nsakxrfllbi', 'ysjp4bqyezm', '5auu9qhq13q', 'jamqfqk1_i8', 'pzni14ylapi', '4tggth1i3wc', 'bjfro05hwq0', 'fqcepnffpy8', '5u6cz0bn_f8', '8tuzd_55tik', 'xsbsb8egkr8', 'vxws6yoopmg', 'e0n0nprefhi', 'jrr5c2ccib0', '0ca4vn_ywfo', '-ymum-wa1xi', 'xzw3ffr0ksc', 'zj_lv6hzb78', 'yt0imxrgmhg', 'f6hhni7rpzu', '8l0dm16br3q', 'nyyxerec2zk', 'gpixeabwof0', '7mmaw_ttxki', 'ih9xf4bja3u', 'kab5d2klnoi', 'natyq5akak', 'w8ucrpcwn14', 'a5lcyla2lb4', 'qx7jbhn7ixk', 'wug-u8l1mk8', '7d1aaqefcok', 'g3vbenl1nqg', 'ricsouya-wi', 'ciscwl-m2n0', 'dspq2ggh4om', 'oishj_ibadw', 'v6__dec5fmi', 'k9j_lifguh8', 'xnuxqbwmrgw', 'njkmadwya0g', '3rg0jwf-vka', 'wx80ad4f8_0', 's8nzpafqh5u', '_wj2omuocco', 'yojfwp57y1i', '58wqjv3qws8', 'hrliscrh8da', 'w0ya6lpe2ca', 'qv8yexem3uu', 'g7qdne1vvb', 'ck2ehdehelk', '7-y8lsfahw4', 'nnzju8dd7i8', 'cvcqv0chbwi', 'xnc9spfh590', 'fugm7zkell8', 'pjdpvsbj1z', 'x2ku0ojcrhw', '3f38yfy3oo8', 'nd5w8efalfq', '3dwimpgon40', 'bv74s1zo4a0', 'aex1alf8yg4', 'dkslxsuvpl4', 'qq7jx-s0peo', 'k8d6leyw47u', '1abnf6y-bq', 'ybundphddbo', 'i5g9im24lfu', 'y-2q2hi_gvk', 'be2s46_kgpm', 'ug5ms0gpfmw', 'ppqk7yn0-4o', 'iq6lt0drysi', 'irqrottqt58', 'kqo3kkzttwc', 'fafehmnfe3g', 'kop8gn95hr', 'gxlewxyu620', '6vxphla7ld8', 'km_avkdm5hu', 'fjbhplyvbu', 'rechwbjg7ak', '7knxdmlratm', 'gb_jrmvul0g', '6kb3fyke-g4', '8im7nkpeqz', '3tvnpoh1fa', 'g5frrzhsnj8', 'wm797p0kprw', 'cv_wc4p8qx4', '9w9kwxlnviu', 'qi0hpqcnejq', '-wqfyo6zsti', '3gjkygdrn5i', '9qnpb9nazqg', 'khhv6k70-la', 'elq1uybj-jq', 'nsprbjvfde8', 'sx9lt3akraw', 'g6xiixx-7e', '2it89xca9vk', 'wreddx9aegw', 'mueibsakwli', 'r4lzd4hval4', '0amkjlngaf', '-y2zxvdguvu', 'bxzbg-xlv6q', 'nwqb2achwmi', 'xanolgxuwyw', 'jj_vbgyxsu', '_alqm159oi4', 'ysdsxogrtu', 'rjaiz6cvfzm', 'puogkwg4a70', 'atbz59u2g5i', 'rlw5fsjd03', 'jez6pmphlew', 'aleuwciodgq', 'fgslzcicxz8', 'lwzfb8q9jde', 'qm8bujo2eam', 'r4niok6h9uy', '_qfvizmqlg', 'm9fmeygx35', 'x8vjhex8cza', '3ogjm4nssmw', 'zcn-lspmwxi', '-0bvypvvjsi', '0llqlk-pwfm', 'bpl7d20f2me', 'asxkyqkze4k', 'rcwqypouq9u', 'u_nttbtgp20', '0xofhpymaeu', '3abayur59sk', '-59lks8oyq4', '3a75obmdsym', 'czwhbzeg2s4', 'lip_euqb4l8', 'ifhtgodzoxa', 'ks_jmgkf7ci', '2t-tju7b_e8', 'w4j0plciujm', '8g1xl023f0a', 'gborq1xo_r', 'xwjsigpnecq', 'wusihlh7z7i', '2sela-8bf9q', 'ol068cu113i', 'o_j-jsp3cbk', 'altdjg0awbu', '9wsp5ftqgdi', 'ihfpinr7y1g', 'tpznfhy-cic', 'umpvziint-g', 'je6yigbwvtw', '0ll8h0gkbb4', 'trc0zfqzbz0', 'i-zphkdnuca', 'spgku2e-jdw', 'd1b7wbsaooi', 'bd408m0bkxq', 'gyrhotvikzi', '4b-i9khiba', 'of9th5ntne0', 'zwedlzb110g', 'vriztclhztc', 'ns_rmdf1enq', 'i5zn0nytghi', 'wqqb2traaxg', 'ffronfejdkg', 'gassonu0jqk', 'qo7afro5wmw', 'ufj4h3bo08k', '0uivs_i1kb4', 'e3p5odbzkcg', '-sutmux4vbk', 'fgtwe6dkku4', 'waaqyqdgr5k', 'mqeyfhqi3_0', 'wf-qaz0avg', 'k-yazbbf3g', 'o4qazwrvo6', 'a5ohrf_l3b8', 'f9vdqs-fhic', 'wnlvqyueqdu', 'sveirinsdwk', 'zopiwvovcpq', 'cyujifm4h_w', 'mifi4tcrwqa', 'ca3reolafpc', 'ylhrcaslbj0', 'yg5nlqvg4vi', 'j3orznxnva0', 'm-ewpnonedq', 'rvix3utx3a4', 'z6-iceazca4', 'z1ggwtfbnei', 'hrc5sh2zu2m', 'j4twlmg3fhm', 'd-jb4fsbslk', '2qpm85vhjbi', 'mvtq_x6elii', 'gjtxry0jtaa', 'z5i1taj7pzc', 'anbhtlhlhf4', '1yyoy7fibcm', 'mroe7mznx3u', 'ybezot8rvw4', '7usty3kc1yq', 'mgvlbvwmmaq', 'i9jn9gq0pj', 'pr_ai3cm2-a', 'fnstevyjjfo', 'dxqnpcijlz0', 'rxgdwl-mwm', '_n1oed2ip20', 'vf2sot0rszu', 'hux0dn3rzj', 'ti7n6_tunc0', '9f-9jrlbfvk', '9hslhbtea14', 'vhbuvvpu3_i', 'v448iimbx8u', '9xczwl3hd4', 'pg1cnnvhcqw', 'pkov25vdiu4', 'xex8cpv8cta', 'aar2xdedz2', '6d064riwvjm', 'm6fxiwabwai', 'azny9hgmmnw', '5xjgq6ll4ba', 'o_n1_-sezku', 'c2opt44anvm', '6ustemoi1ek', 'ivg3ae-ucm4', 'pzowqw9hda4', 'qptaqff04h4', 'lrvqqas4wya', 'do8nuw96u0u', 'cvtlukm6p-0', 'tvl3dgdsnhi', '2h6h95tgv90', 'llyldaxr1j', 'fibiwrxcd1i', '8acjy8haqhc', 'grgdp1evymm', 'dcoexfaqif0', 'dg10l4er_du', 'zpmkhevpp3u', '7axydbow8v8', 'uh1lqrpoor', 'x4hgfcakhkg', '2zqhrfcetdk', 'acu-mqefzzi', '6xt-h4hr8vg', 'vftpqdi6vxi', 'aqk9jadm1bk', 'ikybabtzgvo', '7t-6hlig8cg', 'exmjnyl5by8', '1nae_7m8nd0', 'dhbmnqt14_o', 'gfwm74ocsfi', 'nuaiavwddoc', 'bkotqczm1fg', '4ezp2o9z5j0', '9byuuaatmkm', 'kpy-t6yoslo', 'lqyigbrc5s8', 'yvr383ip-fc', 'xa23kan7kr8', '9ut2gufdjgo', '6f-ltq6tdg8', '7s2ukkoj6bi', 'h6r-rh_essq', 'dzlr00ceank', 's5iamwqwgb0', 'b392ftpr7g8', '078em8ejh04', '232xa2e8riq', 'n5on_4fv4sc', 'auhoroy75i4', 'gcr3z1--kiu', 'bbjhqnr05xo', 'n3k9lwz48rw', '_pb_ijpjgx8', 'ccgekwotgck', 'p65q6efpnz', 'pgaaoiww_t0', 'hxuho62rerw', 'ovjvgb4pa2m', 'kwekxhb_c6a', 'jjn8buovqx8', '4folx0orjo', 'ax7a9b9ybju', 'tizdcv-uiuq', 'l5kjfpsb4om', 'fzwu2noj614', 'sax2p_k_mb4', 't3uwa6-sphi', 'evhif-ptomq', '1zwwpozshui', 'h1ilh47cubu', 'r8zmg0vuz9', 'bj5tdzihgxg', 'u4rqusfnn6k', 'nubdcbzixn', 'ob51uwzg2i8', 'odnqwcudm6i', '-hkkfp03ghm', 'nuxqzfopz8i', 'd9zvlkqmm6m', 'jajnrtmvgt0', 'wkfqilz6weg', '1tqjyola4k0', 'bslbvccuv6', '-r8ehndd738', 'drzwgugn6vi', 'k__dxk2tdm', '85jz9nffqso', 'si6vy3xkep8', '5ypow3wr88k', 'ivgdhj5fo7', 'jogarlqniv8', 'muhvxaophjk', 'ro0hg5qy5em', 'n3msspnrdgi', 'suwy71ddj1m', 'nujclr8o3hi', 'vvlbsgurnsq', '9tsdfd52kca', '3bqpeetwgku', 'dfcm5papjik', 'grh1gszdviw', 'muhglaoxvyo', 'rorgi2mjf8o', 'bupzv1xqm8k', 'ef-9i38ud4', 'bpo5ztu47ao', 'uv44apozy1i', 'gy--7hcbfp', 'unhjsgpc_p0', 'pveunfjhnhi', '5f8pedsumb0', 'mhzrsw4zwdo', '-mk8elqnu-', '3rhnlndguh4', 'tmws48wknvk', 'al39bs8vx9q', 'mqhzjv7rd1q', 'c8v2f5goxzk', '9pzwau4xehq', '4ro1nra5u1o', 'arglxpvstvu', 'hshiu8thrq0', 'q6y5gpx1j0c', 'oqbzve_eme', 'tksz09wkatc', '5odz4m8vati', '9zdy8lpj6hg', 'xnscpweaz8k', 'h5qdd9u2ski', '9kclom-1mdw', 'qgiyoehuvey', 'x4gdscrbv0q', 'igim_ixojmq', 'uvms-4h5rpk', 'vgpix--ez9', '0vt0mzab50g', '6obpchogp-i', 'aimzuxqluii', 'ggr410cz73o', 'ifskxfmjbuq', 'k-vttgb_48w', 'dvhlc8cwnz', 'vjq7-knqkmo', 'tvnwlrrziam', 'kcvmzi9yo4m', 'vy-eccndy70', 'mh5bgcyyfp4', 'jbwtdqjxhp0', 'ladumjqtiaw', '0rkvjc37ltq', 'qpbp7_2uxa0', 'vpmrx5lncsk', 'zpxnz04c7ck', 'wktxb2ljzdu', 'jty4wjrszy8', 'recaepj8lku', '6yvnwr2rno8', 'ut7nadiqrcq', '-eian6oa_oy', 'o8bd8g21vv8', 'd69rpu_lhm0', 'ngs6cteibjk', 't0wwu-jly2m', '28jzj3nueci', 'dcr1uz3s1ca', '-egoxsy9muw', 'iu4jxvg8isw', '_oeww5gkeww', '-0flv5drjwc', 'ypuzh6qla_c', 'r1ja45smou4', 'ftccsmoz3-o', 's67cubey06', 'yy44c40olpi', 'rlm4fxh2tii', 'ix3qhsgq8ou', 'noqkqufpn3m', 'boyvlkfi8gu', '2nyf5bklkt0', '7rijnktjva0', 'vfwbevfh88i', 'cvuof_iau5u', '7tsrbqx7ave', 'a6gaferzrwg', '0aj8qii7pew', '6zyb1kzu4ji', '-j6_wfbzmt8', '9yr5q8zbmpu', 'dodwr3yqbhq', 'q0-qpakxf-o', 'txslou0qecu', 'nsinpqjwtw4', 'kheb6pm73q', 'b3xkgqbekzi', 'pwnde1lddi8', 'k8g9q___cj0', '9axe0xcze', 'ind5oclnhss', '8ppd6umqmf4', 'jdwcv6z9rl8', 'z7-awkxpfy0', '4yspzcirpxw', 'or_3xwrxl90', '93vqaf4agek', 'n0voq6pglx8', 'b0tp_wndjce', 'sxoxpq9uoai', '9uiuaq2h9w4', 'q0dhvwa5iq4', 'dfctfewa_tw', 'cuetq9r_z3', '4k8vumu5myk', '823vpuphjxo', '24toqyc2rt4', 'rmduhakqwrg', '2sixrdglbiy', '4u4krzfntg0', 'exzipisahzu', 'sw_graoimwk', '3qm0h8a8baw', 'mavonjjszyg', 'pxcyi-t6qau', '8pa_a4e9u_8', 'k5rqwwsu3nk', 'prl8f14ppz', 'w-h9tsy2xbo', '9gsl4ypkovi', 'lud5ait4m', '0vhxm-whbwg', 'uyw7_1lxk8i', '5mc-jeg-nh', 'vpamme5co0o', 'nh2oqz7qwuy', 'dkobhsduz4', 'if8yjxck4tc', 'vrtwq_xzezm', 'wwrnobkrp0o', 'qr2iza2vg6', '0gcnsuktb5m', 'c691_uh56ng', 'st5uynxowng', 'emouoqxxg5', 'dx-7utykpf', '6dwa56tkwq8', 'btornq1rtgi', 'shsgrxqmw_', 'urppqi903zi', 'ohy1delf4i', 'ineljzwktx0', 'lpyxdaq1nho', 'f5-nfxqjfzu', 'wm2ooc7be10', '5gc04xiud5', 'xjpz0-ehpuk', '9tz2iigidjg', 'i_qyb7xxy4k', 'mvzlxlaidjq', 'xlftc_4qbm0', 'viz-ius4yek', 'tte4lhqfxpu', 'ew4ik3l7zwg', 'i822pc9kw7i', 'au0qiarkpo8', 'nyjyxptclo', '6mliuiwlbbw', 'bfmxjhhdfmu', 'qwibqbm-el', 'uasaijk2bh', 'cidqt1ftgyk', 'acfuzcxjxac', 'v9xy3sl6n7a', 'spsrbgnjura', 'dvp2zxbymgg', 'aixsgphxt6m', '0ve_yrsp500', 'tgp_bmm8ffw', 'vhk2pvjyjug', 'tgs104v4bfg', 'r0qdfifqgkk', '0b0jk2fz_tq', 'hoxopi-kqe4', 'o-okxshudxu', '9ostz4esbzi', '8bnt6urmzim', 'fft3a3st54u', 'xkusi8elgrc', '4clctl5j0og', 'uffyldmiv04', 'wz02ayddima', '_ow3ecxv8w', 'm6t5jogxchi', 'yl3uwiiry7m', 'k3ungdkrbrw', 'q_xcfm3bhc0', 'jufkss2tmto', 'lfbw_agnxy', 'n6cmkr1jhni', 'uvbmfbsnrx', '0azmjksae1u', '-wr-fyuqc6i', 'mknsb0zrgb0', 'e_1c4evds2q', 'sevw5quqdsu', 's5p2wuxkeag', 'b2bvwarorsc', 'tu9zv1c08rk', 'ew3sym4t2tw', '-gixowey6iq', 'swt29xdzzsa', '4tyfpbeuv-m', 'hzt7ozbxh-a', 'hzwe3zp2tcc', '_jt26jfnkog', 'nugb9picsx', 'wygmqzkxwgw', 'naiqyopcjnm', 'ryovxwwohyy', 'k_hqrgdbugm', 'ovijj_kc0em', 'ipxs3gvnw8w', 'm0wwhvw7e8', '8scjksirp0a', 'vdwjnafkeuc', 'e2tofbmlugu', 'noyhfguvbhu', 'v5qpxhstb5i', 'clyfacgapli', 'ndlv4zxnrss', 'oxiauqrmcwu', 'adkerzcawru', 'hgmfngn_jqa', '5wtnaoxscz', 'klzphtik2li', 'ryyyy4nkzdg', '0sz9_amo_qg', '9m5nf-uvwki', '4zz4iw9cim', 'p0n5kpytns8', 'g-yaswyml', 'ni8vjiaa1-m', 'pk-vz0hrqji', 't6h-gokubi8', 'dewxowfqabk', 'xzrishxuslu', 'y5kpzp2t52u', 'z4thsvsptn8', 'kmh08kq2vtq', 'jbwua2njpuc', 'frikor0ontw', 'p7cr8xhnnmc', '4xxky5mo5p8', 'es7hbhsauqi', 'okovxfusypk', 'lmbz5vasp_k', 'bcoxv9p0h2u', 'b_ggibm9b-g', 't5uox2spo_w', 'pvpzt5xn0w8', '-gr2esrs5um', 'n6j9phdueg8', 'tedf6xi_-8i', 'ewnmifjl2tg', 'vfwzmkqk1a8', 'szwryma7w4c', '6k8bhyeikiu', 'c7frhkytqy', '0uatfa_wota', 'vnhq5u-mmxw', '7peb7tqwic', 'tcvtoa01un8', 'axzkuf_t1pi', 'sr7extrt9su', 'et4wee-jvq8', 'oxcwdrpaewm', 'oetrgq8fbqa', 'bhjhnxgs6tu', 'm5kpiaynmi', 'hpv5ep8yvr8', 'eigfm1hjswg', 'ck3imjbs_h4', 'euy6y-8t36u', 'gknmdkjcjko', '554yq5wrpz', '6bqvgljqwtq', 'g4f9jjxb5cg', 'v-dkpuj7k8m', 'wspmlp84bbm', 'm5xxig2mepm', 'ebkilq2wfig', 'fgz2vcpzbp', '8qit966koc4', 'ml3nujyycew', '_g2gcbxy8za', 'x6n2gs4xuiy', 'rfodrzzuhp0', '8z-u2pmji4', 'lnc5-o44c9a', 'e0zkxkaakma', 'ww4s_9pwy10', 'zznex4h0iya', 'ruvpyfvqzq8', 'lfsxvlucjm', 'xnunl53zm9g', 'oadc9d5o3nm', '8lzlx9f8yvo', 'd1imoyzf2og', 'jas3pu3qphi', 'wf5xghn7emi', '-2ftixg9xh', 'j3eyveympti', 'zyjoqcbbeco', 'afdxp1yt5ao', 'ybagn3i7sa8', '8oeiq0nlkvc', 'dvkd0h1rho', 'hmix2awo6u4', '4e8beuw0rcc', '7fvj0jl7rpa', 'voqjjsgrpoi', 'h9hk2iv-6f0', 'bhrxwiye5ag', 'hawc629tmda', 'q9qgqpu6clm', 'dqdrwsik0tk', 'cjshdhoiijw', 'r3jig4w8phi', 'lzf4exlblz', '_up5snp37n', 'y5k1ivgphqk', '6z1ap5g83zi', 'qp7qjplhos4', 'rcsknrypazw', 'cbd7yelq6gq', '0lii5hsrvfa', 'jezxzuarg1g', 'uarpprmgjsg', 'ankklwad2dm', '04y_trdo4jc', 'u9msk3whhpq', 'qr2aq76qzim', 'ibfct34o-nq', 'juhvskllsgi', 'ikqwmbb-w0', '2b9m0cpciim', 'nnv9m41rvau', 'gkq92keyfxq', 'i0ggd044e1o', '8kisu8qzkac', 'rqmjugxbhr', 'v9-rozgq1aw', 't69n5a0gzri', '9rlw7s_s-6i', 'feuzcndpx8', '8gcbgxf0iwi', 'hs1llhnjfzq', '9htb8npmc3o', 'bapiqxcwnu', 'r4ldu9ckbta', 'symspziufcg', 'kqfbfcqlvnu', 'yuxe_siaxzc', 'hxck5ifwgbw', '1eb-y-g2iyo', 'pal3xbx09m4', 'deqwz2fvzio', 'yyjvg6zmgfu', 'bmqbjec38k0', 'd5lupxmwpg4', 'qoqws77j_6c', 'zslzelqyeou', 'qhokbudp2pi', 'fwbrgq1x8pe', 'wxmpob8me6a', 'zj4jjs10fc8', 'pda8anabgcm', 'azesyuo7z2m', 'gfs2fpue8qq', '4vbubcncgac', 'kglcmcz7fqc', '_q0fyocl4c', 'nyzpkw3vdtu', '2gqsj4zmnbc', '0fgjf3mckpg', 'w5p2nds34va', 'yxgczee3nsw', 'qmio3qiky70', 'qmz8twj1lxq', '3i37pt18dfi', '4y5z3e5qv', 'dokirqdh3sc', 'eu2ha0vsnki', 'a9di5lumw0u', '64m8utnmv3g', 'ki7govrb33c', '6zvglkzjbhu', 'syjjgbjm2q', 'mflcprjcuiu', 'aikxqzj3rp4', 'vmcbxrwtrcg', 'skhqjblbxsg', 'yr4yfoya0dg', 'mqnx9isnedo', '8bcockbtx_g', 'oezl0mfey0', '4uadu5wiovo', '7xtj4zmwmu8', '7rj5-gruvm0', 'lm5vqenr1za', 'ar5j0qi0p7a', 'n3mrc7wfupw', '91v0yg1l4ok', 'kya5iifgl4a', 'asnwzavxj0', 'ekovpvf_vbm', 'u8wz7_0j3-i', '5seorxitg78', 'ffrylv-xsrq', 'c-seyerxh8o', 't03ghw9bzjw', 'qbcsfhml4oq', 'ytxtstkgg5q', '9y5sidnoaki', 'b13kx2vdoeu', 'ttgprdxvmca', 'mf1bwaztys', 'i-0wklh_rb0', '7lza6xxpfv', '-2fgnhtoy0c', '42wgc36wfzk', 'zz31lgxl7ju', 'fjkrr91mygw', 'elxxixw35z4', '33i7ikhaxvc', 'b59i5bn40kc', 'jalp_adoilo', '5cxl1fgdgqo', 'ladcwmgxcco', 'lr95u3ffyu', '_oj2rmkvv6u', 'j4upubvlzyk', 'wfxmq0wljey', '_qyp38js4aq', 'oxxahijr5uc', '6smyxbqxfz8', 'sjqmct4vuz4', 'gfbuftynx2a', 'qxdqsynwt9i', 'itgauaq7x18', 'a3lstnh8yei', 'lpfwvgr-r_w', 'f8quf51fa30', 'tomszrft2o', '8_htbyg1vm', 'itf4i8fw_po', 'y9_rzqgfv_c', 'wc6rq6oc888', 'j21vswzbwxm', 'zwwjly1mksi', 'dj8_qbj1dpq', 'mvntxxpnam', 'gslkzwl75p4', 'ntjnuev5mw0', 'x11bizz0rn4', 'asiftw3ltbq', '2bejlnazq', 'tiampwt3wm', 'tmhiif4qaza', 'qd6c-kudsvq', 'ardvt-dfnf4', '0-bq_ytnyt', 'k6n9lnqxmyk', 'tn29zjt3tci', 'beid1ajwdj', 'z0ofj2jbkdi', 'tqx2t6ydb6a', '6fp_6ly70z8', '4d2wsvwojia', 'vjsjcbdwpki', 'y-q6-h_-fsk', '_8sp5el1hxi', '6gp3ygqlu90', 'mjwe1j9r4xm', 'a2yvfetq5qq', 'tlaalam-jmc', 'itmeppy1jcc', 'pso9f_bj03w', '7wnea-dxcuu', 'ldesd6ryakg', 'kjtou5pxvw', 'ho7-rjf4pmq', '7kf3yaaohv', 'tmeiomxb8tm', 'koixzfayoik', 'aug9ps19a0m', 'dhadqubksxg', 'wmbo5riji_i', 'eeseo7faai8', 'f1u4sagy60c', '-vgxikewj_k', '2yccv0awutw', 'c8txzpekwau', 'yebngmrqgtm', 'od34wth2kss', 'otreickoy1u', 'fthyum94dua', '0xwcd0-mtc4', 'ram0amlyayo', 'a3po-ymytai', 'ht-0gspring', 'hrncchddwu0', 'kstb3bjxmdc', 'dnok3d0jff', 'tmaa8lfcnnc', '0_pukghawz4', 'j-zujbjcofc', 'xulpx1jareo', 'vr15_ityh0w', '1ginekrudm', 'l-sb614kzt', 'hebfk7s_suk', '5ckkeuh9j9a', 'fvdstp-ptx', '18jhobzudzu', 'uykee4gkv5g', 'cdq-ogavlf', 'g0n2uc3i1ug', '8mms2tv4eag', '4rsdkxjizk', '04g2on3qkwa', 'jflupnzs3wq', 'orh8gb7rgx4', 'bd2zf2jtqnm', '3uo-b_8t23q', 'oytrh_3gnfc', 'optlfa3opbu', 'zjh0xc5vyau', 'nlrnyhjpwfw', 'lpoy6r07c9u', 'jaqlvbi1sk', 'd3wd2yvwzv', 's0lknm2ojza', 'z2ifbinjpj8', 'ge4iynh4rcc', 'pb5whsfxnu', 'ey2n3r0g2sc', '1dinsg8mvf', 'inwqoejvqxi', 'q0qv31kddc4', 'yaxlueekqmu', 'fu_the50ki', 'fvhg3fvksjq', 'tiwkn6dsq78', 'xdsbrpnfvlm', 'l3z_op7as3c', '1fcj-umbxb', 'r-yqkhzo8ji', '-tzjwphrepm', 'vojwjoi5ngm', 'ffl97dcoupq', 'ygopicadac8', 'ojhfqgxlxxc', '14ce0wzqzoo', 'fhd1enqezhc', 'rr-gaq0tdv4', 'cqx9-l0rh8c', 'xp1gtxnm844', 'v0xoftcfnqk', '_70maatsidu', 'ora743e5p7u', 'brrcbq9kpx', 'pbgxksqyzeq', 'dyxaxejbj5k', 'ji8bls2rnha', 'gj95cr9zoqg', 'ohj8fsleqqu', 'icbf6qgziz8', '5_au4uos4mw', 'zxa65qy3bko', '5xn9kpd7ddu', 'qguo3ikm9l0', '7yzwomvrpcc', '4c8kdcr_lyg', 'juwao5tjs00', 'tgvysowufeo', 'vtnpquvo498', '_ehljmgsnrw', '73e-w3l1wbk', 'w5c7iscry8m', '8fgr-namyg', 'gcp9i8ewt78', 'zlze48nmp4q', '16eek98yvr', '4u5qximepv', 'tl4v5dy_4_0', 'pqrzwd_cqie', 'tpi29g5lqnm', 'bbq3vvv0mx4', 'k-crei0ymmg', 't_rtcqciivo', 'o8wrljqte2o', 'hxcmwibewa', 'kh-wpg2ufgu', 'e9gsto-4txo', 'ry7vfznemno', 'gm5bugvrixw', 'tryzstb2hnc', '_h8wgen5obi', 'ppg1gn_ey2o', 'n0thfqk1zgi', 'uvzhwjtnpfg', 'oqnu0-orkba', 'pv8ac1xe8ci', 'pvyr73p-ev0', 'ctjoepkbrwo', 'nvgnusn-epw', 'fitue3rwkuo', 'yzbrpfoiol', 'orxxstwo1mi', 'hy19nk7qbcu', '20u-u-ss0km', 'u6gmnuysd5o', 'zdr_3qvjx_', '2mb23tk2llg', '08xunmdkvnk', '9vsdp584zyq', 'o1jn2adsack', 'tmcrmcdkfeu', '-pcrlwkxzsk', 'hfy6xl1v2zo', '3fots6_xue0', 'ted5w7gd8km', '6n2x6ifp3nu', 'e31jqubacxw', 'fy5apf4v4pw', 'xhw6ynt_yaa', 'fjfbqk5rfra', '-laxsnytrni', 'ckvklf_j4nc', 'uod-cumkrzi', '5pgvs4v0cba', 'k-dh2f4cfw4', 'vwz97fspf5u', 'sm_tekuoqzg', '6zntnkuiksu', 'gdp86wd1qma', 'oavycejxdp', '5omqoteojmc', 'zqhwlrrszuu', 'qjlndpiovai', '1br74dcf9rq', 'd8yjburwxnc', 'deo2v_ljzhw', 'gkg85xxgzko', 'zn_9uatqwqu', 'lgpxwtxsgyo', '2sz3b3tqvh4', '3buqfwper0m', 'dhd5btj7iq8', '51yu_lo_dva', 'oyjmhruipx8', 'rvpbmhl9mpc', '4vvqj8ff2ug', '3f0ytuaky84', 'p20_qhc3vgu', 'qpsykqvdepi', '51m3kebmdni', 'rbxtx1e24p0', 'xivshxlvdjc', 'a5mh1iacaxk', 'somvqjuuham', '95m4dfw_br0', 'fdeb-zsweh', 'hasyum2jtri', '5mgbikgcwni', 'dpaam_lh4qi', '3g76wtt4tui', 'ut09ow5t26q', '3waqxjeyyxo', '7cz4y1u7bi0', 'jrbtyfk2m7', 'pam-2mosx8m', 'hhny8oou-ey', '-a8ooumuc-o', '_tvsjd6kxkq', 'unmew3goafg', 'bw-hrfj0dzq', 'ftu_xiblxsk', 'vjteppctqwi', '22pu1-98b6', 'gltl8ers1w4', '1tmep-ntkx0', '9sv7-c4xt8i', 'dqr0lgqcciq', '9866dmfjxuu', 'guefti7tgn8', '57hg5r5bqw', '3h2jndj48rk', 'up9ao_vscs4', 'a1sgvb3ybai', 'yt-pyfj2t2g', 'gbltdkb0biq', 'tbcpilxvsp4', 't8nvqdqzwgk', 'vpfocnnaqiq', '6e7wv_g4euo', '1ysqqkn1dzo', 'fojggmamiqi', 'c5czp24cdcm', 'xj636y8n6e8', 'fswgwvxxeju', 'yseqf8vgg8a', 'mtl0hfq2kou', 'v8_s1xr_p9q', 'fbudxff83h0', 'vknphh67hm0', '5e0edazd9tc', 'xtarwxktjw0', '0f0qy9shmbm', 'jfsjf7leveu', 'y8dendrlozk', 'mxiala7ywim', 'pdisezsalao', 'bwd2eppu6y0', '325hxkv9kzu', 'snsejqko-s8', 'nyf0aru09wi', '86o4gupqvku', 'jrndlvdw5a0', '3ceuivgarja', '0gmqm0cxpc4', 'zshaix_kbrg', 'gvvc3zcjlpk', 'xc6niwx4tl', 'bkxohhafkqq', '0kmysapjssq', 'zt3bljfapcc', '-q7xedjpcfw', 'imwmpx1spdg', 'zztv3vqnric', 'wrozwomkzh4', 'or8kn2hqou', 'vi7zuevvfqq', 'eqfli9jlm1g', 'rer_ucof7e8', 'hwpsbyv96_c', 'cuh-c4h3gg8', 'u8smjrded7i', 'pik4qvv7d14', 'oflaxsj62r', 'eaaawb3btsa', 'pi6zypecnnu', 'mj47mllrlzw', 'ic9kquzpmvi', '1fxoohkgra0', 'hyft24robcu', '1jiyou8tzzm', '6zt0iktxze', 'pcm1l2ybz1w', 'pyqw43zqoco', 'f4vnbg93th4', 'ombyar0qmgo', 'wjw2_0e96w', 'g5iew1dqmgk', 'pwmbpakwm70', '3vkpgzlib6m', 'bedxl0a2pl0', 'fy6sd8dbzqc', 'r9oajyviu9o', 'z2fyavkz2zc', 'dzh8cfrvll4', 'ogs_7kq22_', 'vjtudancov4', 'vjlvg2tp5vq', '0zcq40bodb0', 'ybmd-m3gosg', 'pkvko8gchy', 'lqlx79qxbo4', 'numrwvq0rei', 'jwijgll_gjw', 'l5egvejcpac', 'daybmi2nexc', 'kjtcubjz-z', '9f5iwvqbzay', 'jh1raxjin0i', 'qngs_a2dnz4', 'i6hmg1ws14k', 'gyralmbij0w', '1eecqtg_mkq', 'efmlo396api', 'bgrispxu6hk', '-_nmeqrpa8w', '6jrrf2kh2om', '59cgneuyrmg', '71yhr-v9vs', 'zhjxdll4ni4', 'yxhagpu7xac', 'arjcqcl87nw', 'qfjyhrfrbpw', '2no0a7csu4q', 'z4l2e6_gmkk', '0tjsl95a3z', 'wxlncowkmb', 't-_8dynq7t8', 'rtnm6ih2qt4', 'q53huakb9ou', 'km4qtzklu3', 'n4llcql0q9i', '3es2ajyqxf8', 'p6cer-c7gu', '12-d4tbs1xu', 'oqmsupjfvjo', '0bpekitvji0', 'qpt0ubpaks8', '6nh-l5rwjrg', 'wtbavpdwzqq', 'e1fa_dq8igm', 'wshhxppm1dq', 'b88wqh983lu', 'dlmlv_85wni', '9iulvl4hcgq', '8otsinznos0', 'fmgu2m29jb8', 'vukd2o7okma', 'uektdm5q6o', 'v_8dhruuq8g', 'xbxjxlt5to', 'btam5nvnhfi', 'qug8qsbory', 'qupotf12rw4', '3jw84ptvyno', 'cp6zamtbdj8', 'qerq198he8i', 'xu0ptmwyedq', 'gexnuyuc4p', 'cuetcnrhbey', '2sbzyjwqnoo', 'mbnkum4czbk', 'k6iuzelx6m', 'vos3br2doci', '3ddhlvin3oo', 'koiufjrikqu', 'l-s54nwkd9g', 'f3-o8m9lvai', 'h518x1sxrjc', '2--jkkggd_o', 'g91dtea1fd8', 'f5lhdkafxa8', 'knproikx6rk', 'k2d5szbqrc4', 'qgoygbpmtlw', '0cte_rf6nfg', 'vpxj8e2r7h0', '35n7cnn0vtm', '-ubnkmzybyg', 'iyih2dejeno', 'ajlqr-uxsoq', 'grx9wuucwna', '2eoqwvtd85u', 'ckong0uvqy', 'muf5xyzxmo0', 'ougqrihxnkw', 'f4_181ke7aq', '4n3l1offxs', 'sw2vgldtxso', 'n10svxex59a', '7okzqnj9fx', '0b2octcgvr', '08t8lij6k8k', '2eu0clp_q1m', '8nsv83lpqwm', 'bjutrn1lv0', 'stlegg1danm', 'oa9vwszlehq', '587rul45js8', 'uksgg2iucli', '1uloabkwgk', 'tyvjbupg3xg', 'esatcydhvl0', 'iv1lvjsrtdi', 'cjhhiot9ybi', 'u_e4lr3hepq', 'juyjakszqxk', 'j5kdwkdnahc', '6twjfja7osi', 'lto_uwwtfog', 'cgpxs7k0hj4', 'icvrq54n5xg', 'oc7rufris0a', '-rx6nk8pd-i', 'shenzm6vogq', '2p9re9hoozg', 'h1xja3dwx60', 'fuyfctf-bh', '1celmed68', 'w8loe7sho_g', 'b7vl0lwaun0', '3gho3zhknzo', 'v1s_qvwzfsa', 'cmgsnodnuuk', 'iki-q8clma4', '9mtacim0lw4', '2ffldeukze', 'ajdvciwckrw', 'lt0d55pfygi', 'il9qrni8k2w', 'h2fngm75imi', '5-ekulrplzu', 'gif-e76qw2i', 'n5jc_sifrwc', 'izhig_fjj9a', 'lhih5p9gswa', '-a-z6pzm08g', 'nebxhiui_rc', '5rnwbzbffmi', 'cbqczqzxf3c', '71s47oyccto', 'aubcxao_im', '5emhxvvxy1a', '03mmjzztgk', 'vaxa7d7iyfi', '0ey8aa9lqmg', 'md_xg4i1-sq', 'hy59zcz11im', 'twch4vnarho', 'dxd48kxlbm', 'lhbqld4_4hq', 'kcnizvtslr8', 'rmwgoiqtqom', 'uqhkacqzs3q', 'ivmixwky_u4', 'n7hckwv84pm', '1vnsvkz_d_c', 'slsjmn2adxi', 'gxjvpy2r33i', 'oynk0kc71wo', 'a6rytcqdru', 'vlz1swlbfpe', '0s-w3j5u-a', '4fve_45zu_i', 'f8yxjaw-oju', 'qhf0snhnttw', 'k2i66c4blv', 'bbyyjkerfvu', 'qfwq07njvc0', '9avba_km2oc', 'fk624czitkk', '3x0k_dbv-zm', 'xbonke_allm', 'e28gesztdm0', '4_chq1kvc7c', 'whe89rdskg4', 'lu0qw1-ikng', '3jjorb3jnsg', '0g2lxo-znek', 'y5kspmvkstg', 'adedmok7-u4', 'oj1e-d4gx8a', 'o7x2notwdum', 'pochyaj_0-q', 'du8r2zmzgjw', '_jun7yooxh', 'vhvggggnqtg', 'kchaagomdl', '4awkvtfgkfu', 'azfy1-jrh6q', 'jik6yspvtcc', 'pyaxsbsfbc8', 'rzw_fpqbe_o', '0ssvqdwkr_e', 't43tyhc3hhi', 'r1tzwtdlzw4', 'mlhmdaszg9i', 'kw7phrlolgu', 'xt9kkvv6jgm', 'mow0hlt0ana', 'effx-6ehfa0', 'k2djdd7upxu', 'pm6gd3l2lo8', '4rs8yiucsec', 'blw6p2eyn0c', 'omx7-t0usa0', 'by095l3z4zu', '7q8aokoih9i', 'hkk7mpl1iri', 'nhcvqiboaoo', 'moij1ihusgi', '3cpecr-sfi', 'z3--pczb_bc', 'fsehw2twma', 'jp40h9h_cu0', 'h5mwwti7xdg', 'nd1emgmi3hg', 'niok9_npruw', '1qqydutnyn4', '0he9-8nuw-m', '6b6zjmpxeya', 'ohhupzwrpdc', 'vfa6w7rqoqg', 'quuohsun9wi', 'lov7pol3ama', '4_dipjsorvi', 'd6x6k5yygnk', 'smit1qzjk_m', 'j2npv0gxg6m', 'lolul7_hgiu', 'cip3lmqq7y0', '5fiauk1fqwa', 'aj53lv9rywo', 'q7fhfaxxmmi', 'baqu4tnghla', 's5dncbcv_wu', 'ysbzz5ggdf8', 'tlsxqnz9mei', 'of1cgdqrckq', 'wyhwxuaa2ga', '1mnaxyra64', 'iik_73gssw0', 'zwly6dbtbsa', 'kone4snfa64', 'i_uomjbreb', 'fsh3v3sxkc', 'q1-hos4qaj8', 'z9dbxjjfdwm', '698inxwnj58', 'x11x7ix_bz4', 'rr4n46i7tda', '7dgm4ut6alg', 'uq1hkk-yk0', 'zl_vb-8_how', 'xse8ebny4jk', 'p2tbngbyzxi', 'banswdwpwo0', 'ztk9-v1jcia', 'drjmcs9-7bi', 'coxsty6fof0', '5kithc_aliu', '-gajhf_4_j8', 'kgtffgbvz_i', 'fvhlqik1yti', 'e5rvlguto', '8ligxnu9onk', 'dfo-asmyrp8', 'p9vgut3huz', '2lzzptiedhq', '4xjnll3rq_o', 'xofwr2trn18', 'vb8frwtqrmg', 'vuxv2nwso18', 'qjyybsbscq0', 'wrkmn8p4j8k', 'p37bzbqzeam', 'hdngbuzue8q', '-u7ymfhad3i', '_hvhapdzsuk', 'lpfcwgfh2h', '3wvj_gtgb7', 'ifpvke-2uxk', '2p0fhw3c9rq', 'zirgvjd_xbw', 'y4d1ktvetkm', 'enejqqjkttu', 'qydp1dllsbi', 'n9otnzkza6i', 'z5dbfubgwj4', 'aldo3chhnlq', 'z4jp0omvjb', 'dbmfrjvbl4w', 'r7lixd7ka3a', 'um4nppflvd8', 'l4rtpkfmv1e', 'dtsjl_xoi3w', 'r9dfqno5ll4', 'nkq81wf_830', '7dx-7tcfh_4', '1oe19ls7_po', 'opcnt3qfypc', '1cgbdmysldw', 'ywqvmq50yfi', 'zwnwvbdonzu', 'obopiasfthw', 'hjem9fj1yr0', '0zigtlzcqtk', 'h_v4s1worjo', 'jbgolnzsfgq', 'ooagarbjh_', '9e2rvpegqb', 'twm9my8s7ya', 'oyh4kaeno10', 'kerep0o4wom', 'zq_pm0bbcii', 'yvzyshegt0g', 'usxtxndi8ba', '8zxxwp9wjq0', 'wac02yt7_la', 'lhislpwsj5', 'f9j_deqiqta', 'teb_qoxjs1k', 'r7n7o1rq068', 'wlezmultixc', 'vrpzsp2gl4m', 'nvzdm31rjju', 'hjfvy8kz_t4', '8-3xe7rmg3w', 'wp-hpukb9ei', 'rxgsregmsx', '6hbta4vkzlw', 'isyqz_xp4w', 'ysiekgdaqnu', 'mitcs1kev_8', 'oejnuntqjua', 'uwivpvtrg1a', 'd7zezfebla', 'nof_te5vgt', '35ylsq39aai', 'm6sdl7nw9wq', 'jj2wxkjpjvg', '29ej2lfxvhq', 'ezkce3bxxpk', 'egbn-r3uzqi', 'b4ligtawbb', 'flrzg8bgppi', 'xxdkycicmpu', '9wqlezc2go8', '_ni4saqznwo', 'kfgjmo1y3n4', 'urniaxhie7g', 'h65ll6r3tgc', 'xq-neoae9c', '2po5ejtvfbm', 'e-uoc9rhday', 'wwisakymdg4', '_ic8f98pwwi', 'nlk6i963ng', 'ke0notnhllc', 'gyb6lmyw7du', 'at05fxubmto', 'tnp0uga9ha', 'ukqjv_h9udi', 'yk-aoolyat', 'tovzxbxuohk', '-lxbq1d1lho', 'bo8tu2ztrkg', 'g1cac6wdpki', 'gkybbkrey6c', 'xc-vbfgtycg', 'wtbhilnspiu', 'szoh0ehakay', 'buu5ckk4je4', 'yjmop1j32vi', 'rlsot3_cbhg', 'ikvivnxodhi', 'v6g2frgk2uc', 'kmysl0ftxwu', 'y2o8upcxcqa', '78nmea_4wda', 'lyhyjn-lamc', 'njv0mfife1w', 'tl0ac5v2t3g', 'ugza-_g9198', 'ya84livwep', 'g-svwzd4do4', 'aki9fe14y-8', 'yavpw_zkjmi', 'ebbdmde6bz4', '6e0pt5qxipg', 'up7qj4gvdq8', 'akhys_zgpww', 'wyuec0ppz68', '36ku2qtjpja', 'pitmk0mcau8', 'orreq0e-9lg', 'r8b1bf44qt0', '71rwnqfk6pc', 'ogtmw7cylr4', 'xyv0qatsyt', 'vpz_fjsgj2e', 'dhshfl0olwc', '0ngvkezkblw', 'rgmkl4qcm50', 'xsqbxl5m4_o', 'junccrlswi', 'zn2d76wtwn0', 't9noqiqs3iy', '28ohcqpwhog', 'mwyep8skcmc', 'q98j4e5qlt4', 'sgzuxuthnna', '1fw-_yghja', 'gnr2m6ghiri', '8t_vcnl2w_q', 'hjwpqb1bexc', 'hml2l-bcuuq', 'nfkzscsobcg', 'e3fnsghe8e', 'gubuqdr9i5i', '4nt2fv_i-i', 'xeutj2g_b_w', '3dt7ywhnsd8', 'nsuv3gdjf3i', 'xeb_hou1ygu', 'snwjtu6kyso', 'tg98lcvm6uu', 'wumyd3wixkk', 'es8sj-1cfcu', '5ktfym1sr-', 'o1janti30do', 'kunziznnxuy', 'iuefa-e6iaw', '6shaa3lvrd', '8jzicgrg17', 'u2hs_hswgmq', '9wogzdgg8p0', '-n8ciu_6kq', '7v4_2xksyc0', 'hvzss8savlm', 'sonvnatcrom', 'xz7vvgvzoa0', 'ihir7tssfj', '2w9ksw1ikx', 'ssufmw9s5w4', '6irnybbrjx4', '7z8axykkifa', 'hsbtbuz-55q', 'nlhmgs3qfxo', 'aqj0o44bwf', 'wttz4fb1yv', '62saalhieqw', 'xenifynndca', 'ybh-d47xnzm', 'clqctzqeqzi', '6j_qadt5acc', '5_fqwwyz6w0', 'cgxphw06jvg', '-rjjto51yki', '8mq0r_vno5q', 'fz1hobau6im', 'uvbfoysyw5w', '8mv0ql178qa', 'u1cogbww-pa', 'qtsror4q_pm', 'wiojswyy1pa']\n",
      "Lemmatized text: ['lsm1v844z1e', 'x0jofzoydcq', 'nefdqw1ewuw', '1s8x3hexio8', 'jfnxpmt6h_i', 'cocmvmr8zi', 'wkj569sjayg', 'wekw3n8vrv8', 'dcx6qmrw57o', 'bthaywxtbdi', 'mwrhhiaj7nc', 'gfejhb5lfd', 'bwmni3wcitg', '0aeyr1b6fgw', 'n7al_xbgv5', '0_ad-pbjqg', 'hybgtiglmlw', 'powymedenhk', 'ujzr2prnedw', 'sbrxq_bcdl', 'h0nn6pjv_fc', 'b5ubotkth6m', 'frhq8c6jwj0', 'aayu2znslb0', 'w69noyjyrr8', 'g3zeufrn-og', '91jrtuuvlq', 'm4ehjmjjun8', '3ah9upsy1iu', '9hjulkhseo4', 'uf-h0v2lyeu', '79bgzj26ozm', '-tsnxdsq15q', 'coolgdg5vbi', 'w8ywcm6eg9', 'logwmfxfxgk', '80oov72cwsm', 'bwzebtwksoa', 'sqz46tu8u4k', '11_az8dxzi', 'uq2pxclzrw', 'dggvp6vshzg', 'cgih0zhtoqg', '8teusxkaw9q', 'shxhrhtgscc', 'ibkpe0izhf', 'xgdbs3b3rnk', '3a70sgbigau', 'tkze8prkie0', 'ck5abatnwno', 'xi0dab8jdm', 'cfii5m3-at0', '022y0pfkjdg', 'ovn1qmzwlu', 'ftfxzsfzixq', 'nacfue7svsa', 'hhzm523ly6', 'eijbvpnbpvu', 'v_7qbuzfzim', 'iqrbnog0vai', 'hwniejmic9k', '1xyzl8ekh-w', 'jrd5xaqfgaa', '8qcu5uyk4oq', 'fzmq0lmik0g', 'tdxqplp4lbi', '3ac7zgjdxda', 'sdprkfwsv5w', '-2jgvkcmnx0', 'k0sisjlio-w', 'cwzjmp57_jw', 'c5axj6afenc', 'axch6rw2lbi', 'i6ysbhxj0sa', 'uha7zrt0fl0', 'tfclbnm5mge', 'etvkwvklc_m', '5ujftrwxdpo', '5ojfj19hpqa', '7xdmclp5mhi', 'imhj3awyz60', '3edrum6i-3w', 'pbvfjqy1gpi', '8sqbjlwu9ig', 'r7rdyaa5aro', 'w0zf5snytzm', 'y9mjwlxbmqw', 'uk-8axl9lya', 'lavahcw-jp0', 'lzvirid-jl0', 'rwglcpaoazo', 'tjmlzgyxwe4', 'm_eojskti4w', 'ju7gza7exhu', 'i7ghlxnuhvw', '5xs8jcohtwg', 'zkgfslseywa', 'l7mug_y4bzm', 'cpqjwjnskqu', 'tnz8rlgwkig', 'li97w6quww4', 'y1gbhfixovw', 'j1dilo1ewao', 'uhi59jfb3n8', 'bwdpeys_dd', 'apz9l_r76oc', 'zeu4ozx8ack', 'yadyd28wiwu', 'tut_ulzsdy0', 'wjkueuhpoa', 'f2deya8swmc', 'sd1dnhkxdhe', 'ddpft0xytrg', 'kk8kapvrkuu', '7qzttglgqdc', 'rbhcw6n9akw', '8deegbkoykq', 'ooglyikiio', 'w0t1m84i4e0', 'g2wtmfurt5o', 'h-8lunkwko0', '7sbulzlhxk0', 'wactrrc9cr0', 'd3usc-kmkc4', 'tmktmp9zib4', 'okqnz7mtuwa', 'gkpk0zqdvnu', 'ulwaaoizodu', 'ajtmltnqyw0', 'tl6rulgpzqg', 'uwah2e0gpz4', '9lag7rxwtkc', 'i9og5cd2l0o', 'm2vw2sogau', '-auvcej5dyg', 'myohp5v3voo', 'rpanhedsbuq', 'nprso_v6914', 'w8kjkwq2r3', 't8op6jzuzgw', 'uz5-kvgr4wi', 'w2ghb8k7vbw', 'p86oiktzuao', 'jw7xuj2ghoy', 'xy_tda0rac4', 'bpdamawhlkc', '-d7yp_en4yq', 'j8hsweatyag', 'zjibvobt9li', 'hgcpyuau-s4', '2klq-fkuuj8', '19ow0g8syng', 'xvqzcmxyqyk', 'cgmjbwvt3hk', '_exrif-g_hi', 'bbeetdcxnfi', 'ghlsq4jya48', 'zz4izk5ixay', 'iukknz2ye-8', 'fg30rywdnk0', 'hyqmpnxta5u', '01hutxdbdu4', 'y0r5ro1jjqm', 'nzgf1vsbso4', 'klgvl6it48c', 'vodfqcrxpxc', 'bkwlxcfckti', 'ybmf1m8t5ju', 'xno4ah_t38i', 'mldveephkxa', '6mcfvaeljqu', 'okshrpnk0iu', '-xtr7ngjzdc', '8vuwcv_6cxm', 'eztazewqsjm', '7adwykl7od4', '6lpatw4nthq', 'xd7ptvs9el', '_x-eri-tym8', 'q4l8jzf9tvk', 'lleczae0-eg', 'm31n0n2lte8', '5kwwudikd9m', 'f1cc8fkt0c0', 'ykysh_kvgim', 'hqoo8e8pcp', 'f5552nf5qga', 'eoc83jhkcaw', '7ny5dgsvrio', 'ukzxpiz1ngi', 't7myb6x68di', 'krkipllmwgk', 'meotupcx4ba', 'syh3z0hp1wo', 'wyaz3qdxyig', 'epo6zcz703m', 'a-1msnb016m', 'tolyjhgttec', '-hfxu3binli', 'flt0bxexuy', 'ws8h1x-cocm', '1erwsurqez', 'qgppfsiljr0', 'jqvoe-x9obi', 'scwoi0x4jw0', 'we5djgqwk9w', 'h2fvgzfcycc', 'j2bejwfe6_o', '9cb01p8wwf4', 'qtrkufmt9bm', '5wehj_w2m-0', 'x4oiz61tgk4', '8lp8qxu5mvo', 'mrwuonmnqeg', 'bvn1fk-quio', '9nff7c9vv1', 'xu1uncqdfo', '6put1vwhngi', 'ixxwm8m8_xc', 'mubymz-gcgw', 'f0ygrxhfv54', '_qxgnxuz3mk', '-tchscnzwmo', 'ibpefln94nu', 'hnjmc1mkxt0', 'esyqhbqtgri', 'rk4xdyt3ick', 'ufroaqkb3ec', 'nspgnombv4q', 'fae29ow0xli', 'u_m5maxll5u', '97vk7vi4x-m', 'tqx5w9li6wq', 'j25v-heafvk', '70cgdoqqsro', '4etnj-mem1c', 'pionrsup76w', 'oywq_hldqyq', 'pxrqadx7a3a', 'oj8ic0ax5go', 'mplawpnozc', '78zw4elx8ha', 'sv3txmsv6lw', 'fnzqondknu8', 'y0mfnwkbqp0', 'fkl9_bdthq0', '1kepkjiukao', 'lpujtqehj1g', 'x4eegl8j4wg', '1ktiv-v24og', 'r_j0jsifh9i', '5sa9nykiyg0', 'szq1rnxwpss', 'fccq6thzwiw', 'kshlofhuds0', 'at9uohldfum', '6j9jmxv51j0', 'exgyq9slk50', 'd2udbu2-4km', 'znibcwaaogo', '7agly0pgd94', 'cj8posm7ty', '8j7pipkrwhq', '_jvysewhnwu', 'caeyo8espii', 'ei4cepeizl8', '5icuu8pdl9i', 'we3gk118v1c', '2wiqeivgf7k', 'xcxs84zhsvo', 'zqv7mbbbuzw', 'l9cbipviy8a', '3ogx5ipc5ao', 'ujsewm6zxjk', 'ghmbvpxx4au', 'oyrlevzy4zw', '5i8f2hni0q', '6_bdrswhmw0', 'rvwghgu9jj4', 'vmhgtyjyx2u', 'bajwdxfwndo', '_ozezbetjr0', 'vwnn6qedkb8', '3fvwwd90j_0', 'n7lnxgnl3va', 'tiwksxbbebg', '5ut65s_jnki', '9bbs8ssntb4', '7kamwv85qui', 'edsluuaonn0', 'ry6qtb0-y3u', 'fpgf69ikcw0', 'sg8suxp3st8', 'fpczijla9vk', 'plbv0bsuffu', 'i_knhb4gumm', 'vnwf2krih10', 'fzul9pael6u', 'vbspr2p0yym', 'yenzlqxazng', '0sqzsr4rrci', 'oslnt9zr9jw', '-uj2yesgmza', 'jdf7gvkgn-g', '-uvedw852pi', 'upqnb6fbw_o', 'gf3hbmd9nqo', 'kpoh654pbl', 'yq9kgmas-xc', '_haqesifkyu', 'ala1d1uhsyu', 'l36avjqwp9a', 'anr6_hxy_mi', '9pc2xxyi6kq', '3r3tpxzn5t8', 'zdk6kniphqg', 'or2-gxhfauo', 't_vrbbrpr3c', 'lqdccyzadtg', '6vn_q0j6t6i', 'fsuv_qzoxd', '3-tkob9oci0', 'ckw-wb76ax8', '4mfoecdtxdq', '6qe-rzvvfyu', 'k18lpvv_71q', 'rjhiowavem8', 'okdy71jqya8', 'ksdy99fntr', 'tca3ucps3_o', 'eie-ltn74ik', 'mcn29r2uayo', '8ts-lcgaihm', 'caiqbp-6ol4', '7gtrucgdspc', 'j6klfwi2kc4', 'rdj22vxxys8', 'w6ovfqgb-s8', 'myzfzmcrfu4', 'tglng-yjabu', 'vtndslkw6y0', '8mfw5d5qek8', 'yezfr3eyxk', 'lputxhzm9f', 'vfitusxnzpm', 'fu1oo6qp4ba', 'wubnizwsnr4', 'wmvhgl-bcnq', 'rrkmtawjq3u', '7agizgrcsc0', 'xwsjynlairk', 'kcxgvrsmtgm', 'coeu3iua-sg', 'el0qqbl4cw4', '9jipre0ay2i', '89fvcn5s_8c', 'mwzp-guhql', 'wum3zjsl0w4', 'pyqk9l-kmqu', 'qchr_vocf0', 'jzsdrteqchu', 'nbfttji2nni', 'humledmhmv8', 'kc5cni9ju5u', 'jan2jibrhgw', 'szl6vvt4e4e', '8_ycnpz83lg', 'ytxd2hkocxm', 'u3ukb0m8pu8', 'g-tgu9w3afc', 'wwsy8iaoav8', '-jpoerqbav4', 'uf7uw3wb5xq', 'xf7uqmn2rti', 'rp2dy8czn_c', 'yc3ormzzc08', 'sx1egd9bny4', '0dkt53gotya', 'omuaabbnpx8', 'hsm1w_b0ik', 'sarx-idfbyq', '8dr4fkzhcey', 'n286bibenqk', 'fhm03-s9c5g', '3jkn2av1qqq', 'alqdlll40fg', 'g6zq0gc0bz0', 'y8scba-keeu', 'hiepiotg_m', '_17twxlaf30', '2gvlcn5nbx', 'ralgfbm9q0k', 'ufluyghmknw', '37pzurgtmj8', '8fnzjugbvt8', '1rdja6hmgyg', '7rc80dafnw', 'dxktcakdjy8', 'lr-ojvkjyuy', 'hw-_wa1psi8', 'aw_xdxdtdmc', 'gcnbckx8m8o', '2xc1s7c3sii', 'e_r0aoczvn', '2sdbemvqov', '0x0cczfwgfw', 'hqmvcp31kvw', 'po0lm1ctiv8', 'qajnqynjxb', 'ezrcimypski', '41rwkaufmj', '4vnuamgog58', 'hjk373zodv8', 'v9w5e9i5bw4', 'ppjhjsitlnk', 'neeghgliqey', 'ygy9ml9y6yk', '-p8we9tmojq', 'pljsldtzzlo', 'uubdmjor-bk', 't395mdaxgnk', 'byxx17mpcf4', '8qltxc0fy4k', '-dldmqucqdi', 'lwkbh6tjsjg', 'z7g3zaglcyc', 'nsakxrfllbi', 'ysjp4bqyezm', '5auu9qhq13q', 'jamqfqk1_i8', 'pzni14ylapi', '4tggth1i3wc', 'bjfro05hwq0', 'fqcepnffpy8', '5u6cz0bn_f8', '8tuzd_55tik', 'xsbsb8egkr8', 'vxws6yoopmg', 'e0n0nprefhi', 'jrr5c2ccib0', '0ca4vn_ywfo', '-ymum-wa1xi', 'xzw3ffr0ksc', 'zj_lv6hzb78', 'yt0imxrgmhg', 'f6hhni7rpzu', '8l0dm16br3q', 'nyyxerec2zk', 'gpixeabwof0', '7mmaw_ttxki', 'ih9xf4bja3u', 'kab5d2klnoi', 'natyq5akak', 'w8ucrpcwn14', 'a5lcyla2lb4', 'qx7jbhn7ixk', 'wug-u8l1mk8', '7d1aaqefcok', 'g3vbenl1nqg', 'ricsouya-wi', 'ciscwl-m2n0', 'dspq2ggh4om', 'oishj_ibadw', 'v6__dec5fmi', 'k9j_lifguh8', 'xnuxqbwmrgw', 'njkmadwya0g', '3rg0jwf-vka', 'wx80ad4f8_0', 's8nzpafqh5u', '_wj2omuocco', 'yojfwp57y1i', '58wqjv3qws8', 'hrliscrh8da', 'w0ya6lpe2ca', 'qv8yexem3uu', 'g7qdne1vvb', 'ck2ehdehelk', '7-y8lsfahw4', 'nnzju8dd7i8', 'cvcqv0chbwi', 'xnc9spfh590', 'fugm7zkell8', 'pjdpvsbj1z', 'x2ku0ojcrhw', '3f38yfy3oo8', 'nd5w8efalfq', '3dwimpgon40', 'bv74s1zo4a0', 'aex1alf8yg4', 'dkslxsuvpl4', 'qq7jx-s0peo', 'k8d6leyw47u', '1abnf6y-bq', 'ybundphddbo', 'i5g9im24lfu', 'y-2q2hi_gvk', 'be2s46_kgpm', 'ug5ms0gpfmw', 'ppqk7yn0-4o', 'iq6lt0drysi', 'irqrottqt58', 'kqo3kkzttwc', 'fafehmnfe3g', 'kop8gn95hr', 'gxlewxyu620', '6vxphla7ld8', 'km_avkdm5hu', 'fjbhplyvbu', 'rechwbjg7ak', '7knxdmlratm', 'gb_jrmvul0g', '6kb3fyke-g4', '8im7nkpeqz', '3tvnpoh1fa', 'g5frrzhsnj8', 'wm797p0kprw', 'cv_wc4p8qx4', '9w9kwxlnviu', 'qi0hpqcnejq', '-wqfyo6zsti', '3gjkygdrn5i', '9qnpb9nazqg', 'khhv6k70-la', 'elq1uybj-jq', 'nsprbjvfde8', 'sx9lt3akraw', 'g6xiixx-7e', '2it89xca9vk', 'wreddx9aegw', 'mueibsakwli', 'r4lzd4hval4', '0amkjlngaf', '-y2zxvdguvu', 'bxzbg-xlv6q', 'nwqb2achwmi', 'xanolgxuwyw', 'jj_vbgyxsu', '_alqm159oi4', 'ysdsxogrtu', 'rjaiz6cvfzm', 'puogkwg4a70', 'atbz59u2g5i', 'rlw5fsjd03', 'jez6pmphlew', 'aleuwciodgq', 'fgslzcicxz8', 'lwzfb8q9jde', 'qm8bujo2eam', 'r4niok6h9uy', '_qfvizmqlg', 'm9fmeygx35', 'x8vjhex8cza', '3ogjm4nssmw', 'zcn-lspmwxi', '-0bvypvvjsi', '0llqlk-pwfm', 'bpl7d20f2me', 'asxkyqkze4k', 'rcwqypouq9u', 'u_nttbtgp20', '0xofhpymaeu', '3abayur59sk', '-59lks8oyq4', '3a75obmdsym', 'czwhbzeg2s4', 'lip_euqb4l8', 'ifhtgodzoxa', 'ks_jmgkf7ci', '2t-tju7b_e8', 'w4j0plciujm', '8g1xl023f0a', 'gborq1xo_r', 'xwjsigpnecq', 'wusihlh7z7i', '2sela-8bf9q', 'ol068cu113i', 'o_j-jsp3cbk', 'altdjg0awbu', '9wsp5ftqgdi', 'ihfpinr7y1g', 'tpznfhy-cic', 'umpvziint-g', 'je6yigbwvtw', '0ll8h0gkbb4', 'trc0zfqzbz0', 'i-zphkdnuca', 'spgku2e-jdw', 'd1b7wbsaooi', 'bd408m0bkxq', 'gyrhotvikzi', '4b-i9khiba', 'of9th5ntne0', 'zwedlzb110g', 'vriztclhztc', 'ns_rmdf1enq', 'i5zn0nytghi', 'wqqb2traaxg', 'ffronfejdkg', 'gassonu0jqk', 'qo7afro5wmw', 'ufj4h3bo08k', '0uivs_i1kb4', 'e3p5odbzkcg', '-sutmux4vbk', 'fgtwe6dkku4', 'waaqyqdgr5k', 'mqeyfhqi3_0', 'wf-qaz0avg', 'k-yazbbf3g', 'o4qazwrvo6', 'a5ohrf_l3b8', 'f9vdqs-fhic', 'wnlvqyueqdu', 'sveirinsdwk', 'zopiwvovcpq', 'cyujifm4h_w', 'mifi4tcrwqa', 'ca3reolafpc', 'ylhrcaslbj0', 'yg5nlqvg4vi', 'j3orznxnva0', 'm-ewpnonedq', 'rvix3utx3a4', 'z6-iceazca4', 'z1ggwtfbnei', 'hrc5sh2zu2m', 'j4twlmg3fhm', 'd-jb4fsbslk', '2qpm85vhjbi', 'mvtq_x6elii', 'gjtxry0jtaa', 'z5i1taj7pzc', 'anbhtlhlhf4', '1yyoy7fibcm', 'mroe7mznx3u', 'ybezot8rvw4', '7usty3kc1yq', 'mgvlbvwmmaq', 'i9jn9gq0pj', 'pr_ai3cm2-a', 'fnstevyjjfo', 'dxqnpcijlz0', 'rxgdwl-mwm', '_n1oed2ip20', 'vf2sot0rszu', 'hux0dn3rzj', 'ti7n6_tunc0', '9f-9jrlbfvk', '9hslhbtea14', 'vhbuvvpu3_i', 'v448iimbx8u', '9xczwl3hd4', 'pg1cnnvhcqw', 'pkov25vdiu4', 'xex8cpv8cta', 'aar2xdedz2', '6d064riwvjm', 'm6fxiwabwai', 'azny9hgmmnw', '5xjgq6ll4ba', 'o_n1_-sezku', 'c2opt44anvm', '6ustemoi1ek', 'ivg3ae-ucm4', 'pzowqw9hda4', 'qptaqff04h4', 'lrvqqas4wya', 'do8nuw96u0u', 'cvtlukm6p-0', 'tvl3dgdsnhi', '2h6h95tgv90', 'llyldaxr1j', 'fibiwrxcd1i', '8acjy8haqhc', 'grgdp1evymm', 'dcoexfaqif0', 'dg10l4er_du', 'zpmkhevpp3u', '7axydbow8v8', 'uh1lqrpoor', 'x4hgfcakhkg', '2zqhrfcetdk', 'acu-mqefzzi', '6xt-h4hr8vg', 'vftpqdi6vxi', 'aqk9jadm1bk', 'ikybabtzgvo', '7t-6hlig8cg', 'exmjnyl5by8', '1nae_7m8nd0', 'dhbmnqt14_o', 'gfwm74ocsfi', 'nuaiavwddoc', 'bkotqczm1fg', '4ezp2o9z5j0', '9byuuaatmkm', 'kpy-t6yoslo', 'lqyigbrc5s8', 'yvr383ip-fc', 'xa23kan7kr8', '9ut2gufdjgo', '6f-ltq6tdg8', '7s2ukkoj6bi', 'h6r-rh_essq', 'dzlr00ceank', 's5iamwqwgb0', 'b392ftpr7g8', '078em8ejh04', '232xa2e8riq', 'n5on_4fv4sc', 'auhoroy75i4', 'gcr3z1--kiu', 'bbjhqnr05xo', 'n3k9lwz48rw', '_pb_ijpjgx8', 'ccgekwotgck', 'p65q6efpnz', 'pgaaoiww_t0', 'hxuho62rerw', 'ovjvgb4pa2m', 'kwekxhb_c6a', 'jjn8buovqx8', '4folx0orjo', 'ax7a9b9ybju', 'tizdcv-uiuq', 'l5kjfpsb4om', 'fzwu2noj614', 'sax2p_k_mb4', 't3uwa6-sphi', 'evhif-ptomq', '1zwwpozshui', 'h1ilh47cubu', 'r8zmg0vuz9', 'bj5tdzihgxg', 'u4rqusfnn6k', 'nubdcbzixn', 'ob51uwzg2i8', 'odnqwcudm6i', '-hkkfp03ghm', 'nuxqzfopz8i', 'd9zvlkqmm6m', 'jajnrtmvgt0', 'wkfqilz6weg', '1tqjyola4k0', 'bslbvccuv6', '-r8ehndd738', 'drzwgugn6vi', 'k__dxk2tdm', '85jz9nffqso', 'si6vy3xkep8', '5ypow3wr88k', 'ivgdhj5fo7', 'jogarlqniv8', 'muhvxaophjk', 'ro0hg5qy5em', 'n3msspnrdgi', 'suwy71ddj1m', 'nujclr8o3hi', 'vvlbsgurnsq', '9tsdfd52kca', '3bqpeetwgku', 'dfcm5papjik', 'grh1gszdviw', 'muhglaoxvyo', 'rorgi2mjf8o', 'bupzv1xqm8k', 'ef-9i38ud4', 'bpo5ztu47ao', 'uv44apozy1i', 'gy--7hcbfp', 'unhjsgpc_p0', 'pveunfjhnhi', '5f8pedsumb0', 'mhzrsw4zwdo', '-mk8elqnu-', '3rhnlndguh4', 'tmws48wknvk', 'al39bs8vx9q', 'mqhzjv7rd1q', 'c8v2f5goxzk', '9pzwau4xehq', '4ro1nra5u1o', 'arglxpvstvu', 'hshiu8thrq0', 'q6y5gpx1j0c', 'oqbzve_eme', 'tksz09wkatc', '5odz4m8vati', '9zdy8lpj6hg', 'xnscpweaz8k', 'h5qdd9u2ski', '9kclom-1mdw', 'qgiyoehuvey', 'x4gdscrbv0q', 'igim_ixojmq', 'uvms-4h5rpk', 'vgpix--ez9', '0vt0mzab50g', '6obpchogp-i', 'aimzuxqluii', 'ggr410cz73o', 'ifskxfmjbuq', 'k-vttgb_48w', 'dvhlc8cwnz', 'vjq7-knqkmo', 'tvnwlrrziam', 'kcvmzi9yo4m', 'vy-eccndy70', 'mh5bgcyyfp4', 'jbwtdqjxhp0', 'ladumjqtiaw', '0rkvjc37ltq', 'qpbp7_2uxa0', 'vpmrx5lncsk', 'zpxnz04c7ck', 'wktxb2ljzdu', 'jty4wjrszy8', 'recaepj8lku', '6yvnwr2rno8', 'ut7nadiqrcq', '-eian6oa_oy', 'o8bd8g21vv8', 'd69rpu_lhm0', 'ngs6cteibjk', 't0wwu-jly2m', '28jzj3nueci', 'dcr1uz3s1ca', '-egoxsy9muw', 'iu4jxvg8isw', '_oeww5gkeww', '-0flv5drjwc', 'ypuzh6qla_c', 'r1ja45smou4', 'ftccsmoz3-o', 's67cubey06', 'yy44c40olpi', 'rlm4fxh2tii', 'ix3qhsgq8ou', 'noqkqufpn3m', 'boyvlkfi8gu', '2nyf5bklkt0', '7rijnktjva0', 'vfwbevfh88i', 'cvuof_iau5u', '7tsrbqx7ave', 'a6gaferzrwg', '0aj8qii7pew', '6zyb1kzu4ji', '-j6_wfbzmt8', '9yr5q8zbmpu', 'dodwr3yqbhq', 'q0-qpakxf-o', 'txslou0qecu', 'nsinpqjwtw4', 'kheb6pm73q', 'b3xkgqbekzi', 'pwnde1lddi8', 'k8g9q___cj0', '9axe0xcze', 'ind5oclnhss', '8ppd6umqmf4', 'jdwcv6z9rl8', 'z7-awkxpfy0', '4yspzcirpxw', 'or_3xwrxl90', '93vqaf4agek', 'n0voq6pglx8', 'b0tp_wndjce', 'sxoxpq9uoai', '9uiuaq2h9w4', 'q0dhvwa5iq4', 'dfctfewa_tw', 'cuetq9r_z3', '4k8vumu5myk', '823vpuphjxo', '24toqyc2rt4', 'rmduhakqwrg', '2sixrdglbiy', '4u4krzfntg0', 'exzipisahzu', 'sw_graoimwk', '3qm0h8a8baw', 'mavonjjszyg', 'pxcyi-t6qau', '8pa_a4e9u_8', 'k5rqwwsu3nk', 'prl8f14ppz', 'w-h9tsy2xbo', '9gsl4ypkovi', 'lud5ait4m', '0vhxm-whbwg', 'uyw7_1lxk8i', '5mc-jeg-nh', 'vpamme5co0o', 'nh2oqz7qwuy', 'dkobhsduz4', 'if8yjxck4tc', 'vrtwq_xzezm', 'wwrnobkrp0o', 'qr2iza2vg6', '0gcnsuktb5m', 'c691_uh56ng', 'st5uynxowng', 'emouoqxxg5', 'dx-7utykpf', '6dwa56tkwq8', 'btornq1rtgi', 'shsgrxqmw_', 'urppqi903zi', 'ohy1delf4i', 'ineljzwktx0', 'lpyxdaq1nho', 'f5-nfxqjfzu', 'wm2ooc7be10', '5gc04xiud5', 'xjpz0-ehpuk', '9tz2iigidjg', 'i_qyb7xxy4k', 'mvzlxlaidjq', 'xlftc_4qbm0', 'viz-ius4yek', 'tte4lhqfxpu', 'ew4ik3l7zwg', 'i822pc9kw7i', 'au0qiarkpo8', 'nyjyxptclo', '6mliuiwlbbw', 'bfmxjhhdfmu', 'qwibqbm-el', 'uasaijk2bh', 'cidqt1ftgyk', 'acfuzcxjxac', 'v9xy3sl6n7a', 'spsrbgnjura', 'dvp2zxbymgg', 'aixsgphxt6m', '0ve_yrsp500', 'tgp_bmm8ffw', 'vhk2pvjyjug', 'tgs104v4bfg', 'r0qdfifqgkk', '0b0jk2fz_tq', 'hoxopi-kqe4', 'o-okxshudxu', '9ostz4esbzi', '8bnt6urmzim', 'fft3a3st54u', 'xkusi8elgrc', '4clctl5j0og', 'uffyldmiv04', 'wz02ayddima', '_ow3ecxv8w', 'm6t5jogxchi', 'yl3uwiiry7m', 'k3ungdkrbrw', 'q_xcfm3bhc0', 'jufkss2tmto', 'lfbw_agnxy', 'n6cmkr1jhni', 'uvbmfbsnrx', '0azmjksae1u', '-wr-fyuqc6i', 'mknsb0zrgb0', 'e_1c4evds2q', 'sevw5quqdsu', 's5p2wuxkeag', 'b2bvwarorsc', 'tu9zv1c08rk', 'ew3sym4t2tw', '-gixowey6iq', 'swt29xdzzsa', '4tyfpbeuv-m', 'hzt7ozbxh-a', 'hzwe3zp2tcc', '_jt26jfnkog', 'nugb9picsx', 'wygmqzkxwgw', 'naiqyopcjnm', 'ryovxwwohyy', 'k_hqrgdbugm', 'ovijj_kc0em', 'ipxs3gvnw8w', 'm0wwhvw7e8', '8scjksirp0a', 'vdwjnafkeuc', 'e2tofbmlugu', 'noyhfguvbhu', 'v5qpxhstb5i', 'clyfacgapli', 'ndlv4zxnrss', 'oxiauqrmcwu', 'adkerzcawru', 'hgmfngn_jqa', '5wtnaoxscz', 'klzphtik2li', 'ryyyy4nkzdg', '0sz9_amo_qg', '9m5nf-uvwki', '4zz4iw9cim', 'p0n5kpytns8', 'g-yaswyml', 'ni8vjiaa1-m', 'pk-vz0hrqji', 't6h-gokubi8', 'dewxowfqabk', 'xzrishxuslu', 'y5kpzp2t52u', 'z4thsvsptn8', 'kmh08kq2vtq', 'jbwua2njpuc', 'frikor0ontw', 'p7cr8xhnnmc', '4xxky5mo5p8', 'es7hbhsauqi', 'okovxfusypk', 'lmbz5vasp_k', 'bcoxv9p0h2u', 'b_ggibm9b-g', 't5uox2spo_w', 'pvpzt5xn0w8', '-gr2esrs5um', 'n6j9phdueg8', 'tedf6xi_-8i', 'ewnmifjl2tg', 'vfwzmkqk1a8', 'szwryma7w4c', '6k8bhyeikiu', 'c7frhkytqy', '0uatfa_wota', 'vnhq5u-mmxw', '7peb7tqwic', 'tcvtoa01un8', 'axzkuf_t1pi', 'sr7extrt9su', 'et4wee-jvq8', 'oxcwdrpaewm', 'oetrgq8fbqa', 'bhjhnxgs6tu', 'm5kpiaynmi', 'hpv5ep8yvr8', 'eigfm1hjswg', 'ck3imjbs_h4', 'euy6y-8t36u', 'gknmdkjcjko', '554yq5wrpz', '6bqvgljqwtq', 'g4f9jjxb5cg', 'v-dkpuj7k8m', 'wspmlp84bbm', 'm5xxig2mepm', 'ebkilq2wfig', 'fgz2vcpzbp', '8qit966koc4', 'ml3nujyycew', '_g2gcbxy8za', 'x6n2gs4xuiy', 'rfodrzzuhp0', '8z-u2pmji4', 'lnc5-o44c9a', 'e0zkxkaakma', 'ww4s_9pwy10', 'zznex4h0iya', 'ruvpyfvqzq8', 'lfsxvlucjm', 'xnunl53zm9g', 'oadc9d5o3nm', '8lzlx9f8yvo', 'd1imoyzf2og', 'jas3pu3qphi', 'wf5xghn7emi', '-2ftixg9xh', 'j3eyveympti', 'zyjoqcbbeco', 'afdxp1yt5ao', 'ybagn3i7sa8', '8oeiq0nlkvc', 'dvkd0h1rho', 'hmix2awo6u4', '4e8beuw0rcc', '7fvj0jl7rpa', 'voqjjsgrpoi', 'h9hk2iv-6f0', 'bhrxwiye5ag', 'hawc629tmda', 'q9qgqpu6clm', 'dqdrwsik0tk', 'cjshdhoiijw', 'r3jig4w8phi', 'lzf4exlblz', '_up5snp37n', 'y5k1ivgphqk', '6z1ap5g83zi', 'qp7qjplhos4', 'rcsknrypazw', 'cbd7yelq6gq', '0lii5hsrvfa', 'jezxzuarg1g', 'uarpprmgjsg', 'ankklwad2dm', '04y_trdo4jc', 'u9msk3whhpq', 'qr2aq76qzim', 'ibfct34o-nq', 'juhvskllsgi', 'ikqwmbb-w0', '2b9m0cpciim', 'nnv9m41rvau', 'gkq92keyfxq', 'i0ggd044e1o', '8kisu8qzkac', 'rqmjugxbhr', 'v9-rozgq1aw', 't69n5a0gzri', '9rlw7s_s-6i', 'feuzcndpx8', '8gcbgxf0iwi', 'hs1llhnjfzq', '9htb8npmc3o', 'bapiqxcwnu', 'r4ldu9ckbta', 'symspziufcg', 'kqfbfcqlvnu', 'yuxe_siaxzc', 'hxck5ifwgbw', '1eb-y-g2iyo', 'pal3xbx09m4', 'deqwz2fvzio', 'yyjvg6zmgfu', 'bmqbjec38k0', 'd5lupxmwpg4', 'qoqws77j_6c', 'zslzelqyeou', 'qhokbudp2pi', 'fwbrgq1x8pe', 'wxmpob8me6a', 'zj4jjs10fc8', 'pda8anabgcm', 'azesyuo7z2m', 'gfs2fpue8qq', '4vbubcncgac', 'kglcmcz7fqc', '_q0fyocl4c', 'nyzpkw3vdtu', '2gqsj4zmnbc', '0fgjf3mckpg', 'w5p2nds34va', 'yxgczee3nsw', 'qmio3qiky70', 'qmz8twj1lxq', '3i37pt18dfi', '4y5z3e5qv', 'dokirqdh3sc', 'eu2ha0vsnki', 'a9di5lumw0u', '64m8utnmv3g', 'ki7govrb33c', '6zvglkzjbhu', 'syjjgbjm2q', 'mflcprjcuiu', 'aikxqzj3rp4', 'vmcbxrwtrcg', 'skhqjblbxsg', 'yr4yfoya0dg', 'mqnx9isnedo', '8bcockbtx_g', 'oezl0mfey0', '4uadu5wiovo', '7xtj4zmwmu8', '7rj5-gruvm0', 'lm5vqenr1za', 'ar5j0qi0p7a', 'n3mrc7wfupw', '91v0yg1l4ok', 'kya5iifgl4a', 'asnwzavxj0', 'ekovpvf_vbm', 'u8wz7_0j3-i', '5seorxitg78', 'ffrylv-xsrq', 'c-seyerxh8o', 't03ghw9bzjw', 'qbcsfhml4oq', 'ytxtstkgg5q', '9y5sidnoaki', 'b13kx2vdoeu', 'ttgprdxvmca', 'mf1bwaztys', 'i-0wklh_rb0', '7lza6xxpfv', '-2fgnhtoy0c', '42wgc36wfzk', 'zz31lgxl7ju', 'fjkrr91mygw', 'elxxixw35z4', '33i7ikhaxvc', 'b59i5bn40kc', 'jalp_adoilo', '5cxl1fgdgqo', 'ladcwmgxcco', 'lr95u3ffyu', '_oj2rmkvv6u', 'j4upubvlzyk', 'wfxmq0wljey', '_qyp38js4aq', 'oxxahijr5uc', '6smyxbqxfz8', 'sjqmct4vuz4', 'gfbuftynx2a', 'qxdqsynwt9i', 'itgauaq7x18', 'a3lstnh8yei', 'lpfwvgr-r_w', 'f8quf51fa30', 'tomszrft2o', '8_htbyg1vm', 'itf4i8fw_po', 'y9_rzqgfv_c', 'wc6rq6oc888', 'j21vswzbwxm', 'zwwjly1mksi', 'dj8_qbj1dpq', 'mvntxxpnam', 'gslkzwl75p4', 'ntjnuev5mw0', 'x11bizz0rn4', 'asiftw3ltbq', '2bejlnazq', 'tiampwt3wm', 'tmhiif4qaza', 'qd6c-kudsvq', 'ardvt-dfnf4', '0-bq_ytnyt', 'k6n9lnqxmyk', 'tn29zjt3tci', 'beid1ajwdj', 'z0ofj2jbkdi', 'tqx2t6ydb6a', '6fp_6ly70z8', '4d2wsvwojia', 'vjsjcbdwpki', 'y-q6-h_-fsk', '_8sp5el1hxi', '6gp3ygqlu90', 'mjwe1j9r4xm', 'a2yvfetq5qq', 'tlaalam-jmc', 'itmeppy1jcc', 'pso9f_bj03w', '7wnea-dxcuu', 'ldesd6ryakg', 'kjtou5pxvw', 'ho7-rjf4pmq', '7kf3yaaohv', 'tmeiomxb8tm', 'koixzfayoik', 'aug9ps19a0m', 'dhadqubksxg', 'wmbo5riji_i', 'eeseo7faai8', 'f1u4sagy60c', '-vgxikewj_k', '2yccv0awutw', 'c8txzpekwau', 'yebngmrqgtm', 'od34wth2kss', 'otreickoy1u', 'fthyum94dua', '0xwcd0-mtc4', 'ram0amlyayo', 'a3po-ymytai', 'ht-0gspring', 'hrncchddwu0', 'kstb3bjxmdc', 'dnok3d0jff', 'tmaa8lfcnnc', '0_pukghawz4', 'j-zujbjcofc', 'xulpx1jareo', 'vr15_ityh0w', '1ginekrudm', 'l-sb614kzt', 'hebfk7s_suk', '5ckkeuh9j9a', 'fvdstp-ptx', '18jhobzudzu', 'uykee4gkv5g', 'cdq-ogavlf', 'g0n2uc3i1ug', '8mms2tv4eag', '4rsdkxjizk', '04g2on3qkwa', 'jflupnzs3wq', 'orh8gb7rgx4', 'bd2zf2jtqnm', '3uo-b_8t23q', 'oytrh_3gnfc', 'optlfa3opbu', 'zjh0xc5vyau', 'nlrnyhjpwfw', 'lpoy6r07c9u', 'jaqlvbi1sk', 'd3wd2yvwzv', 's0lknm2ojza', 'z2ifbinjpj8', 'ge4iynh4rcc', 'pb5whsfxnu', 'ey2n3r0g2sc', '1dinsg8mvf', 'inwqoejvqxi', 'q0qv31kddc4', 'yaxlueekqmu', 'fu_the50ki', 'fvhg3fvksjq', 'tiwkn6dsq78', 'xdsbrpnfvlm', 'l3z_op7as3c', '1fcj-umbxb', 'r-yqkhzo8ji', '-tzjwphrepm', 'vojwjoi5ngm', 'ffl97dcoupq', 'ygopicadac8', 'ojhfqgxlxxc', '14ce0wzqzoo', 'fhd1enqezhc', 'rr-gaq0tdv4', 'cqx9-l0rh8c', 'xp1gtxnm844', 'v0xoftcfnqk', '_70maatsidu', 'ora743e5p7u', 'brrcbq9kpx', 'pbgxksqyzeq', 'dyxaxejbj5k', 'ji8bls2rnha', 'gj95cr9zoqg', 'ohj8fsleqqu', 'icbf6qgziz8', '5_au4uos4mw', 'zxa65qy3bko', '5xn9kpd7ddu', 'qguo3ikm9l0', '7yzwomvrpcc', '4c8kdcr_lyg', 'juwao5tjs00', 'tgvysowufeo', 'vtnpquvo498', '_ehljmgsnrw', '73e-w3l1wbk', 'w5c7iscry8m', '8fgr-namyg', 'gcp9i8ewt78', 'zlze48nmp4q', '16eek98yvr', '4u5qximepv', 'tl4v5dy_4_0', 'pqrzwd_cqie', 'tpi29g5lqnm', 'bbq3vvv0mx4', 'k-crei0ymmg', 't_rtcqciivo', 'o8wrljqte2o', 'hxcmwibewa', 'kh-wpg2ufgu', 'e9gsto-4txo', 'ry7vfznemno', 'gm5bugvrixw', 'tryzstb2hnc', '_h8wgen5obi', 'ppg1gn_ey2o', 'n0thfqk1zgi', 'uvzhwjtnpfg', 'oqnu0-orkba', 'pv8ac1xe8ci', 'pvyr73p-ev0', 'ctjoepkbrwo', 'nvgnusn-epw', 'fitue3rwkuo', 'yzbrpfoiol', 'orxxstwo1mi', 'hy19nk7qbcu', '20u-u-ss0km', 'u6gmnuysd5o', 'zdr_3qvjx_', '2mb23tk2llg', '08xunmdkvnk', '9vsdp584zyq', 'o1jn2adsack', 'tmcrmcdkfeu', '-pcrlwkxzsk', 'hfy6xl1v2zo', '3fots6_xue0', 'ted5w7gd8km', '6n2x6ifp3nu', 'e31jqubacxw', 'fy5apf4v4pw', 'xhw6ynt_yaa', 'fjfbqk5rfra', '-laxsnytrni', 'ckvklf_j4nc', 'uod-cumkrzi', '5pgvs4v0cba', 'k-dh2f4cfw4', 'vwz97fspf5u', 'sm_tekuoqzg', '6zntnkuiksu', 'gdp86wd1qma', 'oavycejxdp', '5omqoteojmc', 'zqhwlrrszuu', 'qjlndpiovai', '1br74dcf9rq', 'd8yjburwxnc', 'deo2v_ljzhw', 'gkg85xxgzko', 'zn_9uatqwqu', 'lgpxwtxsgyo', '2sz3b3tqvh4', '3buqfwper0m', 'dhd5btj7iq8', '51yu_lo_dva', 'oyjmhruipx8', 'rvpbmhl9mpc', '4vvqj8ff2ug', '3f0ytuaky84', 'p20_qhc3vgu', 'qpsykqvdepi', '51m3kebmdni', 'rbxtx1e24p0', 'xivshxlvdjc', 'a5mh1iacaxk', 'somvqjuuham', '95m4dfw_br0', 'fdeb-zsweh', 'hasyum2jtri', '5mgbikgcwni', 'dpaam_lh4qi', '3g76wtt4tui', 'ut09ow5t26q', '3waqxjeyyxo', '7cz4y1u7bi0', 'jrbtyfk2m7', 'pam-2mosx8m', 'hhny8oou-ey', '-a8ooumuc-o', '_tvsjd6kxkq', 'unmew3goafg', 'bw-hrfj0dzq', 'ftu_xiblxsk', 'vjteppctqwi', '22pu1-98b6', 'gltl8ers1w4', '1tmep-ntkx0', '9sv7-c4xt8i', 'dqr0lgqcciq', '9866dmfjxuu', 'guefti7tgn8', '57hg5r5bqw', '3h2jndj48rk', 'up9ao_vscs4', 'a1sgvb3ybai', 'yt-pyfj2t2g', 'gbltdkb0biq', 'tbcpilxvsp4', 't8nvqdqzwgk', 'vpfocnnaqiq', '6e7wv_g4euo', '1ysqqkn1dzo', 'fojggmamiqi', 'c5czp24cdcm', 'xj636y8n6e8', 'fswgwvxxeju', 'yseqf8vgg8a', 'mtl0hfq2kou', 'v8_s1xr_p9q', 'fbudxff83h0', 'vknphh67hm0', '5e0edazd9tc', 'xtarwxktjw0', '0f0qy9shmbm', 'jfsjf7leveu', 'y8dendrlozk', 'mxiala7ywim', 'pdisezsalao', 'bwd2eppu6y0', '325hxkv9kzu', 'snsejqko-s8', 'nyf0aru09wi', '86o4gupqvku', 'jrndlvdw5a0', '3ceuivgarja', '0gmqm0cxpc4', 'zshaix_kbrg', 'gvvc3zcjlpk', 'xc6niwx4tl', 'bkxohhafkqq', '0kmysapjssq', 'zt3bljfapcc', '-q7xedjpcfw', 'imwmpx1spdg', 'zztv3vqnric', 'wrozwomkzh4', 'or8kn2hqou', 'vi7zuevvfqq', 'eqfli9jlm1g', 'rer_ucof7e8', 'hwpsbyv96_c', 'cuh-c4h3gg8', 'u8smjrded7i', 'pik4qvv7d14', 'oflaxsj62r', 'eaaawb3btsa', 'pi6zypecnnu', 'mj47mllrlzw', 'ic9kquzpmvi', '1fxoohkgra0', 'hyft24robcu', '1jiyou8tzzm', '6zt0iktxze', 'pcm1l2ybz1w', 'pyqw43zqoco', 'f4vnbg93th4', 'ombyar0qmgo', 'wjw2_0e96w', 'g5iew1dqmgk', 'pwmbpakwm70', '3vkpgzlib6m', 'bedxl0a2pl0', 'fy6sd8dbzqc', 'r9oajyviu9o', 'z2fyavkz2zc', 'dzh8cfrvll4', 'ogs_7kq22_', 'vjtudancov4', 'vjlvg2tp5vq', '0zcq40bodb0', 'ybmd-m3gosg', 'pkvko8gchy', 'lqlx79qxbo4', 'numrwvq0rei', 'jwijgll_gjw', 'l5egvejcpac', 'daybmi2nexc', 'kjtcubjz-z', '9f5iwvqbzay', 'jh1raxjin0i', 'qngs_a2dnz4', 'i6hmg1ws14k', 'gyralmbij0w', '1eecqtg_mkq', 'efmlo396api', 'bgrispxu6hk', '-_nmeqrpa8w', '6jrrf2kh2om', '59cgneuyrmg', '71yhr-v9vs', 'zhjxdll4ni4', 'yxhagpu7xac', 'arjcqcl87nw', 'qfjyhrfrbpw', '2no0a7csu4q', 'z4l2e6_gmkk', '0tjsl95a3z', 'wxlncowkmb', 't-_8dynq7t8', 'rtnm6ih2qt4', 'q53huakb9ou', 'km4qtzklu3', 'n4llcql0q9i', '3es2ajyqxf8', 'p6cer-c7gu', '12-d4tbs1xu', 'oqmsupjfvjo', '0bpekitvji0', 'qpt0ubpaks8', '6nh-l5rwjrg', 'wtbavpdwzqq', 'e1fa_dq8igm', 'wshhxppm1dq', 'b88wqh983lu', 'dlmlv_85wni', '9iulvl4hcgq', '8otsinznos0', 'fmgu2m29jb8', 'vukd2o7okma', 'uektdm5q6o', 'v_8dhruuq8g', 'xbxjxlt5to', 'btam5nvnhfi', 'qug8qsbory', 'qupotf12rw4', '3jw84ptvyno', 'cp6zamtbdj8', 'qerq198he8i', 'xu0ptmwyedq', 'gexnuyuc4p', 'cuetcnrhbey', '2sbzyjwqnoo', 'mbnkum4czbk', 'k6iuzelx6m', 'vos3br2doci', '3ddhlvin3oo', 'koiufjrikqu', 'l-s54nwkd9g', 'f3-o8m9lvai', 'h518x1sxrjc', '2--jkkggd_o', 'g91dtea1fd8', 'f5lhdkafxa8', 'knproikx6rk', 'k2d5szbqrc4', 'qgoygbpmtlw', '0cte_rf6nfg', 'vpxj8e2r7h0', '35n7cnn0vtm', '-ubnkmzybyg', 'iyih2dejeno', 'ajlqr-uxsoq', 'grx9wuucwna', '2eoqwvtd85u', 'ckong0uvqy', 'muf5xyzxmo0', 'ougqrihxnkw', 'f4_181ke7aq', '4n3l1offxs', 'sw2vgldtxso', 'n10svxex59a', '7okzqnj9fx', '0b2octcgvr', '08t8lij6k8k', '2eu0clp_q1m', '8nsv83lpqwm', 'bjutrn1lv0', 'stlegg1danm', 'oa9vwszlehq', '587rul45js8', 'uksgg2iucli', '1uloabkwgk', 'tyvjbupg3xg', 'esatcydhvl0', 'iv1lvjsrtdi', 'cjhhiot9ybi', 'u_e4lr3hepq', 'juyjakszqxk', 'j5kdwkdnahc', '6twjfja7osi', 'lto_uwwtfog', 'cgpxs7k0hj4', 'icvrq54n5xg', 'oc7rufris0a', '-rx6nk8pd-i', 'shenzm6vogq', '2p9re9hoozg', 'h1xja3dwx60', 'fuyfctf-bh', '1celmed68', 'w8loe7sho_g', 'b7vl0lwaun0', '3gho3zhknzo', 'v1s_qvwzfsa', 'cmgsnodnuuk', 'iki-q8clma4', '9mtacim0lw4', '2ffldeukze', 'ajdvciwckrw', 'lt0d55pfygi', 'il9qrni8k2w', 'h2fngm75imi', '5-ekulrplzu', 'gif-e76qw2i', 'n5jc_sifrwc', 'izhig_fjj9a', 'lhih5p9gswa', '-a-z6pzm08g', 'nebxhiui_rc', '5rnwbzbffmi', 'cbqczqzxf3c', '71s47oyccto', 'aubcxao_im', '5emhxvvxy1a', '03mmjzztgk', 'vaxa7d7iyfi', '0ey8aa9lqmg', 'md_xg4i1-sq', 'hy59zcz11im', 'twch4vnarho', 'dxd48kxlbm', 'lhbqld4_4hq', 'kcnizvtslr8', 'rmwgoiqtqom', 'uqhkacqzs3q', 'ivmixwky_u4', 'n7hckwv84pm', '1vnsvkz_d_c', 'slsjmn2adxi', 'gxjvpy2r33i', 'oynk0kc71wo', 'a6rytcqdru', 'vlz1swlbfpe', '0s-w3j5u-a', '4fve_45zu_i', 'f8yxjaw-oju', 'qhf0snhnttw', 'k2i66c4blv', 'bbyyjkerfvu', 'qfwq07njvc0', '9avba_km2oc', 'fk624czitkk', '3x0k_dbv-zm', 'xbonke_allm', 'e28gesztdm0', '4_chq1kvc7c', 'whe89rdskg4', 'lu0qw1-ikng', '3jjorb3jnsg', '0g2lxo-znek', 'y5kspmvkstg', 'adedmok7-u4', 'oj1e-d4gx8a', 'o7x2notwdum', 'pochyaj_0-q', 'du8r2zmzgjw', '_jun7yooxh', 'vhvggggnqtg', 'kchaagomdl', '4awkvtfgkfu', 'azfy1-jrh6q', 'jik6yspvtcc', 'pyaxsbsfbc8', 'rzw_fpqbe_o', '0ssvqdwkr_e', 't43tyhc3hhi', 'r1tzwtdlzw4', 'mlhmdaszg9i', 'kw7phrlolgu', 'xt9kkvv6jgm', 'mow0hlt0ana', 'effx-6ehfa0', 'k2djdd7upxu', 'pm6gd3l2lo8', '4rs8yiucsec', 'blw6p2eyn0c', 'omx7-t0usa0', 'by095l3z4zu', '7q8aokoih9i', 'hkk7mpl1iri', 'nhcvqiboaoo', 'moij1ihusgi', '3cpecr-sfi', 'z3--pczb_bc', 'fsehw2twma', 'jp40h9h_cu0', 'h5mwwti7xdg', 'nd1emgmi3hg', 'niok9_npruw', '1qqydutnyn4', '0he9-8nuw-m', '6b6zjmpxeya', 'ohhupzwrpdc', 'vfa6w7rqoqg', 'quuohsun9wi', 'lov7pol3ama', '4_dipjsorvi', 'd6x6k5yygnk', 'smit1qzjk_m', 'j2npv0gxg6m', 'lolul7_hgiu', 'cip3lmqq7y0', '5fiauk1fqwa', 'aj53lv9rywo', 'q7fhfaxxmmi', 'baqu4tnghla', 's5dncbcv_wu', 'ysbzz5ggdf8', 'tlsxqnz9mei', 'of1cgdqrckq', 'wyhwxuaa2ga', '1mnaxyra64', 'iik_73gssw0', 'zwly6dbtbsa', 'kone4snfa64', 'i_uomjbreb', 'fsh3v3sxkc', 'q1-hos4qaj8', 'z9dbxjjfdwm', '698inxwnj58', 'x11x7ix_bz4', 'rr4n46i7tda', '7dgm4ut6alg', 'uq1hkk-yk0', 'zl_vb-8_how', 'xse8ebny4jk', 'p2tbngbyzxi', 'banswdwpwo0', 'ztk9-v1jcia', 'drjmcs9-7bi', 'coxsty6fof0', '5kithc_aliu', '-gajhf_4_j8', 'kgtffgbvz_i', 'fvhlqik1yti', 'e5rvlguto', '8ligxnu9onk', 'dfo-asmyrp8', 'p9vgut3huz', '2lzzptiedhq', '4xjnll3rq_o', 'xofwr2trn18', 'vb8frwtqrmg', 'vuxv2nwso18', 'qjyybsbscq0', 'wrkmn8p4j8k', 'p37bzbqzeam', 'hdngbuzue8q', '-u7ymfhad3i', '_hvhapdzsuk', 'lpfcwgfh2h', '3wvj_gtgb7', 'ifpvke-2uxk', '2p0fhw3c9rq', 'zirgvjd_xbw', 'y4d1ktvetkm', 'enejqqjkttu', 'qydp1dllsbi', 'n9otnzkza6i', 'z5dbfubgwj4', 'aldo3chhnlq', 'z4jp0omvjb', 'dbmfrjvbl4w', 'r7lixd7ka3a', 'um4nppflvd8', 'l4rtpkfmv1e', 'dtsjl_xoi3w', 'r9dfqno5ll4', 'nkq81wf_830', '7dx-7tcfh_4', '1oe19ls7_po', 'opcnt3qfypc', '1cgbdmysldw', 'ywqvmq50yfi', 'zwnwvbdonzu', 'obopiasfthw', 'hjem9fj1yr0', '0zigtlzcqtk', 'h_v4s1worjo', 'jbgolnzsfgq', 'ooagarbjh_', '9e2rvpegqb', 'twm9my8s7ya', 'oyh4kaeno10', 'kerep0o4wom', 'zq_pm0bbcii', 'yvzyshegt0g', 'usxtxndi8ba', '8zxxwp9wjq0', 'wac02yt7_la', 'lhislpwsj5', 'f9j_deqiqta', 'teb_qoxjs1k', 'r7n7o1rq068', 'wlezmultixc', 'vrpzsp2gl4m', 'nvzdm31rjju', 'hjfvy8kz_t4', '8-3xe7rmg3w', 'wp-hpukb9ei', 'rxgsregmsx', '6hbta4vkzlw', 'isyqz_xp4w', 'ysiekgdaqnu', 'mitcs1kev_8', 'oejnuntqjua', 'uwivpvtrg1a', 'd7zezfebla', 'nof_te5vgt', '35ylsq39aai', 'm6sdl7nw9wq', 'jj2wxkjpjvg', '29ej2lfxvhq', 'ezkce3bxxpk', 'egbn-r3uzqi', 'b4ligtawbb', 'flrzg8bgppi', 'xxdkycicmpu', '9wqlezc2go8', '_ni4saqznwo', 'kfgjmo1y3n4', 'urniaxhie7g', 'h65ll6r3tgc', 'xq-neoae9c', '2po5ejtvfbm', 'e-uoc9rhday', 'wwisakymdg4', '_ic8f98pwwi', 'nlk6i963ng', 'ke0notnhllc', 'gyb6lmyw7du', 'at05fxubmto', 'tnp0uga9ha', 'ukqjv_h9udi', 'yk-aoolyat', 'tovzxbxuohk', '-lxbq1d1lho', 'bo8tu2ztrkg', 'g1cac6wdpki', 'gkybbkrey6c', 'xc-vbfgtycg', 'wtbhilnspiu', 'szoh0ehakay', 'buu5ckk4je4', 'yjmop1j32vi', 'rlsot3_cbhg', 'ikvivnxodhi', 'v6g2frgk2uc', 'kmysl0ftxwu', 'y2o8upcxcqa', '78nmea_4wda', 'lyhyjn-lamc', 'njv0mfife1w', 'tl0ac5v2t3g', 'ugza-_g9198', 'ya84livwep', 'g-svwzd4do4', 'aki9fe14y-8', 'yavpw_zkjmi', 'ebbdmde6bz4', '6e0pt5qxipg', 'up7qj4gvdq8', 'akhys_zgpww', 'wyuec0ppz68', '36ku2qtjpja', 'pitmk0mcau8', 'orreq0e-9lg', 'r8b1bf44qt0', '71rwnqfk6pc', 'ogtmw7cylr4', 'xyv0qatsyt', 'vpz_fjsgj2e', 'dhshfl0olwc', '0ngvkezkblw', 'rgmkl4qcm50', 'xsqbxl5m4_o', 'junccrlswi', 'zn2d76wtwn0', 't9noqiqs3iy', '28ohcqpwhog', 'mwyep8skcmc', 'q98j4e5qlt4', 'sgzuxuthnna', '1fw-_yghja', 'gnr2m6ghiri', '8t_vcnl2w_q', 'hjwpqb1bexc', 'hml2l-bcuuq', 'nfkzscsobcg', 'e3fnsghe8e', 'gubuqdr9i5i', '4nt2fv_i-i', 'xeutj2g_b_w', '3dt7ywhnsd8', 'nsuv3gdjf3i', 'xeb_hou1ygu', 'snwjtu6kyso', 'tg98lcvm6uu', 'wumyd3wixkk', 'es8sj-1cfcu', '5ktfym1sr-', 'o1janti30do', 'kunziznnxuy', 'iuefa-e6iaw', '6shaa3lvrd', '8jzicgrg17', 'u2hs_hswgmq', '9wogzdgg8p0', '-n8ciu_6kq', '7v4_2xksyc0', 'hvzss8savlm', 'sonvnatcrom', 'xz7vvgvzoa0', 'ihir7tssfj', '2w9ksw1ikx', 'ssufmw9s5w4', '6irnybbrjx4', '7z8axykkifa', 'hsbtbuz-55q', 'nlhmgs3qfxo', 'aqj0o44bwf', 'wttz4fb1yv', '62saalhieqw', 'xenifynndca', 'ybh-d47xnzm', 'clqctzqeqzi', '6j_qadt5acc', '5_fqwwyz6w0', 'cgxphw06jvg', '-rjjto51yki', '8mq0r_vno5q', 'fz1hobau6im', 'uvbfoysyw5w', '8mv0ql178qa', 'u1cogbww-pa', 'qtsror4q_pm', 'wiojswyy1pa']\n",
      "Part-of-speech tagged text: [('lsm1v844z1e', 'NN'), ('x0jofzoydcq', 'NNP'), ('nefdqw1ewuw', 'RB'), ('1s8x3hexio8', 'CD'), ('jfnxpmt6h_i', 'NN'), ('cocmvmr8zi', 'NN'), ('wkj569sjayg', 'NN'), ('wekw3n8vrv8', 'NN'), ('dcx6qmrw57o', 'NN'), ('bthaywxtbdi', 'NN'), ('mwrhhiaj7nc', 'NN'), ('gfejhb5lfd', 'NN'), ('bwmni3wcitg', 'VBD'), ('0aeyr1b6fgw', 'CD'), ('n7al_xbgv5', 'JJ'), ('0_ad-pbjqg', 'JJ'), ('hybgtiglmlw', 'NN'), ('powymedenhk', 'NN'), ('ujzr2prnedw', 'JJ'), ('sbrxq_bcdl', 'NN'), ('h0nn6pjv_fc', 'NN'), ('b5ubotkth6m', 'NN'), ('frhq8c6jwj0', 'NN'), ('aayu2znslb0', 'JJ'), ('w69noyjyrr8', 'VBD'), ('g3zeufrn-og', 'JJ'), ('91jrtuuvlq', 'CD'), ('m4ehjmjjun8', 'NN'), ('3ah9upsy1iu', 'CD'), ('9hjulkhseo4', 'CD'), ('uf-h0v2lyeu', 'JJ'), ('79bgzj26ozm', 'CD'), ('-tsnxdsq15q', 'JJ'), ('coolgdg5vbi', 'NN'), ('w8ywcm6eg9', 'NN'), ('logwmfxfxgk', 'VBD'), ('80oov72cwsm', 'CD'), ('bwzebtwksoa', 'NN'), ('sqz46tu8u4k', 'NN'), ('11_az8dxzi', 'CD'), ('uq2pxclzrw', 'JJ'), ('dggvp6vshzg', 'NN'), ('cgih0zhtoqg', 'NN'), ('8teusxkaw9q', 'CD'), ('shxhrhtgscc', 'NN'), ('ibkpe0izhf', 'NN'), ('xgdbs3b3rnk', 'VBD'), ('3a70sgbigau', 'CD'), ('tkze8prkie0', 'NN'), ('ck5abatnwno', 'NN'), ('xi0dab8jdm', 'VBD'), ('cfii5m3-at0', 'JJ'), ('022y0pfkjdg', 'CD'), ('ovn1qmzwlu', 'JJ'), ('ftfxzsfzixq', 'NN'), ('nacfue7svsa', 'NN'), ('hhzm523ly6', 'NN'), ('eijbvpnbpvu', 'NN'), ('v_7qbuzfzim', 'NN'), ('iqrbnog0vai', 'JJ'), ('hwniejmic9k', 'JJ'), ('1xyzl8ekh-w', 'JJ'), ('jrd5xaqfgaa', 'NN'), ('8qcu5uyk4oq', 'CD'), ('fzmq0lmik0g', 'NN'), ('tdxqplp4lbi', 'NN'), ('3ac7zgjdxda', 'CD'), ('sdprkfwsv5w', 'JJ'), ('-2jgvkcmnx0', 'JJ'), ('k0sisjlio-w', 'JJ'), ('cwzjmp57_jw', 'NN'), ('c5axj6afenc', 'NN'), ('axch6rw2lbi', 'NN'), ('i6ysbhxj0sa', 'NN'), ('uha7zrt0fl0', 'JJ'), ('tfclbnm5mge', 'NN'), ('etvkwvklc_m', 'VBD'), ('5ujftrwxdpo', 'CD'), ('5ojfj19hpqa', 'CD'), ('7xdmclp5mhi', 'CD'), ('imhj3awyz60', 'JJ'), ('3edrum6i-3w', 'JJ'), ('pbvfjqy1gpi', 'NN'), ('8sqbjlwu9ig', 'CD'), ('r7rdyaa5aro', 'NN'), ('w0zf5snytzm', 'NN'), ('y9mjwlxbmqw', 'JJ'), ('uk-8axl9lya', 'JJ'), ('lavahcw-jp0', 'JJ'), ('lzvirid-jl0', 'JJ'), ('rwglcpaoazo', 'NN'), ('tjmlzgyxwe4', 'NN'), ('m_eojskti4w', 'NN'), ('ju7gza7exhu', 'NN'), ('i7ghlxnuhvw', 'NN'), ('5xs8jcohtwg', 'CD'), ('zkgfslseywa', 'NN'), ('l7mug_y4bzm', 'NN'), ('cpqjwjnskqu', 'NN'), ('tnz8rlgwkig', 'NN'), ('li97w6quww4', 'NN'), ('y1gbhfixovw', 'NN'), ('j1dilo1ewao', 'NN'), ('uhi59jfb3n8', 'JJ'), ('bwdpeys_dd', 'NN'), ('apz9l_r76oc', 'NN'), ('zeu4ozx8ack', 'NN'), ('yadyd28wiwu', 'NN'), ('tut_ulzsdy0', 'NN'), ('wjkueuhpoa', 'NN'), ('f2deya8swmc', 'NN'), ('sd1dnhkxdhe', 'NN'), ('ddpft0xytrg', 'NN'), ('kk8kapvrkuu', 'VBD'), ('7qzttglgqdc', 'CD'), ('rbhcw6n9akw', 'NN'), ('8deegbkoykq', 'CD'), ('ooglyikiio', 'NN'), ('w0t1m84i4e0', 'NN'), ('g2wtmfurt5o', 'VBD'), ('h-8lunkwko0', 'JJ'), ('7sbulzlhxk0', 'CD'), ('wactrrc9cr0', 'JJ'), ('d3usc-kmkc4', 'JJ'), ('tmktmp9zib4', 'NN'), ('okqnz7mtuwa', 'NN'), ('gkpk0zqdvnu', 'NN'), ('ulwaaoizodu', 'JJ'), ('ajtmltnqyw0', 'NN'), ('tl6rulgpzqg', 'NN'), ('uwah2e0gpz4', 'JJ'), ('9lag7rxwtkc', 'CD'), ('i9og5cd2l0o', 'JJ'), ('m2vw2sogau', 'NN'), ('-auvcej5dyg', 'NNP'), ('myohp5v3voo', 'NN'), ('rpanhedsbuq', 'NN'), ('nprso_v6914', 'JJ'), ('w8kjkwq2r3', 'JJ'), ('t8op6jzuzgw', 'NN'), ('uz5-kvgr4wi', 'JJ'), ('w2ghb8k7vbw', 'NN'), ('p86oiktzuao', 'NN'), ('jw7xuj2ghoy', 'NN'), ('xy_tda0rac4', 'NNP'), ('bpdamawhlkc', 'NN'), ('-d7yp_en4yq', 'NNP'), ('j8hsweatyag', 'NN'), ('zjibvobt9li', 'CD'), ('hgcpyuau-s4', 'JJ'), ('2klq-fkuuj8', 'JJ'), ('19ow0g8syng', 'CD'), ('xvqzcmxyqyk', 'JJ'), ('cgmjbwvt3hk', 'NN'), ('_exrif-g_hi', 'JJ'), ('bbeetdcxnfi', 'NN'), ('ghlsq4jya48', 'NN'), ('zz4izk5ixay', 'CD'), ('iukknz2ye-8', 'JJ'), ('fg30rywdnk0', 'NN'), ('hyqmpnxta5u', 'NN'), ('01hutxdbdu4', 'CD'), ('y0r5ro1jjqm', 'NN'), ('nzgf1vsbso4', 'NN'), ('klgvl6it48c', 'NN'), ('vodfqcrxpxc', 'NN'), ('bkwlxcfckti', 'NN'), ('ybmf1m8t5ju', 'NN'), ('xno4ah_t38i', 'NNP'), ('mldveephkxa', 'VBZ'), ('6mcfvaeljqu', 'CD'), ('okshrpnk0iu', 'NN'), ('-xtr7ngjzdc', 'VBD'), ('8vuwcv_6cxm', 'CD'), ('eztazewqsjm', 'NN'), ('7adwykl7od4', 'CD'), ('6lpatw4nthq', 'CD'), ('xd7ptvs9el', 'JJ'), ('_x-eri-tym8', 'JJ'), ('q4l8jzf9tvk', 'NN'), ('lleczae0-eg', 'JJ'), ('m31n0n2lte8', 'NN'), ('5kwwudikd9m', 'CD'), ('f1cc8fkt0c0', 'NN'), ('ykysh_kvgim', 'NN'), ('hqoo8e8pcp', 'NN'), ('f5552nf5qga', 'VBD'), ('eoc83jhkcaw', 'RB'), ('7ny5dgsvrio', 'CD'), ('ukzxpiz1ngi', 'JJ'), ('t7myb6x68di', 'NN'), ('krkipllmwgk', 'NN'), ('meotupcx4ba', 'NN'), ('syh3z0hp1wo', 'NN'), ('wyaz3qdxyig', 'NN'), ('epo6zcz703m', 'VBD'), ('a-1msnb016m', 'JJ'), ('tolyjhgttec', 'JJ'), ('-hfxu3binli', 'NN'), ('flt0bxexuy', 'VBD'), ('ws8h1x-cocm', 'JJ'), ('1erwsurqez', 'CD'), ('qgppfsiljr0', 'JJ'), ('jqvoe-x9obi', 'JJ'), ('scwoi0x4jw0', 'NN'), ('we5djgqwk9w', 'NN'), ('h2fvgzfcycc', 'NN'), ('j2bejwfe6_o', 'NN'), ('9cb01p8wwf4', 'CD'), ('qtrkufmt9bm', 'JJ'), ('5wehj_w2m-0', 'JJ'), ('x4oiz61tgk4', 'NN'), ('8lp8qxu5mvo', 'CD'), ('mrwuonmnqeg', 'NN'), ('bvn1fk-quio', 'JJ'), ('9nff7c9vv1', 'CD'), ('xu1uncqdfo', 'JJ'), ('6put1vwhngi', 'CD'), ('ixxwm8m8_xc', 'JJ'), ('mubymz-gcgw', 'JJ'), ('f0ygrxhfv54', 'NN'), ('_qxgnxuz3mk', 'NNP'), ('-tchscnzwmo', 'NNP'), ('ibpefln94nu', 'NN'), ('hnjmc1mkxt0', 'NN'), ('esyqhbqtgri', 'NN'), ('rk4xdyt3ick', 'NN'), ('ufroaqkb3ec', 'JJ'), ('nspgnombv4q', 'JJ'), ('fae29ow0xli', 'NN'), ('u_m5maxll5u', 'JJ'), ('97vk7vi4x-m', 'JJ'), ('tqx5w9li6wq', 'NN'), ('j25v-heafvk', 'JJ'), ('70cgdoqqsro', 'CD'), ('4etnj-mem1c', 'JJ'), ('pionrsup76w', 'NN'), ('oywq_hldqyq', 'NN'), ('pxrqadx7a3a', 'NN'), ('oj8ic0ax5go', 'VBP'), ('mplawpnozc', '$'), ('78zw4elx8ha', 'CD'), ('sv3txmsv6lw', 'NN'), ('fnzqondknu8', 'NN'), ('y0mfnwkbqp0', 'NN'), ('fkl9_bdthq0', 'VBD'), ('1kepkjiukao', 'CD'), ('lpujtqehj1g', 'JJ'), ('x4eegl8j4wg', 'JJ'), ('1ktiv-v24og', 'JJ'), ('r_j0jsifh9i', 'NN'), ('5sa9nykiyg0', 'CD'), ('szq1rnxwpss', 'NN'), ('fccq6thzwiw', 'NN'), ('kshlofhuds0', 'VBD'), ('at9uohldfum', 'RB'), ('6j9jmxv51j0', 'CD'), ('exgyq9slk50', 'JJ'), ('d2udbu2-4km', 'JJ'), ('znibcwaaogo', 'NN'), ('7agly0pgd94', 'CD'), ('cj8posm7ty', 'NN'), ('8j7pipkrwhq', 'CD'), ('_jvysewhnwu', 'NN'), ('caeyo8espii', 'NN'), ('ei4cepeizl8', 'VBD'), ('5icuu8pdl9i', 'CD'), ('we3gk118v1c', 'NN'), ('2wiqeivgf7k', 'CD'), ('xcxs84zhsvo', 'NN'), ('zqv7mbbbuzw', 'NN'), ('l9cbipviy8a', 'VBD'), ('3ogx5ipc5ao', 'CD'), ('ujsewm6zxjk', 'JJ'), ('ghmbvpxx4au', 'NN'), ('oyrlevzy4zw', 'VBD'), ('5i8f2hni0q', 'CD'), ('6_bdrswhmw0', 'CD'), ('rvwghgu9jj4', 'NN'), ('vmhgtyjyx2u', 'NN'), ('bajwdxfwndo', 'NN'), ('_ozezbetjr0', 'NNP'), ('vwnn6qedkb8', 'VBZ'), ('3fvwwd90j_0', 'CD'), ('n7lnxgnl3va', 'JJ'), ('tiwksxbbebg', 'NN'), ('5ut65s_jnki', 'CD'), ('9bbs8ssntb4', 'CD'), ('7kamwv85qui', 'CD'), ('edsluuaonn0', 'JJ'), ('ry6qtb0-y3u', 'JJ'), ('fpgf69ikcw0', 'NN'), ('sg8suxp3st8', 'NN'), ('fpczijla9vk', 'NN'), ('plbv0bsuffu', 'NN'), ('i_knhb4gumm', 'NN'), ('vnwf2krih10', 'NN'), ('fzul9pael6u', 'NN'), ('vbspr2p0yym', 'NN'), ('yenzlqxazng', '$'), ('0sqzsr4rrci', 'CD'), ('oslnt9zr9jw', 'JJ'), ('-uj2yesgmza', 'JJ'), ('jdf7gvkgn-g', 'JJ'), ('-uvedw852pi', 'NN'), ('upqnb6fbw_o', 'JJ'), ('gf3hbmd9nqo', 'NN'), ('kpoh654pbl', 'VBD'), ('yq9kgmas-xc', 'JJ'), ('_haqesifkyu', 'NNP'), ('ala1d1uhsyu', 'NN'), ('l36avjqwp9a', 'NN'), ('anr6_hxy_mi', 'VBD'), ('9pc2xxyi6kq', 'CD'), ('3r3tpxzn5t8', 'CD'), ('zdk6kniphqg', 'NN'), ('or2-gxhfauo', 'JJ'), ('t_vrbbrpr3c', 'NN'), ('lqdccyzadtg', 'VBZ'), ('6vn_q0j6t6i', 'CD'), ('fsuv_qzoxd', 'JJ'), ('3-tkob9oci0', 'JJ'), ('ckw-wb76ax8', 'JJ'), ('4mfoecdtxdq', 'CD'), ('6qe-rzvvfyu', 'JJ'), ('k18lpvv_71q', 'NN'), ('rjhiowavem8', 'NN'), ('okdy71jqya8', 'NN'), ('ksdy99fntr', 'VBD'), ('tca3ucps3_o', 'JJ'), ('eie-ltn74ik', 'JJ'), ('mcn29r2uayo', 'JJ'), ('8ts-lcgaihm', 'JJ'), ('caiqbp-6ol4', 'JJ'), ('7gtrucgdspc', 'CD'), ('j6klfwi2kc4', 'NN'), ('rdj22vxxys8', 'NN'), ('w6ovfqgb-s8', 'JJ'), ('myzfzmcrfu4', 'NN'), ('tglng-yjabu', 'JJ'), ('vtndslkw6y0', 'NN'), ('8mfw5d5qek8', 'CD'), ('yezfr3eyxk', 'NN'), ('lputxhzm9f', 'NN'), ('vfitusxnzpm', 'NN'), ('fu1oo6qp4ba', 'JJ'), ('wubnizwsnr4', 'JJ'), ('wmvhgl-bcnq', 'JJ'), ('rrkmtawjq3u', 'NN'), ('7agizgrcsc0', 'CD'), ('xwsjynlairk', 'JJ'), ('kcxgvrsmtgm', 'FW'), ('coeu3iua-sg', 'JJ'), ('el0qqbl4cw4', 'NN'), ('9jipre0ay2i', 'CD'), ('89fvcn5s_8c', 'CD'), ('mwzp-guhql', 'JJ'), ('wum3zjsl0w4', 'JJ'), ('pyqk9l-kmqu', 'JJ'), ('qchr_vocf0', 'NN'), ('jzsdrteqchu', 'NN'), ('nbfttji2nni', 'JJ'), ('humledmhmv8', 'NN'), ('kc5cni9ju5u', 'NN'), ('jan2jibrhgw', 'NN'), ('szl6vvt4e4e', 'VBD'), ('8_ycnpz83lg', 'CD'), ('ytxd2hkocxm', 'JJ'), ('u3ukb0m8pu8', 'JJ'), ('g-tgu9w3afc', 'JJ'), ('wwsy8iaoav8', 'NN'), ('-jpoerqbav4', 'NNP'), ('uf7uw3wb5xq', 'JJ'), ('xf7uqmn2rti', 'NNP'), ('rp2dy8czn_c', 'NN'), ('yc3ormzzc08', 'NN'), ('sx1egd9bny4', 'VBD'), ('0dkt53gotya', 'CD'), ('omuaabbnpx8', 'JJ'), ('hsm1w_b0ik', 'VBD'), ('sarx-idfbyq', 'JJ'), ('8dr4fkzhcey', 'CD'), ('n286bibenqk', 'JJ'), ('fhm03-s9c5g', 'JJ'), ('3jkn2av1qqq', 'CD'), ('alqdlll40fg', 'JJ'), ('g6zq0gc0bz0', 'JJ'), ('y8scba-keeu', 'JJ'), ('hiepiotg_m', 'NN'), ('_17twxlaf30', '$'), ('2gvlcn5nbx', 'CD'), ('ralgfbm9q0k', 'NN'), ('ufluyghmknw', 'JJ'), ('37pzurgtmj8', 'CD'), ('8fnzjugbvt8', 'CD'), ('1rdja6hmgyg', 'CD'), ('7rc80dafnw', 'CD'), ('dxktcakdjy8', 'JJ'), ('lr-ojvkjyuy', 'JJ'), ('hw-_wa1psi8', 'JJ'), ('aw_xdxdtdmc', 'NN'), ('gcnbckx8m8o', 'NN'), ('2xc1s7c3sii', 'CD'), ('e_r0aoczvn', 'NN'), ('2sdbemvqov', 'CD'), ('0x0cczfwgfw', 'CD'), ('hqmvcp31kvw', 'NN'), ('po0lm1ctiv8', 'NN'), ('qajnqynjxb', 'NN'), ('ezrcimypski', 'VBD'), ('41rwkaufmj', 'CD'), ('4vnuamgog58', 'CD'), ('hjk373zodv8', 'NN'), ('v9w5e9i5bw4', 'NN'), ('ppjhjsitlnk', 'NN'), ('neeghgliqey', 'JJ'), ('ygy9ml9y6yk', 'NN'), ('-p8we9tmojq', 'NNP'), ('pljsldtzzlo', 'VBZ'), ('uubdmjor-bk', 'JJ'), ('t395mdaxgnk', 'NN'), ('byxx17mpcf4', 'NN'), ('8qltxc0fy4k', 'CD'), ('-dldmqucqdi', 'NN'), ('lwkbh6tjsjg', 'NN'), ('z7g3zaglcyc', 'NN'), ('nsakxrfllbi', 'JJ'), ('ysjp4bqyezm', 'RB'), ('5auu9qhq13q', 'CD'), ('jamqfqk1_i8', 'NN'), ('pzni14ylapi', 'NN'), ('4tggth1i3wc', 'CD'), ('bjfro05hwq0', 'NN'), ('fqcepnffpy8', 'VBD'), ('5u6cz0bn_f8', 'CD'), ('8tuzd_55tik', 'CD'), ('xsbsb8egkr8', 'NN'), ('vxws6yoopmg', 'NN'), ('e0n0nprefhi', 'VBP'), ('jrr5c2ccib0', 'NN'), ('0ca4vn_ywfo', 'CD'), ('-ymum-wa1xi', 'NN'), ('xzw3ffr0ksc', 'NNP'), ('zj_lv6hzb78', 'NNP'), ('yt0imxrgmhg', 'NNP'), ('f6hhni7rpzu', 'VBD'), ('8l0dm16br3q', 'CD'), ('nyyxerec2zk', 'JJ'), ('gpixeabwof0', 'NN'), ('7mmaw_ttxki', 'CD'), ('ih9xf4bja3u', 'NN'), ('kab5d2klnoi', 'NN'), ('natyq5akak', 'JJ'), ('w8ucrpcwn14', 'NN'), ('a5lcyla2lb4', 'NN'), ('qx7jbhn7ixk', 'VBD'), ('wug-u8l1mk8', 'JJ'), ('7d1aaqefcok', 'CD'), ('g3vbenl1nqg', 'JJ'), ('ricsouya-wi', 'JJ'), ('ciscwl-m2n0', 'JJ'), ('dspq2ggh4om', 'NN'), ('oishj_ibadw', 'NN'), ('v6__dec5fmi', 'NN'), ('k9j_lifguh8', 'NN'), ('xnuxqbwmrgw', 'NNP'), ('njkmadwya0g', 'RB'), ('3rg0jwf-vka', 'JJ'), ('wx80ad4f8_0', 'NN'), ('s8nzpafqh5u', 'NN'), ('_wj2omuocco', 'NNP'), ('yojfwp57y1i', 'VBZ'), ('58wqjv3qws8', 'CD'), ('hrliscrh8da', 'NN'), ('w0ya6lpe2ca', 'NN'), ('qv8yexem3uu', 'NN'), ('g7qdne1vvb', 'NN'), ('ck2ehdehelk', 'VBD'), ('7-y8lsfahw4', 'JJ'), ('nnzju8dd7i8', 'JJ'), ('cvcqv0chbwi', 'NN'), ('xnc9spfh590', 'NNP'), ('fugm7zkell8', 'NN'), ('pjdpvsbj1z', 'NN'), ('x2ku0ojcrhw', 'VBD'), ('3f38yfy3oo8', 'CD'), ('nd5w8efalfq', 'JJ'), ('3dwimpgon40', 'CD'), ('bv74s1zo4a0', 'NN'), ('aex1alf8yg4', 'NN'), ('dkslxsuvpl4', 'VBZ'), ('qq7jx-s0peo', 'JJ'), ('k8d6leyw47u', 'JJ'), ('1abnf6y-bq', 'JJ'), ('ybundphddbo', 'NN'), ('i5g9im24lfu', 'JJ'), ('y-2q2hi_gvk', 'JJ'), ('be2s46_kgpm', 'NN'), ('ug5ms0gpfmw', 'JJ'), ('ppqk7yn0-4o', 'JJ'), ('iq6lt0drysi', 'NN'), ('irqrottqt58', 'NN'), ('kqo3kkzttwc', 'NN'), ('fafehmnfe3g', 'NN'), ('kop8gn95hr', 'VBD'), ('gxlewxyu620', 'JJ'), ('6vxphla7ld8', 'CD'), ('km_avkdm5hu', 'NN'), ('fjbhplyvbu', 'NN'), ('rechwbjg7ak', 'VBD'), ('7knxdmlratm', 'CD'), ('gb_jrmvul0g', 'JJ'), ('6kb3fyke-g4', 'JJ'), ('8im7nkpeqz', 'CD'), ('3tvnpoh1fa', 'CD'), ('g5frrzhsnj8', 'NN'), ('wm797p0kprw', 'NN'), ('cv_wc4p8qx4', 'NN'), ('9w9kwxlnviu', 'CD'), ('qi0hpqcnejq', 'NN'), ('-wqfyo6zsti', 'VBD'), ('3gjkygdrn5i', 'CD'), ('9qnpb9nazqg', 'CD'), ('khhv6k70-la', 'JJ'), ('elq1uybj-jq', 'JJ'), ('nsprbjvfde8', 'JJ'), ('sx9lt3akraw', 'JJ'), ('g6xiixx-7e', 'JJ'), ('2it89xca9vk', 'CD'), ('wreddx9aegw', 'NN'), ('mueibsakwli', 'NN'), ('r4lzd4hval4', 'VBD'), ('0amkjlngaf', 'CD'), ('-y2zxvdguvu', 'JJ'), ('bxzbg-xlv6q', 'JJ'), ('nwqb2achwmi', 'NN'), ('xanolgxuwyw', 'NNP'), ('jj_vbgyxsu', 'NN'), ('_alqm159oi4', 'NNP'), ('ysdsxogrtu', 'NNP'), ('rjaiz6cvfzm', 'NN'), ('puogkwg4a70', 'NN'), ('atbz59u2g5i', 'NN'), ('rlw5fsjd03', 'NN'), ('jez6pmphlew', 'NN'), ('aleuwciodgq', 'IN'), ('fgslzcicxz8', 'JJ'), ('lwzfb8q9jde', 'JJ'), ('qm8bujo2eam', 'NN'), ('r4niok6h9uy', 'NN'), ('_qfvizmqlg', 'NNP'), ('m9fmeygx35', 'NN'), ('x8vjhex8cza', 'VBD'), ('3ogjm4nssmw', 'CD'), ('zcn-lspmwxi', 'JJ'), ('-0bvypvvjsi', 'JJ'), ('0llqlk-pwfm', 'JJ'), ('bpl7d20f2me', 'NN'), ('asxkyqkze4k', 'NN'), ('rcwqypouq9u', 'NN'), ('u_nttbtgp20', 'JJ'), ('0xofhpymaeu', 'CD'), ('3abayur59sk', 'CD'), ('-59lks8oyq4', 'JJ'), ('3a75obmdsym', 'CD'), ('czwhbzeg2s4', 'NN'), ('lip_euqb4l8', 'NN'), ('ifhtgodzoxa', 'JJ'), ('ks_jmgkf7ci', 'VBD'), ('2t-tju7b_e8', 'JJ'), ('w4j0plciujm', 'NN'), ('8g1xl023f0a', 'CD'), ('gborq1xo_r', 'NN'), ('xwjsigpnecq', 'NNP'), ('wusihlh7z7i', 'VBZ'), ('2sela-8bf9q', 'JJ'), ('ol068cu113i', 'IN'), ('o_j-jsp3cbk', 'JJ'), ('altdjg0awbu', 'NN'), ('9wsp5ftqgdi', 'CD'), ('ihfpinr7y1g', 'JJ'), ('tpznfhy-cic', 'JJ'), ('umpvziint-g', 'JJ'), ('je6yigbwvtw', 'NN'), ('0ll8h0gkbb4', 'CD'), ('trc0zfqzbz0', 'JJ'), ('i-zphkdnuca', 'JJ'), ('spgku2e-jdw', 'JJ'), ('d1b7wbsaooi', 'NN'), ('bd408m0bkxq', 'NN'), ('gyrhotvikzi', 'VBD'), ('4b-i9khiba', 'JJ'), ('of9th5ntne0', 'NN'), ('zwedlzb110g', 'NN'), ('vriztclhztc', 'NN'), ('ns_rmdf1enq', 'JJ'), ('i5zn0nytghi', 'NN'), ('wqqb2traaxg', 'NN'), ('ffronfejdkg', 'NN'), ('gassonu0jqk', 'NN'), ('qo7afro5wmw', 'NN'), ('ufj4h3bo08k', 'JJ'), ('0uivs_i1kb4', 'CD'), ('e3p5odbzkcg', 'JJ'), ('-sutmux4vbk', 'NNP'), ('fgtwe6dkku4', 'NN'), ('waaqyqdgr5k', 'NN'), ('mqeyfhqi3_0', 'VBD'), ('wf-qaz0avg', 'JJ'), ('k-yazbbf3g', 'JJ'), ('o4qazwrvo6', 'NN'), ('a5ohrf_l3b8', 'IN'), ('f9vdqs-fhic', 'JJ'), ('wnlvqyueqdu', 'NN'), ('sveirinsdwk', 'NN'), ('zopiwvovcpq', 'NN'), ('cyujifm4h_w', 'NN'), ('mifi4tcrwqa', 'NN'), ('ca3reolafpc', 'NN'), ('ylhrcaslbj0', 'NN'), ('yg5nlqvg4vi', 'NN'), ('j3orznxnva0', 'NN'), ('m-ewpnonedq', 'JJ'), ('rvix3utx3a4', 'NN'), ('z6-iceazca4', 'NN'), ('z1ggwtfbnei', 'NN'), ('hrc5sh2zu2m', 'NN'), ('j4twlmg3fhm', 'VBD'), ('d-jb4fsbslk', 'JJ'), ('2qpm85vhjbi', 'CD'), ('mvtq_x6elii', 'NN'), ('gjtxry0jtaa', 'NN'), ('z5i1taj7pzc', 'NNP'), ('anbhtlhlhf4', 'VBZ'), ('1yyoy7fibcm', 'CD'), ('mroe7mznx3u', 'NN'), ('ybezot8rvw4', 'NN'), ('7usty3kc1yq', 'CD'), ('mgvlbvwmmaq', 'NN'), ('i9jn9gq0pj', 'JJ'), ('pr_ai3cm2-a', 'JJ'), ('fnstevyjjfo', 'NN'), ('dxqnpcijlz0', 'NN'), ('rxgdwl-mwm', 'JJ'), ('_n1oed2ip20', 'NNP'), ('vf2sot0rszu', 'NN'), ('hux0dn3rzj', 'NN'), ('ti7n6_tunc0', 'VBD'), ('9f-9jrlbfvk', 'CD'), ('9hslhbtea14', 'CD'), ('vhbuvvpu3_i', 'NN'), ('v448iimbx8u', 'NN'), ('9xczwl3hd4', 'CD'), ('pg1cnnvhcqw', 'NN'), ('pkov25vdiu4', 'NN'), ('xex8cpv8cta', 'NNP'), ('aar2xdedz2', 'VBZ'), ('6d064riwvjm', 'CD'), ('m6fxiwabwai', 'NN'), ('azny9hgmmnw', 'VBD'), ('5xjgq6ll4ba', 'CD'), ('o_n1_-sezku', 'JJ'), ('c2opt44anvm', 'NN'), ('6ustemoi1ek', 'CD'), ('ivg3ae-ucm4', 'JJ'), ('pzowqw9hda4', 'NN'), ('qptaqff04h4', 'NN'), ('lrvqqas4wya', 'JJ'), ('do8nuw96u0u', 'JJ'), ('cvtlukm6p-0', 'JJ'), ('tvl3dgdsnhi', 'NN'), ('2h6h95tgv90', 'CD'), ('llyldaxr1j', 'NN'), ('fibiwrxcd1i', 'NN'), ('8acjy8haqhc', 'CD'), ('grgdp1evymm', 'NN'), ('dcoexfaqif0', 'NN'), ('dg10l4er_du', 'NN'), ('zpmkhevpp3u', 'NN'), ('7axydbow8v8', 'CD'), ('uh1lqrpoor', 'JJ'), ('x4hgfcakhkg', 'JJ'), ('2zqhrfcetdk', 'CD'), ('acu-mqefzzi', 'JJ'), ('6xt-h4hr8vg', 'JJ'), ('vftpqdi6vxi', 'NN'), ('aqk9jadm1bk', 'NN'), ('ikybabtzgvo', 'JJ'), ('7t-6hlig8cg', 'JJ'), ('exmjnyl5by8', 'NN'), ('1nae_7m8nd0', 'CD'), ('dhbmnqt14_o', 'NN'), ('gfwm74ocsfi', 'NN'), ('nuaiavwddoc', 'JJ'), ('bkotqczm1fg', 'NN'), ('4ezp2o9z5j0', 'CD'), ('9byuuaatmkm', 'CD'), ('kpy-t6yoslo', 'JJ'), ('lqyigbrc5s8', 'JJ'), ('yvr383ip-fc', 'JJ'), ('xa23kan7kr8', 'NN'), ('9ut2gufdjgo', 'CD'), ('6f-ltq6tdg8', 'JJ'), ('7s2ukkoj6bi', 'CD'), ('h6r-rh_essq', 'JJ'), ('dzlr00ceank', 'NN'), ('s5iamwqwgb0', 'NN'), ('b392ftpr7g8', 'VBD'), ('078em8ejh04', 'CD'), ('232xa2e8riq', 'CD'), ('n5on_4fv4sc', 'JJ'), ('auhoroy75i4', 'JJ'), ('gcr3z1--kiu', 'JJ'), ('bbjhqnr05xo', 'NN'), ('n3k9lwz48rw', 'NN'), ('_pb_ijpjgx8', 'NNP'), ('ccgekwotgck', 'NN'), ('p65q6efpnz', 'NN'), ('pgaaoiww_t0', 'NN'), ('hxuho62rerw', 'NN'), ('ovjvgb4pa2m', 'NN'), ('kwekxhb_c6a', 'VBD'), ('jjn8buovqx8', 'JJ'), ('4folx0orjo', 'CD'), ('ax7a9b9ybju', 'JJ'), ('tizdcv-uiuq', 'JJ'), ('l5kjfpsb4om', 'NN'), ('fzwu2noj614', 'NN'), ('sax2p_k_mb4', 'JJ'), ('t3uwa6-sphi', 'JJ'), ('evhif-ptomq', 'JJ'), ('1zwwpozshui', 'CD'), ('h1ilh47cubu', 'NN'), ('r8zmg0vuz9', 'NN'), ('bj5tdzihgxg', 'NN'), ('u4rqusfnn6k', 'JJ'), ('nubdcbzixn', 'JJ'), ('ob51uwzg2i8', 'NN'), ('odnqwcudm6i', 'NN'), ('-hkkfp03ghm', 'NNP'), ('nuxqzfopz8i', 'CC'), ('d9zvlkqmm6m', 'JJ'), ('jajnrtmvgt0', 'NN'), ('wkfqilz6weg', 'VBD'), ('1tqjyola4k0', 'CD'), ('bslbvccuv6', 'NN'), ('-r8ehndd738', 'NNP'), ('drzwgugn6vi', 'NN'), ('k__dxk2tdm', 'VBD'), ('85jz9nffqso', 'CD'), ('si6vy3xkep8', 'NN'), ('5ypow3wr88k', 'CD'), ('ivgdhj5fo7', 'NN'), ('jogarlqniv8', 'NN'), ('muhvxaophjk', 'NN'), ('ro0hg5qy5em', 'NN'), ('n3msspnrdgi', 'JJ'), ('suwy71ddj1m', 'NN'), ('nujclr8o3hi', 'NN'), ('vvlbsgurnsq', 'VBD'), ('9tsdfd52kca', 'CD'), ('3bqpeetwgku', 'CD'), ('dfcm5papjik', 'NN'), ('grh1gszdviw', 'NN'), ('muhglaoxvyo', 'NN'), ('rorgi2mjf8o', 'NN'), ('bupzv1xqm8k', 'IN'), ('ef-9i38ud4', 'JJ'), ('bpo5ztu47ao', 'NN'), ('uv44apozy1i', 'JJ'), ('gy--7hcbfp', 'JJ'), ('unhjsgpc_p0', 'JJ'), ('pveunfjhnhi', 'NN'), ('5f8pedsumb0', 'CD'), ('mhzrsw4zwdo', 'NN'), ('-mk8elqnu-', 'VBD'), ('3rhnlndguh4', 'CD'), ('tmws48wknvk', 'NN'), ('al39bs8vx9q', 'NN'), ('mqhzjv7rd1q', 'NN'), ('c8v2f5goxzk', 'VBD'), ('9pzwau4xehq', 'CD'), ('4ro1nra5u1o', 'CD'), ('arglxpvstvu', 'NN'), ('hshiu8thrq0', 'NN'), ('q6y5gpx1j0c', 'JJ'), ('oqbzve_eme', 'NN'), ('tksz09wkatc', 'VBD'), ('5odz4m8vati', 'CD'), ('9zdy8lpj6hg', 'CD'), ('xnscpweaz8k', 'JJ'), ('h5qdd9u2ski', 'JJ'), ('9kclom-1mdw', 'JJ'), ('qgiyoehuvey', 'NN'), ('x4gdscrbv0q', 'NNP'), ('igim_ixojmq', 'VBZ'), ('uvms-4h5rpk', 'JJ'), ('vgpix--ez9', 'JJ'), ('0vt0mzab50g', 'CD'), ('6obpchogp-i', 'JJ'), ('aimzuxqluii', 'NN'), ('ggr410cz73o', 'NN'), ('ifskxfmjbuq', 'JJ'), ('k-vttgb_48w', 'JJ'), ('dvhlc8cwnz', 'NN'), ('vjq7-knqkmo', 'JJ'), ('tvnwlrrziam', 'NN'), ('kcvmzi9yo4m', 'VBD'), ('vy-eccndy70', 'JJ'), ('mh5bgcyyfp4', 'NN'), ('jbwtdqjxhp0', 'NN'), ('ladumjqtiaw', 'VBD'), ('0rkvjc37ltq', 'CD'), ('qpbp7_2uxa0', 'NN'), ('vpmrx5lncsk', 'NN'), ('zpxnz04c7ck', 'NN'), ('wktxb2ljzdu', 'NN'), ('jty4wjrszy8', 'NN'), ('recaepj8lku', 'VBD'), ('6yvnwr2rno8', 'CD'), ('ut7nadiqrcq', 'JJ'), ('-eian6oa_oy', 'NNP'), ('o8bd8g21vv8', 'NN'), ('d69rpu_lhm0', 'NN'), ('ngs6cteibjk', 'JJ'), ('t0wwu-jly2m', 'JJ'), ('28jzj3nueci', 'CD'), ('dcr1uz3s1ca', 'NN'), ('-egoxsy9muw', 'NNP'), ('iu4jxvg8isw', 'NN'), ('_oeww5gkeww', 'NNP'), ('-0flv5drjwc', 'NNP'), ('ypuzh6qla_c', 'PRP'), ('r1ja45smou4', 'VBD'), ('ftccsmoz3-o', 'JJ'), ('s67cubey06', 'NN'), ('yy44c40olpi', 'NN'), ('rlm4fxh2tii', 'NN'), ('ix3qhsgq8ou', 'NN'), ('noqkqufpn3m', 'JJ'), ('boyvlkfi8gu', 'NN'), ('2nyf5bklkt0', 'CD'), ('7rijnktjva0', 'CD'), ('vfwbevfh88i', 'NN'), ('cvuof_iau5u', 'NN'), ('7tsrbqx7ave', 'CD'), ('a6gaferzrwg', 'NN'), ('0aj8qii7pew', 'CD'), ('6zyb1kzu4ji', 'CD'), ('-j6_wfbzmt8', 'JJ'), ('9yr5q8zbmpu', 'CD'), ('dodwr3yqbhq', 'JJ'), ('q0-qpakxf-o', 'JJ'), ('txslou0qecu', 'NN'), ('nsinpqjwtw4', 'NN'), ('kheb6pm73q', 'NN'), ('b3xkgqbekzi', 'NN'), ('pwnde1lddi8', 'NN'), ('k8g9q___cj0', 'VBD'), ('9axe0xcze', 'CD'), ('ind5oclnhss', 'NN'), ('8ppd6umqmf4', 'CD'), ('jdwcv6z9rl8', 'NN'), ('z7-awkxpfy0', 'JJ'), ('4yspzcirpxw', 'CD'), ('or_3xwrxl90', 'JJ'), ('93vqaf4agek', 'CD'), ('n0voq6pglx8', 'JJ'), ('b0tp_wndjce', 'NN'), ('sxoxpq9uoai', 'VBD'), ('9uiuaq2h9w4', 'CD'), ('q0dhvwa5iq4', 'NN'), ('dfctfewa_tw', 'NN'), ('cuetq9r_z3', 'VBD'), ('4k8vumu5myk', 'CD'), ('823vpuphjxo', 'CD'), ('24toqyc2rt4', 'CD'), ('rmduhakqwrg', 'NN'), ('2sixrdglbiy', 'CD'), ('4u4krzfntg0', 'CD'), ('exzipisahzu', 'NN'), ('sw_graoimwk', 'NN'), ('3qm0h8a8baw', 'CD'), ('mavonjjszyg', 'NN'), ('pxcyi-t6qau', 'JJ'), ('8pa_a4e9u_8', 'CD'), ('k5rqwwsu3nk', 'JJ'), ('prl8f14ppz', 'JJ'), ('w-h9tsy2xbo', 'JJ'), ('9gsl4ypkovi', 'CD'), ('lud5ait4m', 'JJ'), ('0vhxm-whbwg', 'JJ'), ('uyw7_1lxk8i', 'JJ'), ('5mc-jeg-nh', 'JJ'), ('vpamme5co0o', 'NN'), ('nh2oqz7qwuy', 'NN'), ('dkobhsduz4', 'NN'), ('if8yjxck4tc', 'NN'), ('vrtwq_xzezm', 'NN'), ('wwrnobkrp0o', 'VBD'), ('qr2iza2vg6', 'RB'), ('0gcnsuktb5m', 'CD'), ('c691_uh56ng', 'NN'), ('st5uynxowng', 'NN'), ('emouoqxxg5', 'VBD'), ('dx-7utykpf', 'JJ'), ('6dwa56tkwq8', 'CD'), ('btornq1rtgi', 'NN'), ('shsgrxqmw_', 'NN'), ('urppqi903zi', 'JJ'), ('ohy1delf4i', 'NN'), ('ineljzwktx0', 'NN'), ('lpyxdaq1nho', 'VBD'), ('f5-nfxqjfzu', 'JJ'), ('wm2ooc7be10', 'JJ'), ('5gc04xiud5', 'CD'), ('xjpz0-ehpuk', 'JJ'), ('9tz2iigidjg', 'CD'), ('i_qyb7xxy4k', 'NN'), ('mvzlxlaidjq', 'NN'), ('xlftc_4qbm0', 'NNP'), ('viz-ius4yek', 'JJ'), ('tte4lhqfxpu', 'NN'), ('ew4ik3l7zwg', 'NN'), ('i822pc9kw7i', 'NN'), ('au0qiarkpo8', 'NN'), ('nyjyxptclo', 'RB'), ('6mliuiwlbbw', 'CD'), ('bfmxjhhdfmu', 'JJ'), ('qwibqbm-el', 'JJ'), ('uasaijk2bh', 'JJ'), ('cidqt1ftgyk', 'NN'), ('acfuzcxjxac', 'NN'), ('v9xy3sl6n7a', 'NN'), ('spsrbgnjura', 'NN'), ('dvp2zxbymgg', 'NN'), ('aixsgphxt6m', 'VBD'), ('0ve_yrsp500', 'CD'), ('tgp_bmm8ffw', 'NN'), ('vhk2pvjyjug', 'NN'), ('tgs104v4bfg', 'NN'), ('r0qdfifqgkk', 'VBD'), ('0b0jk2fz_tq', 'CD'), ('hoxopi-kqe4', 'JJ'), ('o-okxshudxu', 'JJ'), ('9ostz4esbzi', 'CD'), ('8bnt6urmzim', 'CD'), ('fft3a3st54u', 'NN'), ('xkusi8elgrc', 'VBD'), ('4clctl5j0og', 'CD'), ('uffyldmiv04', 'JJ'), ('wz02ayddima', 'NN'), ('_ow3ecxv8w', 'NNP'), ('m6t5jogxchi', 'NNP'), ('yl3uwiiry7m', 'NNP'), ('k3ungdkrbrw', 'NNP'), ('q_xcfm3bhc0', 'NN'), ('jufkss2tmto', 'NN'), ('lfbw_agnxy', 'NN'), ('n6cmkr1jhni', 'JJ'), ('uvbmfbsnrx', 'JJ'), ('0azmjksae1u', 'CD'), ('-wr-fyuqc6i', 'JJ'), ('mknsb0zrgb0', 'NN'), ('e_1c4evds2q', 'NN'), ('sevw5quqdsu', 'NN'), ('s5p2wuxkeag', 'NN'), ('b2bvwarorsc', 'NN'), ('tu9zv1c08rk', 'NN'), ('ew3sym4t2tw', 'NN'), ('-gixowey6iq', 'NNP'), ('swt29xdzzsa', 'VBD'), ('4tyfpbeuv-m', 'JJ'), ('hzt7ozbxh-a', 'JJ'), ('hzwe3zp2tcc', 'NN'), ('_jt26jfnkog', 'NNP'), ('nugb9picsx', 'CC'), ('wygmqzkxwgw', 'JJ'), ('naiqyopcjnm', 'JJ'), ('ryovxwwohyy', 'NN'), ('k_hqrgdbugm', 'NN'), ('ovijj_kc0em', 'NN'), ('ipxs3gvnw8w', 'NN'), ('m0wwhvw7e8', 'VBD'), ('8scjksirp0a', 'CD'), ('vdwjnafkeuc', 'NN'), ('e2tofbmlugu', 'NN'), ('noyhfguvbhu', 'JJ'), ('v5qpxhstb5i', 'NN'), ('clyfacgapli', 'NN'), ('ndlv4zxnrss', 'JJ'), ('oxiauqrmcwu', 'NN'), ('adkerzcawru', 'NN'), ('hgmfngn_jqa', 'VBD'), ('5wtnaoxscz', 'CD'), ('klzphtik2li', 'NNS'), ('ryyyy4nkzdg', 'JJ'), ('0sz9_amo_qg', 'CD'), ('9m5nf-uvwki', 'JJ'), ('4zz4iw9cim', 'CD'), ('p0n5kpytns8', 'JJ'), ('g-yaswyml', 'JJ'), ('ni8vjiaa1-m', 'JJ'), ('pk-vz0hrqji', 'JJ'), ('t6h-gokubi8', 'JJ'), ('dewxowfqabk', 'NN'), ('xzrishxuslu', 'NNP'), ('y5kpzp2t52u', 'NNP'), ('z4thsvsptn8', 'NNP'), ('kmh08kq2vtq', 'NNP'), ('jbwua2njpuc', 'NN'), ('frikor0ontw', 'NN'), ('p7cr8xhnnmc', 'NN'), ('4xxky5mo5p8', 'CD'), ('es7hbhsauqi', 'NN'), ('okovxfusypk', 'NN'), ('lmbz5vasp_k', 'JJ'), ('bcoxv9p0h2u', 'JJ'), ('b_ggibm9b-g', 'JJ'), ('t5uox2spo_w', 'NN'), ('pvpzt5xn0w8', 'NN'), ('-gr2esrs5um', 'NNP'), ('n6j9phdueg8', 'RB'), ('tedf6xi_-8i', 'JJ'), ('ewnmifjl2tg', 'NN'), ('vfwzmkqk1a8', 'NN'), ('szwryma7w4c', 'VBD'), ('6k8bhyeikiu', 'CD'), ('c7frhkytqy', 'NN'), ('0uatfa_wota', 'CD'), ('vnhq5u-mmxw', 'JJ'), ('7peb7tqwic', 'CD'), ('tcvtoa01un8', 'NN'), ('axzkuf_t1pi', 'NN'), ('sr7extrt9su', 'VBD'), ('et4wee-jvq8', 'JJ'), ('oxcwdrpaewm', 'NN'), ('oetrgq8fbqa', 'NN'), ('bhjhnxgs6tu', 'NN'), ('m5kpiaynmi', 'NN'), ('hpv5ep8yvr8', 'NN'), ('eigfm1hjswg', 'JJ'), ('ck3imjbs_h4', 'JJ'), ('euy6y-8t36u', 'JJ'), ('gknmdkjcjko', 'NN'), ('554yq5wrpz', 'CD'), ('6bqvgljqwtq', 'CD'), ('g4f9jjxb5cg', 'JJ'), ('v-dkpuj7k8m', 'JJ'), ('wspmlp84bbm', 'NN'), ('m5xxig2mepm', 'NN'), ('ebkilq2wfig', 'VBP'), ('fgz2vcpzbp', '$'), ('8qit966koc4', 'CD'), ('ml3nujyycew', 'NN'), ('_g2gcbxy8za', 'NNP'), ('x6n2gs4xuiy', 'NNP'), ('rfodrzzuhp0', 'VBD'), ('8z-u2pmji4', 'JJ'), ('lnc5-o44c9a', 'JJ'), ('e0zkxkaakma', 'NN'), ('ww4s_9pwy10', 'NN'), ('zznex4h0iya', 'NN'), ('ruvpyfvqzq8', 'NN'), ('lfsxvlucjm', 'NN'), ('xnunl53zm9g', 'NNP'), ('oadc9d5o3nm', 'VBZ'), ('8lzlx9f8yvo', 'CD'), ('d1imoyzf2og', 'NN'), ('jas3pu3qphi', 'NN'), ('wf5xghn7emi', 'NN'), ('-2ftixg9xh', 'NNP'), ('j3eyveympti', 'NN'), ('zyjoqcbbeco', 'NNP'), ('afdxp1yt5ao', 'VBZ'), ('ybagn3i7sa8', 'RB'), ('8oeiq0nlkvc', 'CD'), ('dvkd0h1rho', 'NNS'), ('hmix2awo6u4', 'VBD'), ('4e8beuw0rcc', 'CD'), ('7fvj0jl7rpa', 'CD'), ('voqjjsgrpoi', 'JJ'), ('h9hk2iv-6f0', 'JJ'), ('bhrxwiye5ag', 'NN'), ('hawc629tmda', 'NN'), ('q9qgqpu6clm', 'NN'), ('dqdrwsik0tk', 'NN'), ('cjshdhoiijw', 'NN'), ('r3jig4w8phi', 'NN'), ('lzf4exlblz', 'NN'), ('_up5snp37n', 'NNP'), ('y5k1ivgphqk', 'VBZ'), ('6z1ap5g83zi', 'CD'), ('qp7qjplhos4', 'NN'), ('rcsknrypazw', 'NN'), ('cbd7yelq6gq', 'NN'), ('0lii5hsrvfa', 'CD'), ('jezxzuarg1g', 'NN'), ('uarpprmgjsg', 'JJ'), ('ankklwad2dm', 'RB'), ('04y_trdo4jc', 'CD'), ('u9msk3whhpq', 'JJ'), ('qr2aq76qzim', 'JJ'), ('ibfct34o-nq', 'JJ'), ('juhvskllsgi', 'NN'), ('ikqwmbb-w0', 'JJ'), ('2b9m0cpciim', 'CD'), ('nnv9m41rvau', 'JJ'), ('gkq92keyfxq', 'NN'), ('i0ggd044e1o', 'NN'), ('8kisu8qzkac', 'CD'), ('rqmjugxbhr', 'JJ'), ('v9-rozgq1aw', 'JJ'), ('t69n5a0gzri', 'NN'), ('9rlw7s_s-6i', 'CD'), ('feuzcndpx8', 'NN'), ('8gcbgxf0iwi', 'CD'), ('hs1llhnjfzq', 'NN'), ('9htb8npmc3o', 'CD'), ('bapiqxcwnu', 'NN'), ('r4ldu9ckbta', 'NN'), ('symspziufcg', 'NN'), ('kqfbfcqlvnu', 'NN'), ('yuxe_siaxzc', 'NN'), ('hxck5ifwgbw', 'VBD'), ('1eb-y-g2iyo', 'JJ'), ('pal3xbx09m4', 'NN'), ('deqwz2fvzio', 'NN'), ('yyjvg6zmgfu', 'NN'), ('bmqbjec38k0', 'NN'), ('d5lupxmwpg4', 'NN'), ('qoqws77j_6c', 'NN'), ('zslzelqyeou', 'NN'), ('qhokbudp2pi', 'NN'), ('fwbrgq1x8pe', 'NN'), ('wxmpob8me6a', 'NN'), ('zj4jjs10fc8', 'NN'), ('pda8anabgcm', 'NN'), ('azesyuo7z2m', 'NN'), ('gfs2fpue8qq', 'VBD'), ('4vbubcncgac', 'CD'), ('kglcmcz7fqc', 'NN'), ('_q0fyocl4c', 'NNP'), ('nyzpkw3vdtu', 'VBZ'), ('2gqsj4zmnbc', 'CD'), ('0fgjf3mckpg', 'CD'), ('w5p2nds34va', 'NN'), ('yxgczee3nsw', 'NN'), ('qmio3qiky70', 'NN'), ('qmz8twj1lxq', 'VBD'), ('3i37pt18dfi', 'CD'), ('4y5z3e5qv', 'CD'), ('dokirqdh3sc', 'NN'), ('eu2ha0vsnki', 'NN'), ('a9di5lumw0u', 'VBD'), ('64m8utnmv3g', 'CD'), ('ki7govrb33c', 'NN'), ('6zvglkzjbhu', 'CD'), ('syjjgbjm2q', 'NN'), ('mflcprjcuiu', 'NN'), ('aikxqzj3rp4', 'NN'), ('vmcbxrwtrcg', 'NN'), ('skhqjblbxsg', 'NN'), ('yr4yfoya0dg', 'NN'), ('mqnx9isnedo', 'VBD'), ('8bcockbtx_g', 'CD'), ('oezl0mfey0', 'JJ'), ('4uadu5wiovo', 'CD'), ('7xtj4zmwmu8', 'CD'), ('7rj5-gruvm0', 'JJ'), ('lm5vqenr1za', 'NN'), ('ar5j0qi0p7a', 'NN'), ('n3mrc7wfupw', 'RB'), ('91v0yg1l4ok', 'CD'), ('kya5iifgl4a', 'NNS'), ('asnwzavxj0', 'JJ'), ('ekovpvf_vbm', 'JJ'), ('u8wz7_0j3-i', 'JJ'), ('5seorxitg78', 'CD'), ('ffrylv-xsrq', 'JJ'), ('c-seyerxh8o', 'JJ'), ('t03ghw9bzjw', 'NN'), ('qbcsfhml4oq', 'NN'), ('ytxtstkgg5q', '$'), ('9y5sidnoaki', 'CD'), ('b13kx2vdoeu', 'NN'), ('ttgprdxvmca', 'NN'), ('mf1bwaztys', 'VBD'), ('i-0wklh_rb0', 'JJ'), ('7lza6xxpfv', 'CD'), ('-2fgnhtoy0c', 'JJ'), ('42wgc36wfzk', 'CD'), ('zz31lgxl7ju', 'NN'), ('fjkrr91mygw', 'NN'), ('elxxixw35z4', 'VBD'), ('33i7ikhaxvc', 'CD'), ('b59i5bn40kc', 'NN'), ('jalp_adoilo', 'NN'), ('5cxl1fgdgqo', 'CD'), ('ladcwmgxcco', 'NN'), ('lr95u3ffyu', 'NN'), ('_oj2rmkvv6u', 'NNP'), ('j4upubvlzyk', 'NN'), ('wfxmq0wljey', 'NN'), ('_qyp38js4aq', 'NNP'), ('oxxahijr5uc', 'VBZ'), ('6smyxbqxfz8', 'CD'), ('sjqmct4vuz4', 'NN'), ('gfbuftynx2a', 'NN'), ('qxdqsynwt9i', 'NN'), ('itgauaq7x18', 'JJ'), ('a3lstnh8yei', 'JJ'), ('lpfwvgr-r_w', 'JJ'), ('f8quf51fa30', 'NN'), ('tomszrft2o', 'NN'), ('8_htbyg1vm', 'CD'), ('itf4i8fw_po', 'NN'), ('y9_rzqgfv_c', 'NN'), ('wc6rq6oc888', 'NN'), ('j21vswzbwxm', 'NN'), ('zwwjly1mksi', 'NN'), ('dj8_qbj1dpq', 'NN'), ('mvntxxpnam', 'NN'), ('gslkzwl75p4', 'NN'), ('ntjnuev5mw0', 'JJ'), ('x11bizz0rn4', 'NNP'), ('asiftw3ltbq', 'NN'), ('2bejlnazq', 'CD'), ('tiampwt3wm', 'JJ'), ('tmhiif4qaza', 'JJ'), ('qd6c-kudsvq', 'JJ'), ('ardvt-dfnf4', 'JJ'), ('0-bq_ytnyt', 'JJ'), ('k6n9lnqxmyk', 'NN'), ('tn29zjt3tci', 'NN'), ('beid1ajwdj', 'NN'), ('z0ofj2jbkdi', 'NNP'), ('tqx2t6ydb6a', 'VBD'), ('6fp_6ly70z8', 'CD'), ('4d2wsvwojia', 'CD'), ('vjsjcbdwpki', 'JJ'), ('y-q6-h_-fsk', 'JJ'), ('_8sp5el1hxi', 'NN'), ('6gp3ygqlu90', 'CD'), ('mjwe1j9r4xm', 'NN'), ('a2yvfetq5qq', 'JJ'), ('tlaalam-jmc', 'JJ'), ('itmeppy1jcc', 'NN'), ('pso9f_bj03w', 'IN'), ('7wnea-dxcuu', 'JJ'), ('ldesd6ryakg', 'JJ'), ('kjtou5pxvw', 'NN'), ('ho7-rjf4pmq', 'JJ'), ('7kf3yaaohv', 'CD'), ('tmeiomxb8tm', 'NN'), ('koixzfayoik', 'NN'), ('aug9ps19a0m', 'NN'), ('dhadqubksxg', 'NN'), ('wmbo5riji_i', 'NN'), ('eeseo7faai8', 'NN'), ('f1u4sagy60c', 'NN'), ('-vgxikewj_k', 'VBD'), ('2yccv0awutw', 'CD'), ('c8txzpekwau', 'NN'), ('yebngmrqgtm', 'NN'), ('od34wth2kss', 'NN'), ('otreickoy1u', 'JJ'), ('fthyum94dua', 'JJ'), ('0xwcd0-mtc4', 'JJ'), ('ram0amlyayo', 'JJ'), ('a3po-ymytai', 'JJ'), ('ht-0gspring', 'JJ'), ('hrncchddwu0', 'NN'), ('kstb3bjxmdc', 'NN'), ('dnok3d0jff', 'NN'), ('tmaa8lfcnnc', 'VBD'), ('0_pukghawz4', 'CD'), ('j-zujbjcofc', 'JJ'), ('xulpx1jareo', 'NNP'), ('vr15_ityh0w', 'NN'), ('1ginekrudm', 'CD'), ('l-sb614kzt', 'JJ'), ('hebfk7s_suk', 'NN'), ('5ckkeuh9j9a', 'CD'), ('fvdstp-ptx', 'JJ'), ('18jhobzudzu', 'CD'), ('uykee4gkv5g', 'JJ'), ('cdq-ogavlf', 'JJ'), ('g0n2uc3i1ug', 'NN'), ('8mms2tv4eag', 'CD'), ('4rsdkxjizk', 'CD'), ('04g2on3qkwa', 'CD'), ('jflupnzs3wq', 'NN'), ('orh8gb7rgx4', 'JJ'), ('bd2zf2jtqnm', 'JJ'), ('3uo-b_8t23q', 'JJ'), ('oytrh_3gnfc', 'NN'), ('optlfa3opbu', 'NN'), ('zjh0xc5vyau', 'NN'), ('nlrnyhjpwfw', 'JJ'), ('lpoy6r07c9u', 'NN'), ('jaqlvbi1sk', 'NN'), ('d3wd2yvwzv', 'NN'), ('s0lknm2ojza', 'NN'), ('z2ifbinjpj8', 'NN'), ('ge4iynh4rcc', 'NN'), ('pb5whsfxnu', 'NN'), ('ey2n3r0g2sc', 'VBD'), ('1dinsg8mvf', 'CD'), ('inwqoejvqxi', 'NN'), ('q0qv31kddc4', 'NN'), ('yaxlueekqmu', 'NN'), ('fu_the50ki', 'NN'), ('fvhg3fvksjq', 'NN'), ('tiwkn6dsq78', 'NN'), ('xdsbrpnfvlm', 'NNP'), ('l3z_op7as3c', 'VBZ'), ('1fcj-umbxb', 'JJ'), ('r-yqkhzo8ji', 'JJ'), ('-tzjwphrepm', 'NN'), ('vojwjoi5ngm', 'NN'), ('ffl97dcoupq', 'NN'), ('ygopicadac8', 'NN'), ('ojhfqgxlxxc', 'VBD'), ('14ce0wzqzoo', 'CD'), ('fhd1enqezhc', 'JJ'), ('rr-gaq0tdv4', 'JJ'), ('cqx9-l0rh8c', 'JJ'), ('xp1gtxnm844', 'NN'), ('v0xoftcfnqk', 'NN'), ('_70maatsidu', 'NNP'), ('ora743e5p7u', 'VBZ'), ('brrcbq9kpx', 'JJ'), ('pbgxksqyzeq', 'NN'), ('dyxaxejbj5k', 'NN'), ('ji8bls2rnha', 'NN'), ('gj95cr9zoqg', 'NN'), ('ohj8fsleqqu', 'VBP'), ('icbf6qgziz8', 'JJ'), ('5_au4uos4mw', 'CD'), ('zxa65qy3bko', 'NN'), ('5xn9kpd7ddu', 'CD'), ('qguo3ikm9l0', 'NN'), ('7yzwomvrpcc', 'CD'), ('4c8kdcr_lyg', 'CD'), ('juwao5tjs00', 'NN'), ('tgvysowufeo', 'NN'), ('vtnpquvo498', 'NN'), ('_ehljmgsnrw', 'NNP'), ('73e-w3l1wbk', 'JJ'), ('w5c7iscry8m', 'NN'), ('8fgr-namyg', 'JJ'), ('gcp9i8ewt78', 'NN'), ('zlze48nmp4q', 'VBD'), ('16eek98yvr', 'CD'), ('4u5qximepv', 'CD'), ('tl4v5dy_4_0', 'NN'), ('pqrzwd_cqie', 'NN'), ('tpi29g5lqnm', 'NN'), ('bbq3vvv0mx4', 'IN'), ('k-crei0ymmg', 'JJ'), ('t_rtcqciivo', 'NN'), ('o8wrljqte2o', 'MD'), ('hxcmwibewa', 'VB'), ('kh-wpg2ufgu', 'JJ'), ('e9gsto-4txo', 'JJ'), ('ry7vfznemno', 'NN'), ('gm5bugvrixw', 'NN'), ('tryzstb2hnc', 'NN'), ('_h8wgen5obi', 'NNP'), ('ppg1gn_ey2o', 'NN'), ('n0thfqk1zgi', 'NN'), ('uvzhwjtnpfg', 'JJ'), ('oqnu0-orkba', 'JJ'), ('pv8ac1xe8ci', 'NN'), ('pvyr73p-ev0', 'JJ'), ('ctjoepkbrwo', 'NN'), ('nvgnusn-epw', 'JJ'), ('fitue3rwkuo', 'NN'), ('yzbrpfoiol', 'NN'), ('orxxstwo1mi', 'JJ'), ('hy19nk7qbcu', 'JJ'), ('20u-u-ss0km', 'JJ'), ('u6gmnuysd5o', 'JJ'), ('zdr_3qvjx_', 'NN'), ('2mb23tk2llg', 'CD'), ('08xunmdkvnk', 'CD'), ('9vsdp584zyq', 'CD'), ('o1jn2adsack', 'NN'), ('tmcrmcdkfeu', 'NN'), ('-pcrlwkxzsk', 'NNP'), ('hfy6xl1v2zo', 'VBZ'), ('3fots6_xue0', 'CD'), ('ted5w7gd8km', 'NN'), ('6n2x6ifp3nu', 'CD'), ('e31jqubacxw', 'NN'), ('fy5apf4v4pw', 'NN'), ('xhw6ynt_yaa', 'NNP'), ('fjfbqk5rfra', 'NN'), ('-laxsnytrni', 'NNP'), ('ckvklf_j4nc', 'VBD'), ('uod-cumkrzi', 'JJ'), ('5pgvs4v0cba', 'CD'), ('k-dh2f4cfw4', 'JJ'), ('vwz97fspf5u', 'NN'), ('sm_tekuoqzg', 'VBD'), ('6zntnkuiksu', 'CD'), ('gdp86wd1qma', 'NN'), ('oavycejxdp', 'NN'), ('5omqoteojmc', 'CD'), ('zqhwlrrszuu', 'NN'), ('qjlndpiovai', 'NN'), ('1br74dcf9rq', 'CD'), ('d8yjburwxnc', 'NN'), ('deo2v_ljzhw', 'NN'), ('gkg85xxgzko', 'NN'), ('zn_9uatqwqu', 'NNP'), ('lgpxwtxsgyo', 'VBZ'), ('2sz3b3tqvh4', 'CD'), ('3buqfwper0m', 'CD'), ('dhd5btj7iq8', 'NN'), ('51yu_lo_dva', 'CD'), ('oyjmhruipx8', 'NN'), ('rvpbmhl9mpc', 'VBD'), ('4vvqj8ff2ug', 'CD'), ('3f0ytuaky84', 'CD'), ('p20_qhc3vgu', 'NN'), ('qpsykqvdepi', 'NN'), ('51m3kebmdni', 'CD'), ('rbxtx1e24p0', 'NN'), ('xivshxlvdjc', 'NNP'), ('a5mh1iacaxk', 'VBZ'), ('somvqjuuham', 'JJ'), ('95m4dfw_br0', 'CD'), ('fdeb-zsweh', 'JJ'), ('hasyum2jtri', 'NN'), ('5mgbikgcwni', 'CD'), ('dpaam_lh4qi', 'NN'), ('3g76wtt4tui', 'CD'), ('ut09ow5t26q', 'JJ'), ('3waqxjeyyxo', 'CD'), ('7cz4y1u7bi0', 'CD'), ('jrbtyfk2m7', 'JJ'), ('pam-2mosx8m', 'JJ'), ('hhny8oou-ey', 'JJ'), ('-a8ooumuc-o', 'NN'), ('_tvsjd6kxkq', 'NNP'), ('unmew3goafg', 'JJ'), ('bw-hrfj0dzq', 'JJ'), ('ftu_xiblxsk', 'NN'), ('vjteppctqwi', 'IN'), ('22pu1-98b6', 'JJ'), ('gltl8ers1w4', 'JJ'), ('1tmep-ntkx0', 'JJ'), ('9sv7-c4xt8i', 'JJ'), ('dqr0lgqcciq', 'NN'), ('9866dmfjxuu', 'CD'), ('guefti7tgn8', 'NN'), ('57hg5r5bqw', 'CD'), ('3h2jndj48rk', 'CD'), ('up9ao_vscs4', 'JJ'), ('a1sgvb3ybai', 'JJ'), ('yt-pyfj2t2g', 'JJ'), ('gbltdkb0biq', 'NN'), ('tbcpilxvsp4', 'NN'), ('t8nvqdqzwgk', 'NN'), ('vpfocnnaqiq', 'VBD'), ('6e7wv_g4euo', 'CD'), ('1ysqqkn1dzo', 'CD'), ('fojggmamiqi', 'NN'), ('c5czp24cdcm', 'NN'), ('xj636y8n6e8', 'NNP'), ('fswgwvxxeju', 'NN'), ('yseqf8vgg8a', 'NN'), ('mtl0hfq2kou', 'NN'), ('v8_s1xr_p9q', 'NN'), ('fbudxff83h0', 'NN'), ('vknphh67hm0', 'NN'), ('5e0edazd9tc', 'CD'), ('xtarwxktjw0', 'NN'), ('0f0qy9shmbm', 'CD'), ('jfsjf7leveu', 'NN'), ('y8dendrlozk', 'NN'), ('mxiala7ywim', 'NN'), ('pdisezsalao', 'NN'), ('bwd2eppu6y0', 'VBD'), ('325hxkv9kzu', 'CD'), ('snsejqko-s8', 'JJ'), ('nyf0aru09wi', 'JJ'), ('86o4gupqvku', 'CD'), ('jrndlvdw5a0', 'NN'), ('3ceuivgarja', 'CD'), ('0gmqm0cxpc4', 'CD'), ('zshaix_kbrg', 'NN'), ('gvvc3zcjlpk', 'NN'), ('xc6niwx4tl', 'NNP'), ('bkxohhafkqq', 'VBZ'), ('0kmysapjssq', 'CD'), ('zt3bljfapcc', 'NN'), ('-q7xedjpcfw', 'NNP'), ('imwmpx1spdg', 'NN'), ('zztv3vqnric', 'NN'), ('wrozwomkzh4', 'NN'), ('or8kn2hqou', 'NN'), ('vi7zuevvfqq', 'NN'), ('eqfli9jlm1g', 'NN'), ('rer_ucof7e8', 'NN'), ('hwpsbyv96_c', 'VBD'), ('cuh-c4h3gg8', 'JJ'), ('u8smjrded7i', 'JJ'), ('pik4qvv7d14', 'NN'), ('oflaxsj62r', 'NN'), ('eaaawb3btsa', 'NN'), ('pi6zypecnnu', 'NN'), ('mj47mllrlzw', 'NN'), ('ic9kquzpmvi', 'NN'), ('1fxoohkgra0', 'CD'), ('hyft24robcu', 'NN'), ('1jiyou8tzzm', 'CD'), ('6zt0iktxze', 'CD'), ('pcm1l2ybz1w', 'NN'), ('pyqw43zqoco', 'NN'), ('f4vnbg93th4', 'NN'), ('ombyar0qmgo', 'NN'), ('wjw2_0e96w', 'NN'), ('g5iew1dqmgk', 'NN'), ('pwmbpakwm70', 'NN'), ('3vkpgzlib6m', 'CD'), ('bedxl0a2pl0', 'NN'), ('fy6sd8dbzqc', 'NN'), ('r9oajyviu9o', 'NN'), ('z2fyavkz2zc', 'NN'), ('dzh8cfrvll4', 'NN'), ('ogs_7kq22_', 'NN'), ('vjtudancov4', 'NN'), ('vjlvg2tp5vq', 'VBD'), ('0zcq40bodb0', 'CD'), ('ybmd-m3gosg', 'JJ'), ('pkvko8gchy', 'NN'), ('lqlx79qxbo4', 'NN'), ('numrwvq0rei', 'JJ'), ('jwijgll_gjw', 'NN'), ('l5egvejcpac', 'JJ'), ('daybmi2nexc', 'JJ'), ('kjtcubjz-z', 'JJ'), ('9f5iwvqbzay', 'CD'), ('jh1raxjin0i', 'NN'), ('qngs_a2dnz4', 'NN'), ('i6hmg1ws14k', 'NN'), ('gyralmbij0w', 'VBD'), ('1eecqtg_mkq', 'CD'), ('efmlo396api', 'NN'), ('bgrispxu6hk', 'NN'), ('-_nmeqrpa8w', 'VBD'), ('6jrrf2kh2om', 'CD'), ('59cgneuyrmg', 'CD'), ('71yhr-v9vs', 'JJ'), ('zhjxdll4ni4', 'NN'), ('yxhagpu7xac', 'NN'), ('arjcqcl87nw', 'NN'), ('qfjyhrfrbpw', 'VBD'), ('2no0a7csu4q', 'CD'), ('z4l2e6_gmkk', 'NN'), ('0tjsl95a3z', 'CD'), ('wxlncowkmb', 'JJ'), ('t-_8dynq7t8', 'JJ'), ('rtnm6ih2qt4', 'NN'), ('q53huakb9ou', 'NN'), ('km4qtzklu3', 'VBD'), ('n4llcql0q9i', 'JJ'), ('3es2ajyqxf8', 'CD'), ('p6cer-c7gu', 'JJ'), ('12-d4tbs1xu', 'JJ'), ('oqmsupjfvjo', 'NN'), ('0bpekitvji0', 'CD'), ('qpt0ubpaks8', 'JJ'), ('6nh-l5rwjrg', 'JJ'), ('wtbavpdwzqq', 'NN'), ('e1fa_dq8igm', 'NN'), ('wshhxppm1dq', 'NN'), ('b88wqh983lu', 'NN'), ('dlmlv_85wni', 'VBD'), ('9iulvl4hcgq', 'CD'), ('8otsinznos0', 'CD'), ('fmgu2m29jb8', 'NN'), ('vukd2o7okma', 'NN'), ('uektdm5q6o', 'JJ'), ('v_8dhruuq8g', 'NN'), ('xbxjxlt5to', 'NNP'), ('btam5nvnhfi', 'NN'), ('qug8qsbory', 'NN'), ('qupotf12rw4', '$'), ('3jw84ptvyno', 'CD'), ('cp6zamtbdj8', 'NN'), ('qerq198he8i', 'NN'), ('xu0ptmwyedq', 'NNP'), ('gexnuyuc4p', 'NN'), ('cuetcnrhbey', 'NN'), ('2sbzyjwqnoo', 'CD'), ('mbnkum4czbk', 'NN'), ('k6iuzelx6m', 'NN'), ('vos3br2doci', 'NN'), ('3ddhlvin3oo', 'CD'), ('koiufjrikqu', 'JJ'), ('l-s54nwkd9g', 'JJ'), ('f3-o8m9lvai', 'JJ'), ('h518x1sxrjc', 'NN'), ('2--jkkggd_o', 'JJ'), ('g91dtea1fd8', 'NN'), ('f5lhdkafxa8', 'NN'), ('knproikx6rk', 'NN'), ('k2d5szbqrc4', 'VBD'), ('qgoygbpmtlw', 'RB'), ('0cte_rf6nfg', 'CD'), ('vpxj8e2r7h0', 'NNS'), ('35n7cnn0vtm', 'CD'), ('-ubnkmzybyg', 'JJ'), ('iyih2dejeno', 'JJ'), ('ajlqr-uxsoq', 'JJ'), ('grx9wuucwna', 'NN'), ('2eoqwvtd85u', 'CD'), ('ckong0uvqy', 'NN'), ('muf5xyzxmo0', 'NN'), ('ougqrihxnkw', 'VBP'), ('f4_181ke7aq', '$'), ('4n3l1offxs', 'CD'), ('sw2vgldtxso', 'NN'), ('n10svxex59a', 'RB'), ('7okzqnj9fx', 'CD'), ('0b2octcgvr', 'CD'), ('08t8lij6k8k', 'CD'), ('2eu0clp_q1m', 'CD'), ('8nsv83lpqwm', 'CD'), ('bjutrn1lv0', 'NN'), ('stlegg1danm', 'NN'), ('oa9vwszlehq', 'VBD'), ('587rul45js8', 'CD'), ('uksgg2iucli', 'JJ'), ('1uloabkwgk', 'CD'), ('tyvjbupg3xg', 'NN'), ('esatcydhvl0', 'NN'), ('iv1lvjsrtdi', 'NN'), ('cjhhiot9ybi', 'NN'), ('u_e4lr3hepq', 'JJ'), ('juyjakszqxk', 'NN'), ('j5kdwkdnahc', 'NN'), ('6twjfja7osi', 'CD'), ('lto_uwwtfog', 'NN'), ('cgpxs7k0hj4', 'NN'), ('icvrq54n5xg', 'NN'), ('oc7rufris0a', 'NN'), ('-rx6nk8pd-i', 'NNP'), ('shenzm6vogq', 'VBD'), ('2p9re9hoozg', 'CD'), ('h1xja3dwx60', 'JJ'), ('fuyfctf-bh', 'JJ'), ('1celmed68', 'CD'), ('w8loe7sho_g', 'NN'), ('b7vl0lwaun0', 'NN'), ('3gho3zhknzo', 'CD'), ('v1s_qvwzfsa', 'NN'), ('cmgsnodnuuk', 'VBD'), ('iki-q8clma4', 'JJ'), ('9mtacim0lw4', 'CD'), ('2ffldeukze', 'CD'), ('ajdvciwckrw', 'NN'), ('lt0d55pfygi', 'NN'), ('il9qrni8k2w', 'JJ'), ('h2fngm75imi', 'JJ'), ('5-ekulrplzu', 'JJ'), ('gif-e76qw2i', 'JJ'), ('n5jc_sifrwc', 'NN'), ('izhig_fjj9a', 'NN'), ('lhih5p9gswa', 'NN'), ('-a-z6pzm08g', 'NNP'), ('nebxhiui_rc', 'RB'), ('5rnwbzbffmi', 'CD'), ('cbqczqzxf3c', 'NNS'), ('71s47oyccto', 'CD'), ('aubcxao_im', 'RB'), ('5emhxvvxy1a', 'CD'), ('03mmjzztgk', 'CD'), ('vaxa7d7iyfi', 'JJ'), ('0ey8aa9lqmg', 'CD'), ('md_xg4i1-sq', 'JJ'), ('hy59zcz11im', 'NN'), ('twch4vnarho', 'NN'), ('dxd48kxlbm', 'NN'), ('lhbqld4_4hq', 'NN'), ('kcnizvtslr8', 'NN'), ('rmwgoiqtqom', 'NN'), ('uqhkacqzs3q', 'JJ'), ('ivmixwky_u4', 'NN'), ('n7hckwv84pm', 'RB'), ('1vnsvkz_d_c', 'CD'), ('slsjmn2adxi', 'JJ'), ('gxjvpy2r33i', 'NN'), ('oynk0kc71wo', 'NN'), ('a6rytcqdru', 'JJ'), ('vlz1swlbfpe', 'JJ'), ('0s-w3j5u-a', 'JJ'), ('4fve_45zu_i', 'CD'), ('f8yxjaw-oju', 'JJ'), ('qhf0snhnttw', 'NN'), ('k2i66c4blv', 'NN'), ('bbyyjkerfvu', 'NN'), ('qfwq07njvc0', 'VBD'), ('9avba_km2oc', 'CD'), ('fk624czitkk', 'JJ'), ('3x0k_dbv-zm', 'JJ'), ('xbonke_allm', 'NN'), ('e28gesztdm0', 'VBZ'), ('4_chq1kvc7c', 'CD'), ('whe89rdskg4', 'JJ'), ('lu0qw1-ikng', 'JJ'), ('3jjorb3jnsg', 'CD'), ('0g2lxo-znek', 'JJ'), ('y5kspmvkstg', 'JJ'), ('adedmok7-u4', 'JJ'), ('oj1e-d4gx8a', 'JJ'), ('o7x2notwdum', 'NN'), ('pochyaj_0-q', 'JJ'), ('du8r2zmzgjw', 'NN'), ('_jun7yooxh', 'NNP'), ('vhvggggnqtg', 'NN'), ('kchaagomdl', 'VBD'), ('4awkvtfgkfu', 'CD'), ('azfy1-jrh6q', 'JJ'), ('jik6yspvtcc', 'NN'), ('pyaxsbsfbc8', 'NN'), ('rzw_fpqbe_o', 'VBD'), ('0ssvqdwkr_e', 'CD'), ('t43tyhc3hhi', 'NN'), ('r1tzwtdlzw4', 'NN'), ('mlhmdaszg9i', 'NN'), ('kw7phrlolgu', 'NN'), ('xt9kkvv6jgm', 'NNP'), ('mow0hlt0ana', 'VBZ'), ('effx-6ehfa0', 'JJ'), ('k2djdd7upxu', 'NN'), ('pm6gd3l2lo8', 'NN'), ('4rs8yiucsec', 'CD'), ('blw6p2eyn0c', 'NN'), ('omx7-t0usa0', 'JJ'), ('by095l3z4zu', 'NN'), ('7q8aokoih9i', 'CD'), ('hkk7mpl1iri', 'NN'), ('nhcvqiboaoo', 'JJ'), ('moij1ihusgi', 'JJ'), ('3cpecr-sfi', 'JJ'), ('z3--pczb_bc', 'NN'), ('fsehw2twma', 'NN'), ('jp40h9h_cu0', 'NN'), ('h5mwwti7xdg', 'NN'), ('nd1emgmi3hg', 'JJ'), ('niok9_npruw', 'JJ'), ('1qqydutnyn4', 'CD'), ('0he9-8nuw-m', 'JJ'), ('6b6zjmpxeya', 'CD'), ('ohhupzwrpdc', 'JJ'), ('vfa6w7rqoqg', 'NN'), ('quuohsun9wi', 'NN'), ('lov7pol3ama', 'VBD'), ('4_dipjsorvi', 'CD'), ('d6x6k5yygnk', 'NN'), ('smit1qzjk_m', 'NN'), ('j2npv0gxg6m', 'NN'), ('lolul7_hgiu', 'VBD'), ('cip3lmqq7y0', 'JJ'), ('5fiauk1fqwa', 'CD'), ('aj53lv9rywo', 'JJ'), ('q7fhfaxxmmi', 'NN'), ('baqu4tnghla', 'NN'), ('s5dncbcv_wu', 'NN'), ('ysbzz5ggdf8', 'NN'), ('tlsxqnz9mei', 'NN'), ('of1cgdqrckq', 'VBP'), ('wyhwxuaa2ga', '$'), ('1mnaxyra64', 'CD'), ('iik_73gssw0', 'NN'), ('zwly6dbtbsa', 'NN'), ('kone4snfa64', 'NN'), ('i_uomjbreb', 'JJ'), ('fsh3v3sxkc', 'JJ'), ('q1-hos4qaj8', 'JJ'), ('z9dbxjjfdwm', 'NN'), ('698inxwnj58', 'CD'), ('x11x7ix_bz4', 'NNP'), ('rr4n46i7tda', 'VBD'), ('7dgm4ut6alg', 'CD'), ('uq1hkk-yk0', 'JJ'), ('zl_vb-8_how', 'NN'), ('xse8ebny4jk', 'NNP'), ('p2tbngbyzxi', 'NN'), ('banswdwpwo0', 'VBD'), ('ztk9-v1jcia', 'JJ'), ('drjmcs9-7bi', 'JJ'), ('coxsty6fof0', 'NN'), ('5kithc_aliu', 'CD'), ('-gajhf_4_j8', 'NN'), ('kgtffgbvz_i', 'NN'), ('fvhlqik1yti', 'JJ'), ('e5rvlguto', 'NN'), ('8ligxnu9onk', 'CD'), ('dfo-asmyrp8', 'JJ'), ('p9vgut3huz', 'NN'), ('2lzzptiedhq', 'CD'), ('4xjnll3rq_o', 'CD'), ('xofwr2trn18', 'NN'), ('vb8frwtqrmg', 'NN'), ('vuxv2nwso18', 'NN'), ('qjyybsbscq0', 'NN'), ('wrkmn8p4j8k', 'NN'), ('p37bzbqzeam', 'NN'), ('hdngbuzue8q', 'NN'), ('-u7ymfhad3i', 'NNP'), ('_hvhapdzsuk', 'NNP'), ('lpfcwgfh2h', 'VBD'), ('3wvj_gtgb7', 'CD'), ('ifpvke-2uxk', 'JJ'), ('2p0fhw3c9rq', 'CD'), ('zirgvjd_xbw', 'NN'), ('y4d1ktvetkm', 'NN'), ('enejqqjkttu', 'NN'), ('qydp1dllsbi', 'NN'), ('n9otnzkza6i', 'JJ'), ('z5dbfubgwj4', 'NN'), ('aldo3chhnlq', 'NN'), ('z4jp0omvjb', 'NN'), ('dbmfrjvbl4w', 'NN'), ('r7lixd7ka3a', 'NN'), ('um4nppflvd8', 'JJ'), ('l4rtpkfmv1e', 'NN'), ('dtsjl_xoi3w', 'NN'), ('r9dfqno5ll4', 'NN'), ('nkq81wf_830', 'JJ'), ('7dx-7tcfh_4', 'JJ'), ('1oe19ls7_po', 'CD'), ('opcnt3qfypc', 'JJ'), ('1cgbdmysldw', 'CD'), ('ywqvmq50yfi', 'NN'), ('zwnwvbdonzu', 'NN'), ('obopiasfthw', 'VBP'), ('hjem9fj1yr0', '$'), ('0zigtlzcqtk', 'CD'), ('h_v4s1worjo', 'NN'), ('jbgolnzsfgq', 'NN'), ('ooagarbjh_', 'VBD'), ('9e2rvpegqb', 'CD'), ('twm9my8s7ya', 'NN'), ('oyh4kaeno10', 'NN'), ('kerep0o4wom', 'NN'), ('zq_pm0bbcii', 'NN'), ('yvzyshegt0g', 'NN'), ('usxtxndi8ba', 'JJ'), ('8zxxwp9wjq0', 'CD'), ('wac02yt7_la', 'NN'), ('lhislpwsj5', 'NN'), ('f9j_deqiqta', 'NN'), ('teb_qoxjs1k', 'NN'), ('r7n7o1rq068', 'NN'), ('wlezmultixc', 'NN'), ('vrpzsp2gl4m', 'NN'), ('nvzdm31rjju', 'JJ'), ('hjfvy8kz_t4', 'JJ'), ('8-3xe7rmg3w', 'JJ'), ('wp-hpukb9ei', 'JJ'), ('rxgsregmsx', 'NN'), ('6hbta4vkzlw', 'CD'), ('isyqz_xp4w', 'NN'), ('ysiekgdaqnu', 'NN'), ('mitcs1kev_8', 'NN'), ('oejnuntqjua', 'NN'), ('uwivpvtrg1a', 'JJ'), ('d7zezfebla', 'NN'), ('nof_te5vgt', 'RB'), ('35ylsq39aai', 'CD'), ('m6sdl7nw9wq', 'NNS'), ('jj2wxkjpjvg', 'JJ'), ('29ej2lfxvhq', 'CD'), ('ezkce3bxxpk', 'JJ'), ('egbn-r3uzqi', 'JJ'), ('b4ligtawbb', 'NN'), ('flrzg8bgppi', 'NN'), ('xxdkycicmpu', 'VBD'), ('9wqlezc2go8', 'CD'), ('_ni4saqznwo', 'NNP'), ('kfgjmo1y3n4', 'NN'), ('urniaxhie7g', 'JJ'), ('h65ll6r3tgc', 'VBD'), ('xq-neoae9c', 'JJ'), ('2po5ejtvfbm', 'CD'), ('e-uoc9rhday', 'JJ'), ('wwisakymdg4', 'NN'), ('_ic8f98pwwi', 'NNP'), ('nlk6i963ng', 'CC'), ('ke0notnhllc', 'VB'), ('gyb6lmyw7du', 'JJ'), ('at05fxubmto', 'NN'), ('tnp0uga9ha', 'NN'), ('ukqjv_h9udi', 'JJ'), ('yk-aoolyat', 'JJ'), ('tovzxbxuohk', 'NN'), ('-lxbq1d1lho', 'NNP'), ('bo8tu2ztrkg', 'NN'), ('g1cac6wdpki', 'NN'), ('gkybbkrey6c', 'VBD'), ('xc-vbfgtycg', 'JJ'), ('wtbhilnspiu', 'NN'), ('szoh0ehakay', 'NN'), ('buu5ckk4je4', 'NN'), ('yjmop1j32vi', 'NN'), ('rlsot3_cbhg', 'NN'), ('ikvivnxodhi', 'NN'), ('v6g2frgk2uc', 'NN'), ('kmysl0ftxwu', 'VBD'), ('y2o8upcxcqa', 'RB'), ('78nmea_4wda', 'CD'), ('lyhyjn-lamc', 'JJ'), ('njv0mfife1w', 'JJ'), ('tl0ac5v2t3g', 'NN'), ('ugza-_g9198', 'JJ'), ('ya84livwep', 'JJ'), ('g-svwzd4do4', 'JJ'), ('aki9fe14y-8', 'JJ'), ('yavpw_zkjmi', 'NN'), ('ebbdmde6bz4', 'VBZ'), ('6e0pt5qxipg', 'CD'), ('up7qj4gvdq8', 'JJ'), ('akhys_zgpww', 'NN'), ('wyuec0ppz68', 'VBD'), ('36ku2qtjpja', 'CD'), ('pitmk0mcau8', 'JJ'), ('orreq0e-9lg', 'JJ'), ('r8b1bf44qt0', 'NN'), ('71rwnqfk6pc', 'CD'), ('ogtmw7cylr4', 'NN'), ('xyv0qatsyt', 'NNP'), ('vpz_fjsgj2e', 'NN'), ('dhshfl0olwc', 'NN'), ('0ngvkezkblw', 'CD'), ('rgmkl4qcm50', 'NN'), ('xsqbxl5m4_o', 'NNP'), ('junccrlswi', 'NN'), ('zn2d76wtwn0', 'NN'), ('t9noqiqs3iy', 'VBD'), ('28ohcqpwhog', 'CD'), ('mwyep8skcmc', 'NN'), ('q98j4e5qlt4', 'NN'), ('sgzuxuthnna', 'VBD'), ('1fw-_yghja', 'JJ'), ('gnr2m6ghiri', 'NN'), ('8t_vcnl2w_q', 'CD'), ('hjwpqb1bexc', 'JJ'), ('hml2l-bcuuq', 'JJ'), ('nfkzscsobcg', 'NN'), ('e3fnsghe8e', 'NN'), ('gubuqdr9i5i', 'VBD'), ('4nt2fv_i-i', 'JJ'), ('xeutj2g_b_w', 'NN'), ('3dt7ywhnsd8', 'CD'), ('nsuv3gdjf3i', 'JJ'), ('xeb_hou1ygu', 'NNP'), ('snwjtu6kyso', 'NN'), ('tg98lcvm6uu', 'NN'), ('wumyd3wixkk', 'VBD'), ('es8sj-1cfcu', 'JJ'), ('5ktfym1sr-', 'JJ'), ('o1janti30do', 'NN'), ('kunziznnxuy', 'VBD'), ('iuefa-e6iaw', 'JJ'), ('6shaa3lvrd', 'CD'), ('8jzicgrg17', 'CD'), ('u2hs_hswgmq', 'JJ'), ('9wogzdgg8p0', 'CD'), ('-n8ciu_6kq', 'JJ'), ('7v4_2xksyc0', 'CD'), ('hvzss8savlm', 'NN'), ('sonvnatcrom', 'NN'), ('xz7vvgvzoa0', 'NNP'), ('ihir7tssfj', 'VBZ'), ('2w9ksw1ikx', 'CD'), ('ssufmw9s5w4', 'NN'), ('6irnybbrjx4', 'CD'), ('7z8axykkifa', 'CD'), ('hsbtbuz-55q', 'JJ'), ('nlhmgs3qfxo', 'NN'), ('aqj0o44bwf', 'NN'), ('wttz4fb1yv', 'VBD'), ('62saalhieqw', 'CD'), ('xenifynndca', 'JJ'), ('ybh-d47xnzm', 'JJ'), ('clqctzqeqzi', 'NN'), ('6j_qadt5acc', 'CD'), ('5_fqwwyz6w0', 'CD'), ('cgxphw06jvg', 'NN'), ('-rjjto51yki', 'VBD'), ('8mq0r_vno5q', 'CD'), ('fz1hobau6im', 'NN'), ('uvbfoysyw5w', 'JJ'), ('8mv0ql178qa', 'CD'), ('u1cogbww-pa', 'JJ'), ('qtsror4q_pm', 'NN'), ('wiojswyy1pa', 'NN')]\n"
     ]
    }
   ],
   "source": [
    "# Perform stemming\n",
    "stemmed_text = perform_stemming(filtered_captions)\n",
    "print(\"Stemmed text:\", stemmed_text)\n",
    "\n",
    "# Perform lemmatization\n",
    "lemmatized_text = perform_lemmatization(stemmed_text)\n",
    "print(\"Lemmatized text:\", lemmatized_text)\n",
    "\n",
    "# Perform part-of-speech tagging\n",
    "pos_tagged_text = perform_pos_tagging(lemmatized_text)\n",
    "print(\"Part-of-speech tagged text:\", pos_tagged_text)"
   ]
  },
  {
   "cell_type": "markdown",
   "id": "79e5cfb1-ed76-41f6-8a93-6f68fa8248db",
   "metadata": {},
   "source": [
    "## Step 4\n",
    "\n",
    "1. Embedding Generation: Convert the preprocessed text and questions into vector embeddings. (Pre-trained LLMs, word2vec)\n",
    "2. Question-Document Matching: Take the document, embeddings and create a vector space. Now, Use techniques like cosine similarity or other similarity metrics to match the question embeddings with the document embeddings.\n"
   ]
  },
  {
   "cell_type": "code",
   "execution_count": 56,
   "id": "e07982a8-2137-4d18-8f9f-6bfb4646f54a",
   "metadata": {},
   "outputs": [
    {
     "name": "stderr",
     "output_type": "stream",
     "text": [
      "/Library/Frameworks/Python.framework/Versions/3.12/lib/python3.12/site-packages/tqdm/auto.py:21: TqdmWarning: IProgress not found. Please update jupyter and ipywidgets. See https://ipywidgets.readthedocs.io/en/stable/user_install.html\n",
      "  from .autonotebook import tqdm as notebook_tqdm\n"
     ]
    }
   ],
   "source": [
    "from transformers import BertModel, BertTokenizer\n",
    "import torch\n"
   ]
  },
  {
   "cell_type": "code",
   "execution_count": 57,
   "id": "669bc972-cf1b-4838-bdea-88318a2d3253",
   "metadata": {},
   "outputs": [
    {
     "name": "stderr",
     "output_type": "stream",
     "text": [
      "tokenizer_config.json: 100%|█████████████████| 28.0/28.0 [00:00<00:00, 28.7kB/s]\n",
      "vocab.txt: 100%|█████████████████████████████| 232k/232k [00:00<00:00, 1.39MB/s]\n",
      "tokenizer.json: 100%|████████████████████████| 466k/466k [00:00<00:00, 2.33MB/s]\n",
      "config.json: 100%|█████████████████████████████| 570/570 [00:00<00:00, 1.63MB/s]\n",
      "model.safetensors: 100%|█████████████████████| 440M/440M [00:22<00:00, 19.8MB/s]\n"
     ]
    }
   ],
   "source": [
    "# Load pre-trained BERT model and tokenizer\n",
    "model_name = 'bert-base-uncased'  # You can choose from various pre-trained BERT models\n",
    "tokenizer = BertTokenizer.from_pretrained(model_name)\n",
    "model = BertModel.from_pretrained(model_name)"
   ]
  },
  {
   "cell_type": "code",
   "execution_count": 59,
   "id": "cdb8037f-f30b-423d-8624-b88ec5a1fd51",
   "metadata": {},
   "outputs": [],
   "source": [
    "def generating_embeddings(tokenizer, model, text, questions):\n",
    "    text_tokens = tokenizer.encode(text, add_special_tokens=True)\n",
    "    question_tokens = [tokenizer.encode(question, add_special_tokens=True) for question in questions]\n",
    "    \n",
    "    # Convert token IDs to tensors\n",
    "    text_input_ids = torch.tensor(text_tokens).unsqueeze(0)  # Add batch dimension\n",
    "    question_input_ids = [torch.tensor(question).unsqueeze(0) for question in question_tokens]  # Add batch dimension for each question\n",
    "    \n",
    "    # Generate embeddings for text\n",
    "    with torch.no_grad():\n",
    "        text_outputs = model(text_input_ids)\n",
    "    text_embeddings = text_outputs[0]  # Extract hidden states\n",
    "    \n",
    "    # Generate embeddings for questions\n",
    "    question_embeddings = []\n",
    "    for question_input_id in question_input_ids:\n",
    "        with torch.no_grad():\n",
    "            question_outputs = model(question_input_id)\n",
    "        question_embedding = question_outputs[0]  # Extract hidden states\n",
    "        question_embeddings.append(question_embedding)\n",
    "    return text_embeddings, question_embeddings"
   ]
  },
  {
   "cell_type": "code",
   "execution_count": null,
   "id": "7c146f51-66d9-44e5-b312-319c8d4c6487",
   "metadata": {},
   "outputs": [],
   "source": [
    "captions_embeddings = []\n",
    "questions_embeddings = []\n",
    "for i in len(concatenated_captions):\n",
    "    text = list(concatenated_captions.values())[i]\n",
    "    questions = list(questions.values())[i]\n",
    "    text_embeddings, question_embeddings = generating_embeddings(tokenizer, model, text, questions)\n",
    "    captions_embeddings.append()\n",
    "    questions_embeddings.append()\n",
    "    \n",
    "    "
   ]
  }
 ],
 "metadata": {
  "kernelspec": {
   "display_name": "Python 3 (ipykernel)",
   "language": "python",
   "name": "python3"
  },
  "language_info": {
   "codemirror_mode": {
    "name": "ipython",
    "version": 3
   },
   "file_extension": ".py",
   "mimetype": "text/x-python",
   "name": "python",
   "nbconvert_exporter": "python",
   "pygments_lexer": "ipython3",
   "version": "3.12.1"
  }
 },
 "nbformat": 4,
 "nbformat_minor": 5
}
